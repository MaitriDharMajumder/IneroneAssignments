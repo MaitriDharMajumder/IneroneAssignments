{
  "cells": [
    {
      "cell_type": "code",
      "execution_count": null,
      "metadata": {
        "id": "YC91wtqilQZB"
      },
      "outputs": [],
      "source": []
    },
    {
      "cell_type": "markdown",
      "metadata": {
        "id": "vzwPoL-zmIiN"
      },
      "source": [
        "**1. What is a lambda function in Python, and how does it differ from a regular function?**"
      ]
    },
    {
      "cell_type": "markdown",
      "metadata": {
        "id": "JojasLK-mLt1"
      },
      "source": [
        "Lambda functions, also known as anonymous functions, are small, inline functions in Python that can have any number of arguments, but can only have one expression. They are defined using the lambda keyword, followed by the input parameters and the expression to be evaluated.\n",
        "\n",
        "Lambda functions are different from regular functions in a few key ways:\n",
        "\n",
        "Syntax:\n",
        "Lambda functions have a more compact syntax compared to regular functions, and they are typically used for simple operations.\n",
        "Limited Expressions:\n",
        "Lambda functions can only contain a single expression, while regular functions can have multiple statements and more complex logic.\n",
        "Namelessness:\n",
        "Lambda functions are anonymous, meaning they don't have a defined name. They are usually used where a small function is needed for a short period and not required to be reused extensively.\n",
        "Here's an example of a lambda function that calculates the square of a number:\n",
        "\n",
        "\n"
      ]
    },
    {
      "cell_type": "code",
      "execution_count": null,
      "metadata": {
        "colab": {
          "base_uri": "https://localhost:8080/"
        },
        "id": "s248AC75nHdf",
        "outputId": "835cde82-e4bb-4fcd-c864-e89d03a97ad7"
      },
      "outputs": [
        {
          "name": "stdout",
          "output_type": "stream",
          "text": [
            "5.0\n"
          ]
        }
      ],
      "source": [
        "squareroot= lambda x:x**(0.5)\n",
        "result=squareroot(25)\n",
        "print(result)"
      ]
    },
    {
      "cell_type": "markdown",
      "metadata": {
        "id": "9ERXifF1nZNT"
      },
      "source": [
        "Lambda functions can be especially useful in scenarios where we need a quick function definition for a specific task, such as when using functions like map(), filter(), or in other contexts where a function is required as an argument. For instance, when we need to perform a simple transformation on elements of a list:"
      ]
    },
    {
      "cell_type": "code",
      "execution_count": null,
      "metadata": {
        "colab": {
          "base_uri": "https://localhost:8080/"
        },
        "id": "XRqLibPknlkw",
        "outputId": "786a5b02-4978-4219-9668-5350c2584e33"
      },
      "outputs": [
        {
          "name": "stdout",
          "output_type": "stream",
          "text": [
            "[1, 4, 9, 16, 25, 36]\n"
          ]
        }
      ],
      "source": [
        "nums=[1,2,3,4,5,6]\n",
        "sqnums=map(lambda x: x**2,nums)\n",
        "print(list(sqnums))"
      ]
    },
    {
      "cell_type": "markdown",
      "metadata": {
        "id": "N4cZPStvn61q"
      },
      "source": [
        "**2. Can a lambda function in Python have multiple arguments? If yes, how can you define and use\n",
        "them?**"
      ]
    },
    {
      "cell_type": "markdown",
      "metadata": {
        "id": "ErOhos8nn8tb"
      },
      "source": [
        "Yes, a lambda function in Python can have multiple arguments. we can define and use them in the same way we would with a single argument, by listing the arguments separated by commas in the lambda expression.\n",
        "\n",
        "Example:"
      ]
    },
    {
      "cell_type": "code",
      "execution_count": null,
      "metadata": {
        "colab": {
          "base_uri": "https://localhost:8080/"
        },
        "id": "2nUtss_tofXV",
        "outputId": "e9128579-3a35-42ef-bfe1-fee3267fb3fd"
      },
      "outputs": [
        {
          "name": "stdout",
          "output_type": "stream",
          "text": [
            "Addition result 15\n"
          ]
        }
      ],
      "source": [
        "addition=lambda x,y: x+y\n",
        "r=addition(5,10)\n",
        "print(\"Addition result\",r)"
      ]
    },
    {
      "cell_type": "markdown",
      "metadata": {
        "id": "52ebgNCapZ81"
      },
      "source": [
        "**3. How are lambda functions typically used in Python? Provide an example use case.**"
      ]
    },
    {
      "cell_type": "markdown",
      "metadata": {
        "id": "vdCOLFuhphBy"
      },
      "source": [
        "Lambda functions in Python are typically used for small, one-time operations where a full function definition with a name isn't necessary. They are commonly used in situations where a function is required as an argument to another function, like map(), filter(), and sorted(), or in cases where you want to define a simple function inline.\n",
        "\n",
        "Here's an example use case of a lambda function with the sorted() function:"
      ]
    },
    {
      "cell_type": "code",
      "execution_count": null,
      "metadata": {
        "colab": {
          "base_uri": "https://localhost:8080/"
        },
        "id": "184qCU81tbdr",
        "outputId": "8487c6d3-93f0-4466-c514-b4182ff2f0ee"
      },
      "outputs": [
        {
          "name": "stdout",
          "output_type": "stream",
          "text": [
            "[{'name': 'Mithi', 'age': 20}, {'name': 'Ananya', 'age': 21}, {'name': 'Maitri', 'age': 24}]\n"
          ]
        }
      ],
      "source": [
        "students=[{\"name\":\"Maitri\",\"age\":24},{\"name\":\"Mithi\",\"age\":20},{\"name\":\"Ananya\",\"age\":21}]\n",
        "sorted_students= sorted(students,key=lambda student: student[\"age\"])\n",
        "print(sorted_students)"
      ]
    },
    {
      "cell_type": "markdown",
      "metadata": {
        "id": "pYlkBfm3uzwb"
      },
      "source": [
        "**4. What are the advantages and limitations of lambda functions compared to regular functions in\n",
        "Python?**"
      ]
    },
    {
      "cell_type": "markdown",
      "metadata": {
        "id": "27B243vHwSFR"
      },
      "source": [
        "Lambda functions in Python have both advantages and limitations compared to regular functions:\n",
        "\n",
        "**Advantages of Lambda Functions:**\n",
        "\n",
        "**Conciseness:** Lambda functions are compact and allow you to define simple operations in a concise manner, often in a single line of code.<br><br>\n",
        "**Anonymous:** Lambda functions are anonymous, meaning they don't require a defined name. This can be useful when you need a short function for a specific task without creating a full function definition.<br><br>\n",
        "**Readability:** For very short operations, using a lambda function inline can enhance code readability by reducing the need for named function definitions.<br>\n",
        "\n",
        "**Limitations of Lambda Functions:**<br>\n",
        "\n",
        "**Single Expression:** Lambda functions can only contain a single expression, which limits their ability to handle more complex logic.<br><br>\n",
        "**Limited Statements:** You cannot include statements like loops, assignments, or multiple expressions in a lambda function. Regular functions can handle more comprehensive logic.<br><br>\n",
        "**Readability:** While lambda functions can enhance readability for simple operations, they might reduce readability for more complex operations due to their conciseness."
      ]
    },
    {
      "cell_type": "markdown",
      "metadata": {
        "id": "xlRHIonMxxs0"
      },
      "source": [
        "**5. Are lambda functions in Python able to access variables defined outside of their own scope?\n",
        "Explain with an example.**"
      ]
    },
    {
      "cell_type": "markdown",
      "metadata": {
        "id": "3cKi8DUOyBvV"
      },
      "source": [
        "Yes, lambda functions in Python are able to access variables defined outside of their own scope. This is because lambda functions have access to the variables from the surrounding scope in which they are defined. This behavior is similar to regular functions in Python.\n",
        "\n",
        "Here's an example"
      ]
    },
    {
      "cell_type": "code",
      "execution_count": null,
      "metadata": {
        "colab": {
          "base_uri": "https://localhost:8080/"
        },
        "id": "8aSeHtdbyVOT",
        "outputId": "43a061ef-7abf-4c12-fab3-c484f991bd51"
      },
      "outputs": [
        {
          "name": "stdout",
          "output_type": "stream",
          "text": [
            "24\n"
          ]
        }
      ],
      "source": [
        "a=10\n",
        "add= lambda b: a + b\n",
        "result=add(14)\n",
        "print(result)\n"
      ]
    },
    {
      "cell_type": "code",
      "execution_count": null,
      "metadata": {
        "id": "vY12bOCv0QqI"
      },
      "outputs": [],
      "source": [
        "**6. Write a lambda function to calculate the square of a given number.**"
      ]
    },
    {
      "cell_type": "code",
      "execution_count": null,
      "metadata": {
        "colab": {
          "base_uri": "https://localhost:8080/"
        },
        "id": "NrePs98c0Y4K",
        "outputId": "99869515-b23f-420e-ba31-5b1e92d5ca18"
      },
      "outputs": [
        {
          "name": "stdout",
          "output_type": "stream",
          "text": [
            "enter the value 6\n",
            "the square of  6.0 is 36.0\n"
          ]
        }
      ],
      "source": [
        "square_function = lambda x: x**2\n",
        "value=float(input(\"enter the value \"))\n",
        "print(\"the square of \", value,\"is\",square_function(value))"
      ]
    },
    {
      "cell_type": "markdown",
      "metadata": {
        "id": "MsIbDv1C1wmQ"
      },
      "source": [
        " **7. Create a lambda function to find the maximum value in a list of integers.**"
      ]
    },
    {
      "cell_type": "code",
      "execution_count": null,
      "metadata": {
        "colab": {
          "base_uri": "https://localhost:8080/"
        },
        "id": "qd0eIJCK2BIP",
        "outputId": "579426c5-f94b-49ac-9519-c38e0383e2f0"
      },
      "outputs": [
        {
          "name": "stdout",
          "output_type": "stream",
          "text": [
            "20\n"
          ]
        }
      ],
      "source": [
        "int_list=[1,2,3,4,5,6,7,8,9,10,11,12,13,14,15,16,17,18,20]\n",
        "maximum= lambda value : max(value)\n",
        "print(maximum(int_list))"
      ]
    },
    {
      "cell_type": "markdown",
      "metadata": {
        "id": "MvH44nT2893Y"
      },
      "source": [
        "**8. Implement a lambda function to filter out all the even numbers from a list of integers.**"
      ]
    },
    {
      "cell_type": "code",
      "execution_count": null,
      "metadata": {
        "colab": {
          "base_uri": "https://localhost:8080/"
        },
        "id": "ehgyyKjN9JLs",
        "outputId": "c9b17beb-4fbb-43a9-ac8e-278b735dc384"
      },
      "outputs": [
        {
          "name": "stdout",
          "output_type": "stream",
          "text": [
            "[2, 4, 6, 8, 10, 12, 14, 16, 18, 20]\n"
          ]
        }
      ],
      "source": [
        "int_list=[1,2,3,4,5,6,7,8,9,10,11,12,13,14,15,16,17,18,20]\n",
        "even_numbers= list(filter(lambda x: x%2==0 ,int_list))\n",
        "print(even_numbers)"
      ]
    },
    {
      "cell_type": "markdown",
      "metadata": {
        "id": "uadIP9VwLmZ5"
      },
      "source": [
        "**9. Write a lambda function to sort a list of strings in ascending order based on the length of each\n",
        "string.**"
      ]
    },
    {
      "cell_type": "code",
      "execution_count": null,
      "metadata": {
        "colab": {
          "base_uri": "https://localhost:8080/"
        },
        "id": "hpzUqr6UL5l0",
        "outputId": "d3ed4168-441f-48bb-c965-f2e17b4e51c3"
      },
      "outputs": [
        {
          "name": "stdout",
          "output_type": "stream",
          "text": [
            "['crop', 'tube', 'tunic', 'peplos', 'ponchos', 'camisole', 'polo neck']\n"
          ]
        }
      ],
      "source": [
        "list_of_strings=[\"crop\",\"tube\",\"tunic\",\"polo neck\",\"peplos\",\"ponchos\",\"camisole\"]\n",
        "sorted_list_of_strings=sorted(list_of_strings,key= lambda s : len(s),)\n",
        "print(sorted_list_of_strings)"
      ]
    },
    {
      "cell_type": "markdown",
      "metadata": {
        "id": "agC4rBT3RvS8"
      },
      "source": [
        "**10. Create a lambda function that takes two lists as input and returns a new list containing the\n",
        "common elements between the two lists.**"
      ]
    },
    {
      "cell_type": "code",
      "execution_count": null,
      "metadata": {
        "colab": {
          "base_uri": "https://localhost:8080/"
        },
        "id": "fOVrCxOXR5I0",
        "outputId": "07414989-977d-40e7-d106-f6244da123b2"
      },
      "outputs": [
        {
          "name": "stdout",
          "output_type": "stream",
          "text": [
            "['exponential', 'cauchy']\n"
          ]
        }
      ],
      "source": [
        "list1=[\"normal\",\"exponential\",\"poisson\",\"cauchy\"]\n",
        "list2=[\"binobial\",\"geometrical\",\"exponential\",\"gamma\",\"cauchy\"]\n",
        "common_elememts= lambda L1 ,L2 : [x for x in L1 if x in L2]\n",
        "print(common_elememts(list1,list2))"
      ]
    },
    {
      "cell_type": "markdown",
      "metadata": {
        "id": "Ziuur8bVLuJ4"
      },
      "source": [
        "**11. Write a recursive function to calculate the factorial of a given positive integer.**"
      ]
    },
    {
      "cell_type": "code",
      "execution_count": null,
      "metadata": {
        "colab": {
          "base_uri": "https://localhost:8080/"
        },
        "id": "AiTI-2z8VGvH",
        "outputId": "51c3e4ec-964a-493b-a141-d667716de92a"
      },
      "outputs": [
        {
          "name": "stdout",
          "output_type": "stream",
          "text": [
            "enter the number 5\n",
            "the factorial of 5 is 120\n"
          ]
        }
      ],
      "source": [
        "def factorial(n):\n",
        "  if n==0:\n",
        "    return 1\n",
        "  else:\n",
        "    return n*factorial(n-1)\n",
        "value=int(input(\"enter the number \"))\n",
        "if value<0:\n",
        "  print(\"factorial can not be performed for negative number\")\n",
        "else:\n",
        "  print(f\"the factorial of {value} is {factorial(value)}\")"
      ]
    },
    {
      "cell_type": "markdown",
      "metadata": {
        "id": "bTIMaZDxYCjI"
      },
      "source": [
        "**12. Implement a recursive function to compute the nth Fibonacci number.**"
      ]
    },
    {
      "cell_type": "code",
      "execution_count": null,
      "metadata": {
        "colab": {
          "base_uri": "https://localhost:8080/"
        },
        "id": "lGbS5MZyYO7f",
        "outputId": "17bd2838-b3df-4c9c-8f16-ed27bc2e0607"
      },
      "outputs": [
        {
          "name": "stdout",
          "output_type": "stream",
          "text": [
            "enter the value 7\n",
            "the fibonacci value of 7 is 13\n"
          ]
        }
      ],
      "source": [
        "def fibonacci(n):\n",
        "  if n==0:\n",
        "    return 0\n",
        "  elif n==1:\n",
        "    return 1\n",
        "  else:\n",
        "    return  fibonacci(n-1) + fibonacci(n-2)\n",
        "value = int(input(\"enter the value \"))\n",
        "if value<0:\n",
        "  print(\"fibonacci can not be performed for negative number\")\n",
        "else:\n",
        "  print(f\"the fibonacci value of {value} is {fibonacci(value)}\")"
      ]
    },
    {
      "cell_type": "markdown",
      "metadata": {
        "id": "A1YyjLJ4dVYG"
      },
      "source": [
        "**13. Create a recursive function to find the sum of all the elements in a given list.**"
      ]
    },
    {
      "cell_type": "code",
      "execution_count": null,
      "metadata": {
        "colab": {
          "base_uri": "https://localhost:8080/"
        },
        "id": "z3a3getfdh8C",
        "outputId": "a57aca73-e267-45f7-ad70-1098a80a9a04"
      },
      "outputs": [
        {
          "output_type": "stream",
          "name": "stdout",
          "text": [
            "191\n"
          ]
        }
      ],
      "source": [
        "int_list=[1,2,3,4,5,6,7,8,9,10,11,12,13,14,15,16,17,18,20]\n",
        "def sum_of_the_elements(lst):\n",
        "    if not lst:\n",
        "        return 0\n",
        "    else:\n",
        "        return lst[0] + sum_of_the_elements(lst[1:])\n",
        "print(sum_of_the_elements(int_list))"
      ]
    },
    {
      "cell_type": "markdown",
      "source": [
        "**14. Write a recursive function to determine whether a given string is a palindrome.**"
      ],
      "metadata": {
        "id": "u9xVWOl-kbnP"
      }
    },
    {
      "cell_type": "code",
      "source": [
        "def palindrome(s):\n",
        "  if len(s)==0:\n",
        "    return True\n",
        "  elif s[0]!=s[:-1]:\n",
        "    return False\n",
        "  else:\n",
        "    return palindrome(s[1:-1])\n",
        "word=input(\"enter the word \")\n",
        "if palindrome(word):\n",
        "  print(f\"the {word} is palindrome\")\n",
        "else:\n",
        "      print(f\"the {word} is not palindrome\")\n"
      ],
      "metadata": {
        "id": "v6eco0aikh02",
        "colab": {
          "base_uri": "https://localhost:8080/"
        },
        "outputId": "63bd4d01-427a-45f1-f348-39117fd8f331"
      },
      "execution_count": 65,
      "outputs": [
        {
          "output_type": "stream",
          "name": "stdout",
          "text": [
            "enter the word level\n",
            "the level is not palindrome\n"
          ]
        }
      ]
    },
    {
      "cell_type": "markdown",
      "source": [
        "**15. Implement a recursive function to find the greatest common divisor (GCD) of two positive integers.**"
      ],
      "metadata": {
        "id": "PIRAGO5qnDJT"
      }
    },
    {
      "cell_type": "code",
      "source": [
        "def gcd(x,y):\n",
        "  if y==0:\n",
        "    return x\n",
        "  else:\n",
        "    return gcd(y,x%y)\n",
        "n1 = int(input(\"enter the value \"))\n",
        "n2 = int(input(\"enter the value \"))\n",
        "if n1<=0:\n",
        "  print(\"gcd2 can not be performed for non positive number\")\n",
        "elif n2<=0:\n",
        "  print(\"gcd can not be performed for non positive number\")\n",
        "else:\n",
        "  print(f\"the gcd  of {n1} and {n2} is {gcd(n1,n2)}\")"
      ],
      "metadata": {
        "colab": {
          "base_uri": "https://localhost:8080/"
        },
        "id": "9Mg82LRaplZk",
        "outputId": "1ba16c9e-7ab3-40fd-a944-45a6fda5bccd"
      },
      "execution_count": 67,
      "outputs": [
        {
          "output_type": "stream",
          "name": "stdout",
          "text": [
            "enter the value 10\n",
            "enter the value 2\n",
            "the gcd  of 10 and 2 is 2\n"
          ]
        }
      ]
    }
  ],
  "metadata": {
    "colab": {
      "provenance": []
    },
    "kernelspec": {
      "display_name": "Python 3",
      "name": "python3"
    },
    "language_info": {
      "name": "python"
    }
  },
  "nbformat": 4,
  "nbformat_minor": 0
}