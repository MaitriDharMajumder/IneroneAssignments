{
  "nbformat": 4,
  "nbformat_minor": 0,
  "metadata": {
    "colab": {
      "provenance": []
    },
    "kernelspec": {
      "name": "python3",
      "display_name": "Python 3"
    },
    "language_info": {
      "name": "python"
    }
  },
  "cells": [
    {
      "cell_type": "markdown",
      "source": [
        "**1. In the below elements which of them are values or an expression? eg:- values can be\n",
        "integer or string and expressions will be mathematical operators.<br>\n",
        "*<br>\n",
        "‘hello’<br>\n",
        "-87.8<br>\n",
        "-<br>\n",
        "/<br>\n",
        "+<br>\n",
        "6**<br>\n",
        "Ans: values=‘hello’,-87.8,6  ,  mathematical operators=*,-,/,+<br>\n",
        "\n",
        "**2. What is the difference between string and variable?**<br>\n",
        "Ans: A string is a sequence of characters enclosed within either single (' ') or double (\" \") quotation marks. Strings are used to represent textual data<br>\n",
        "And <br>\n",
        "A variable is a name that refers to a value or an object in memory. It acts as a placeholder to store and manipulate data. Variables can hold various types of data, including strings. They provide a way to label and reference values.<br>\n",
        "\n",
        "**3. Describe three different data types.**<br>\n",
        "Ans:1.Integer (int):<br>\n",
        "Integers are whole numbers, both positive and negative, without any fractional part. They are used to represent discrete quantities in programming.\n",
        "2.Float (float):<br>\n",
        "Floats, short for floating-point numbers, are used to represent numbers with a fractional part. They can also represent very large or very small values using scientific notation.<br>\n",
        "\n",
        "3.String (str):<br>\n",
        "Strings are sequences of characters enclosed within quotation marks. They are used to represent textual data. Strings can contain letters, numbers, symbols, and spaces.<br>\n",
        "**4. What is an expression made up of? What do all expressions do?**<br>\n",
        "Ans: An expression in Python is a combination of values, variables, operators, and function calls that can be evaluated to produce a result. Expressions are the building blocks of Python code and are used to perform computations, create data structures, and make decisions. Expressions can be as simple as a single value or can involve complex operations.<br>\n",
        "\n",
        "All expressions in Python serve the purpose of producing a value or result when they are evaluated. This value can be of various types, such as numbers, strings, boolean values, or more complex data structures like lists or dictionaries.<br>\n",
        "**5. This assignment statements, like spam = 10. What is the difference between an\n",
        "expression and a statement?**<br>\n",
        "Ans: Expression:<br>\n",
        "An expression is a combination of values, variables, operators, and function calls that can be evaluated to produce a value. Expressions are meant to compute values and are often used within larger constructs like statements. Expressions can be as simple as a single value or as complex as a combination of multiple operations.<br>\n",
        "Examples of expressions:<br>\n",
        "5 + 3<br>\n",
        "x * 10<br>\n",
        "len(\"hello\")<br>\n",
        "Expressions are designed to be evaluated and return a result but don't have inherent side effects.<br>\n",
        "Statement:<br>\n",
        "A statement is a complete line of code that performs an action. Statements are used to control the flow of a program, execute instructions, or define structures. Unlike expressions, statements often do something (change a variable, perform an action, define a function or class) rather than just calculating a value.<br>\n",
        "Examples of statements:<br>\n",
        "Assignment statement: x = 10<br>\n",
        "Conditional statement: if x > 5:<br>\n",
        "Loop statement: for item in list:<br>\n",
        "Function definition: def my_function():<br>\n",
        "Statements can have side effects, like modifying variables, changing the state of the program, or affecting its behavior.<br>\n",
        "\n",
        "In summary, the main difference between expressions and statements is that expressions focus on producing values, while statements focus on performing actions or controlling the program's flow. Additionally, expressions can often be part of statements, such as using an expression within an assignment statement.<br>\n",
        "\n",
        "**6. After running the following code, what does the variable bacon contain?\n",
        "bacon = 22<br>\n",
        "bacon + 1**<br>\n",
        "Ans:22, as 22 was assigned to the variable “bacon” and on the later line 1 id added to the value of bacon but the value assigned to bacon has not changed\n"
      ],
      "metadata": {
        "id": "bDQ-G2ty-l7l"
      }
    },
    {
      "cell_type": "code",
      "source": [
        "bacon=22\n",
        "bacon+1\n",
        "print(bacon)"
      ],
      "metadata": {
        "colab": {
          "base_uri": "https://localhost:8080/"
        },
        "id": "Dy1o6IeIC0V-",
        "outputId": "1bead6b3-5d2a-46d0-8f48-ecd8d8dac931"
      },
      "execution_count": null,
      "outputs": [
        {
          "output_type": "stream",
          "name": "stdout",
          "text": [
            "22\n"
          ]
        }
      ]
    },
    {
      "cell_type": "markdown",
      "source": [
        "**7. What should the values of the following two terms be?<br>\n",
        "‘spam’ + ‘spamspam’<br>\n",
        "‘spam’ * 3**<br>\n",
        "Ans:\n"
      ],
      "metadata": {
        "id": "zonctauDDbys"
      }
    },
    {
      "cell_type": "code",
      "source": [
        "\"spam\"+\"spamspam\"\n",
        "\"spam\"*3"
      ],
      "metadata": {
        "id": "CnD6c4z_EYG5"
      },
      "execution_count": null,
      "outputs": []
    },
    {
      "cell_type": "markdown",
      "source": [
        "**8. Write code that prints Hello if 1 is stored in spam, prints Howdy if 2 is stored in spam, and prints\n",
        "Greetings! if anything else is stored in spam.**<br>\n",
        "Ans:\n"
      ],
      "metadata": {
        "id": "03n1x_AxFDwZ"
      }
    },
    {
      "cell_type": "markdown",
      "source": [
        "**8. Why is eggs a valid variable name while 100 is invalid?**<br>\n",
        "Ans: the reason \"eggs\" is a valid variable name while \"100\" is not comes down to adhering to the rules for variable naming in Python. Variable names must start with a letter or underscore, cannot start with a digit, and can only contain letters, digits, and underscores after the initial character.\n",
        "\n",
        "**9. What three functions can be used to get the integer, floating-point number, or string\n",
        "version of a value?**<br>\n",
        "Ans: ‘int()’,’float()’ and ‘str()’ respectively\n",
        "**10. Why does this expression cause an error? How can you fix it?<br>\n",
        "‘I have eaten ‘ + 99 + ‘ burritos’**<br>\n",
        "Ans: The expression 'I have eaten ' + 99 + ' burritos' causes an error because you are trying to concatenate a string with an integer without explicitly converting the integer to a string. In Python, can't directly concatenate a string with an integer using the + operator.<br>\n",
        "\n",
        "To fix this error, need to convert the integer 99 to a string before concatenating it with the other strings. Here's the corrected version of the expression:<br>\n",
        "\n",
        "Python code:'I have eaten ' + str(99) + ' burritos'\n",
        "In this corrected version, the str(99) function call converts the integer 99 to its string representation, allowing you to concatenate it with the other strings using the + operator without any errors.\n"
      ],
      "metadata": {
        "id": "A6DiAoHcFTmS"
      }
    },
    {
      "cell_type": "code",
      "source": [
        "\"i have eaten\"+99+\"burritos\""
      ],
      "metadata": {
        "id": "NlzxZC_CG5oS",
        "outputId": "efba7f28-9729-49d2-898d-edac593f9b92",
        "colab": {
          "base_uri": "https://localhost:8080/",
          "height": 175
        }
      },
      "execution_count": null,
      "outputs": [
        {
          "output_type": "error",
          "ename": "TypeError",
          "evalue": "ignored",
          "traceback": [
            "\u001b[0;31m---------------------------------------------------------------------------\u001b[0m",
            "\u001b[0;31mTypeError\u001b[0m                                 Traceback (most recent call last)",
            "\u001b[0;32m<ipython-input-8-97739ad46c1c>\u001b[0m in \u001b[0;36m<cell line: 1>\u001b[0;34m()\u001b[0m\n\u001b[0;32m----> 1\u001b[0;31m \u001b[0;34m\"i have eaten\"\u001b[0m\u001b[0;34m+\u001b[0m\u001b[0;36m99\u001b[0m\u001b[0;34m+\u001b[0m\u001b[0;34m\"burritos\"\u001b[0m\u001b[0;34m\u001b[0m\u001b[0;34m\u001b[0m\u001b[0m\n\u001b[0m",
            "\u001b[0;31mTypeError\u001b[0m: can only concatenate str (not \"int\") to str"
          ]
        }
      ]
    },
    {
      "cell_type": "code",
      "source": [
        "\"i have eaten \"+str(99)+\" burritos\""
      ],
      "metadata": {
        "id": "IU_Go9rtHQ6n",
        "outputId": "378d4150-a623-4f9b-8b80-ca2f6d2b79cd",
        "colab": {
          "base_uri": "https://localhost:8080/",
          "height": 36
        }
      },
      "execution_count": null,
      "outputs": [
        {
          "output_type": "execute_result",
          "data": {
            "text/plain": [
              "'i have eaten 99 burritos'"
            ],
            "application/vnd.google.colaboratory.intrinsic+json": {
              "type": "string"
            }
          },
          "metadata": {},
          "execution_count": 11
        }
      ]
    }
  ]
}