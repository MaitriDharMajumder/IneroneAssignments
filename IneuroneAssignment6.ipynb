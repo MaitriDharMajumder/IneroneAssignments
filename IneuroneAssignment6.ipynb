{
  "nbformat": 4,
  "nbformat_minor": 0,
  "metadata": {
    "colab": {
      "provenance": []
    },
    "kernelspec": {
      "name": "python3",
      "display_name": "Python 3"
    },
    "language_info": {
      "name": "python"
    }
  },
  "cells": [
    {
      "cell_type": "code",
      "execution_count": null,
      "metadata": {
        "id": "oXd8o2Rtmbu7"
      },
      "outputs": [],
      "source": []
    },
    {
      "cell_type": "markdown",
      "source": [
        "**Q.1. What are keywords in python? Using the keyword library, print all the python keywords.**<br>\n",
        "Ans: Keywords in Python are reserved words that have special meanings and purposes within the language. These words cannot be used as identifiers (variable names, function names, class names, etc.) because they are already used by Python for specific tasks and operations. Keywords play a fundamental role in defining the syntax and structure of the Python language. We can use the keyword library in Python to access and print all the keywords.\n"
      ],
      "metadata": {
        "id": "-TI0lqzFme1D"
      }
    },
    {
      "cell_type": "code",
      "source": [
        "import keyword\n",
        "print(keyword.kwlist)\n"
      ],
      "metadata": {
        "colab": {
          "base_uri": "https://localhost:8080/"
        },
        "id": "DX7WkgKPmnx5",
        "outputId": "2881c5d4-9ed5-414e-b752-0779c3dad3fa"
      },
      "execution_count": 1,
      "outputs": [
        {
          "output_type": "stream",
          "name": "stdout",
          "text": [
            "['False', 'None', 'True', 'and', 'as', 'assert', 'async', 'await', 'break', 'class', 'continue', 'def', 'del', 'elif', 'else', 'except', 'finally', 'for', 'from', 'global', 'if', 'import', 'in', 'is', 'lambda', 'nonlocal', 'not', 'or', 'pass', 'raise', 'return', 'try', 'while', 'with', 'yield']\n"
          ]
        }
      ]
    },
    {
      "cell_type": "markdown",
      "source": [
        "**Q.2. What are the rules to create variables in python?**<br>\n",
        "Ans:In Python, variables are used to store data values.<br>\n",
        "1. Naming Rules:<br>\n",
        "•\tVariable names must start with a letter (a-z, A-Z) or an underscore _.<br>\n",
        "•\tThe subsequent characters can be letters, digits (0-9), or underscores.<br>\n",
        "•\tVariable names are case-sensitive, meaning myVar and myvar are different variables.<br>\n",
        "2.\tNaming Conventions:<br>\n",
        "•\tUse descriptive names that reflect the purpose of the variable.<br>\n",
        "•\tUse lowercase letters for variable names (e.g., my_variable).<br>\n",
        "•\tUse underscores to separate words in variable names for improved readability (e.g., word_count).<br>\n",
        "3.\tReserved Keywords:<br>\n",
        "•\tAvoid using reserved keywords as variable names. Keywords are words that have special meanings in Python and cannot be used for other purposes (e.g., if, else, while, for, def, etc.).<br>\n",
        "4.\tAvoid Starting with Digits:<br>\n",
        "•\tVariable names cannot start with a digit (0-9). They must start with a letter or underscore.<br>\n",
        "5.\tNo Special Characters:<br>\n",
        "•\tSpecial characters (such as !, @, #, $, %, etc.) cannot be used in variable names.<br>\n",
        "6.\tNo Spaces:<br>\n",
        "•\tVariable names cannot contain spaces. If we need to represent multiple words, use underscores or capitalize the first letter of each word (CamelCase).<br>\n",
        "7.\tUse Meaningful Names:<br>\n",
        "•\tChoose variable names that make the purpose of the variable clear and understandable.<br>\n",
        "\n",
        "**Q.3. What are the standards and conventions followed for the nomenclature of variables in\n",
        "python to improve code readability and maintainability?**<br>\n",
        "Ans: In Python, following standardized naming conventions for variables helps improve code readability and maintainability. The conventions are not strict rules enforced by the language, but they are widely adopted practices that make our code more consistent and understandable, especially when collaborating with others. Here are some common naming conventions:<br>\n",
        "1.\tSnake Case for Variable Names:<br>\n",
        "•\tUse lowercase letters for variable names.<br>\n",
        "•\tSeparate words using underscores (_) to improve readability.<br>\n",
        "•\tExample: word_count, user_input, total_sum<br>\n",
        "2.\tCamel Case for Function and Method Names:<br>\n",
        "•\tStart with a lowercase letter.<br>\n",
        "•\tCapitalize the first letter of each subsequent concatenated word.<br>\n",
        "•\tExample: calculateTotal, getUserData, processData<br>\n",
        "3.\tPascal Case for Class Names:<br>\n",
        "•\tStart each word with an uppercase letter.<br>\n",
        "•\tDo not use underscores.<br>\n",
        "•\tExample: MyClass, EmployeeRecord, BookStore<br>\n",
        "4.\tSingle Leading Underscore:<br>\n",
        "•\tUse a single leading underscore to indicate that a variable or method is intended for internal use within a module.<br>\n",
        "•\tExample: _internal_var, _helper_function<br>\n",
        "5.\tDouble Leading Underscore (Name Mangling):<br>\n",
        "•\tUse a double leading underscore to indicate name mangling in class definitions. This makes the attribute name more unique to the class.<br>\n",
        "•\tExample: __private_var<br>\n",
        "6.\tUppercase for Constants:<br>\n",
        "•\tUse uppercase letters for constant values.<br>\n",
        "•\tSeparate words using underscores.<br>\n",
        "•\tExample: MAX_VALUE, PI, DEFAULT_SETTINGS<br>\n",
        "7.\tMeaningful Names:<br>\n",
        "•\tUse descriptive names that convey the purpose of the variable or function.<br>\n",
        "•\tAvoid single-letter variable names except in simple loop constructs (e.g., for i in range(...)).<br>\n",
        "8.\tAvoid Ambiguous Names:<br>\n",
        "•\tChoose names that are not easily confused with built-in functions or modules.<br>\n",
        "•\tAvoid using names of existing classes or modules.<br>\n",
        "9.\tConsistency:<br>\n",
        "•\tMaintain consistent naming conventions throughout your codebase.<br>\n",
        "•\tFollow the conventions used in the libraries you're working with to ensure consistency.<br>\n",
        "\n",
        "**Q.4. What will happen if a keyword is used as a variable name?**<br>\n",
        "Ans: If a keyword is used as a variable name in Python, it will encounter a SyntaxError. Keywords are reserved words in the Python language that have special meanings and purposes. You cannot use them as variable names, function names, class names, or any other identifiers.<br>\n",
        "Example\n"
      ],
      "metadata": {
        "id": "Hkz0ggbIm9k6"
      }
    },
    {
      "cell_type": "code",
      "source": [
        "if=50"
      ],
      "metadata": {
        "colab": {
          "base_uri": "https://localhost:8080/",
          "height": 140
        },
        "id": "hjVXS9okoL-C",
        "outputId": "df194907-528b-4dc3-e63e-430b63930386"
      },
      "execution_count": 2,
      "outputs": [
        {
          "output_type": "error",
          "ename": "SyntaxError",
          "evalue": "ignored",
          "traceback": [
            "\u001b[0;36m  File \u001b[0;32m\"<ipython-input-2-153b7cec9b89>\"\u001b[0;36m, line \u001b[0;32m1\u001b[0m\n\u001b[0;31m    if=50\u001b[0m\n\u001b[0m      ^\u001b[0m\n\u001b[0;31mSyntaxError\u001b[0m\u001b[0;31m:\u001b[0m invalid syntax\n"
          ]
        }
      ]
    },
    {
      "cell_type": "markdown",
      "source": [
        "**Q.5. For what purpose def keyword is used?**<br>\n",
        "Ans: The def keyword in Python is used to define a user-defined function. Functions are blocks of reusable code that can be defined once and then called (invoked) multiple times throughout the program. The def keyword marks the beginning of a function definition and specifies the name of the function, its parameters (if any), and the code that the function executes.<br>\n",
        "Eample\n"
      ],
      "metadata": {
        "id": "9hh-THQFoTXy"
      }
    },
    {
      "cell_type": "code",
      "source": [
        "def f(name):\n",
        "    print(\"my name is\", name)\n",
        "f(\"maitri\")\n"
      ],
      "metadata": {
        "colab": {
          "base_uri": "https://localhost:8080/"
        },
        "id": "V-wJ_5SkoboG",
        "outputId": "829aa7af-4ec8-436e-e0df-dbc39e88b7e8"
      },
      "execution_count": 3,
      "outputs": [
        {
          "output_type": "stream",
          "name": "stdout",
          "text": [
            "my name is maitri\n"
          ]
        }
      ]
    },
    {
      "cell_type": "markdown",
      "source": [
        "**Q.6. What is the operation of this special character ‘\\’?**<br>\n",
        "Ans:\n",
        "The special character '\\' in Python is called the backslash. It is used as an escape character to indicate that the character following it has a special meaning. It's commonly used to represent characters that are difficult to input or that have a special purpose within strings and other text data.\n",
        "Here are some common uses of the backslash:<br>\n",
        "1.\tEscape Sequences:<br> Backslash is used to create escape sequences that represent special characters:<br>\n",
        "•\t\\n: Newline (line break)<br>\n",
        "•\t\\t: Tab<br>\n",
        "•\t\\': Single quote<br>\n",
        "•\t\\\": Double quote<br>\n",
        "•\t\\\\: Backslash<br>\n",
        "2.\tUnicode Escapes: <br>Backslash is used to represent Unicode characters using their hexadecimal value:<br>\n",
        "•\t\\uXXXX: Unicode character with 4 hexadecimal digits<br>\n",
        "•\t\\UXXXXXXXX: Unicode character with 8 hexadecimal digits<br>\n",
        "3.\tRaw Strings:<br> Prefixing a string with r (e.g., r\"This is a raw string\") treats backslashes as literal characters, useful for regular expressions and file paths.<br>\n",
        "4.\tLine Continuation: <br>A backslash at the end of a line indicates that the line continues on the next line.<br>\n",
        "Here are some examples of using the backslash in Python:<br>\n",
        "Example<br>\n"
      ],
      "metadata": {
        "id": "xtOQRKQwogfG"
      }
    },
    {
      "cell_type": "code",
      "source": [
        "print(\"This is a line\\nwith a newline\")"
      ],
      "metadata": {
        "colab": {
          "base_uri": "https://localhost:8080/"
        },
        "id": "Oy5VwC-BpCeK",
        "outputId": "cc895db7-3efc-46db-e418-adeb9d8f3c1c"
      },
      "execution_count": 4,
      "outputs": [
        {
          "output_type": "stream",
          "name": "stdout",
          "text": [
            "This is a line\n",
            "with a newline\n"
          ]
        }
      ]
    },
    {
      "cell_type": "code",
      "source": [
        "print(\"She said, \\\"Hello!\\\"\")"
      ],
      "metadata": {
        "colab": {
          "base_uri": "https://localhost:8080/"
        },
        "id": "vuC_9e7YpHki",
        "outputId": "d75f7958-e345-4e75-b3d8-4dc4691b043b"
      },
      "execution_count": 5,
      "outputs": [
        {
          "output_type": "stream",
          "name": "stdout",
          "text": [
            "She said, \"Hello!\"\n"
          ]
        }
      ]
    },
    {
      "cell_type": "code",
      "source": [
        "print('C:\\\\Users\\\\Username\\\\Documents')"
      ],
      "metadata": {
        "colab": {
          "base_uri": "https://localhost:8080/"
        },
        "id": "-fyzzr-SpKZr",
        "outputId": "852326be-eedc-4597-d9e7-e14cf103b927"
      },
      "execution_count": 6,
      "outputs": [
        {
          "output_type": "stream",
          "name": "stdout",
          "text": [
            "C:\\Users\\Username\\Documents\n"
          ]
        }
      ]
    },
    {
      "cell_type": "code",
      "source": [
        "print(\"Unicode character: \\U0001F602\")"
      ],
      "metadata": {
        "colab": {
          "base_uri": "https://localhost:8080/"
        },
        "id": "faXDbVRkpTYB",
        "outputId": "65de5d25-426d-4c5b-a2a4-98098e96d4bd"
      },
      "execution_count": 8,
      "outputs": [
        {
          "output_type": "stream",
          "name": "stdout",
          "text": [
            "Unicode character: 😂\n"
          ]
        }
      ]
    },
    {
      "cell_type": "markdown",
      "source": [
        "In each of these cases, the backslash indicates that the character following it has a special meaning or purpose.<br>\n",
        "**Q.7. Give an example of the following conditions:<br>\n",
        "(i) Homogeneous list\n",
        "(ii) Heterogeneous set\n",
        "(iii) Homogeneous tuple**<br>\n",
        "Ans: (i) Homogeneous List:<br> A homogeneous list contains elements of the same data type. In this example, all elements are integers:<br>\n",
        "Python code<br>\n",
        "homogeneous_list = [5, 10, 15, 20, 25] <br>\n",
        "(ii) Heterogeneous Set:<br> A heterogeneous set contains elements of different data types. Here, the set contains a mix of strings and numbers:<br>\n",
        "Python code<br>\n",
        "heterogeneous_set = {\"apple\", 42, 3.14, \"banana\"} <br>\n",
        "(iii) Homogeneous Tuple:<br> A homogeneous tuple contains elements of the same data type. In this case, the elements are all strings:<br>\n",
        "Python code<br>\n",
        "homogeneous_tuple = (\"Monday\", \"Tuesday\", \"Wednesday\", \"Thursday\", \"Friday\") <br>\n",
        "**Q.8. Explain the mutable and immutable data types with proper explanation & examples.**<br>\n",
        "Ans:\n",
        "Mutable and immutable are terms used to describe whether the value of a data type can be changed after it's created. In Python, some data types are mutable, meaning their values can be modified in-place, while others are immutable, meaning their values cannot be changed once they are created.<br>\n",
        "Mutable Data Types:<br> Mutable data types are those that allow changes to their values without creating a new object. This means you can modify the content of a mutable object after it's created, and any references to the object will reflect these changes.<br>\n",
        "Examples of mutable data types in Python:<br>\n",
        "•\tLists:<br> You can modify, add, or remove elements from a list after creation.<br>\n",
        "•\tDictionaries:<br> You can add, modify, or remove key-value pairs.<br>\n",
        "•\tSets:<br> You can add or remove elements.<br>\n",
        "Example using a mutable data type (list):\n"
      ],
      "metadata": {
        "id": "cHCm02oRpVSI"
      }
    },
    {
      "cell_type": "code",
      "source": [
        "List=[1,2,3]\n",
        "List[2]=4\n",
        "print(List)\n"
      ],
      "metadata": {
        "colab": {
          "base_uri": "https://localhost:8080/"
        },
        "id": "KAYBgAVNp7zU",
        "outputId": "a0d5903c-733d-4530-81f7-7aabfe54fbc9"
      },
      "execution_count": 9,
      "outputs": [
        {
          "output_type": "stream",
          "name": "stdout",
          "text": [
            "[1, 2, 4]\n"
          ]
        }
      ]
    },
    {
      "cell_type": "markdown",
      "source": [
        "Immutable Data Types:<br> Immutable data types are those that do not allow changes to their values after they are created. If you want to modify an immutable object's value, you have to create a new object with the desired value.<br>\n",
        "Examples of immutable data types in Python:<br>\n",
        "•\tNumbers (int, float, complex)<br>\n",
        "•\tStrings<br>\n",
        "•\tTuples<br>\n",
        "Example using an immutable data type (string):<br>\n"
      ],
      "metadata": {
        "id": "f3aq8k3WqC08"
      }
    },
    {
      "cell_type": "code",
      "source": [
        "Tuple=(1,2,3)\n",
        "Tuple[2]=4\n"
      ],
      "metadata": {
        "colab": {
          "base_uri": "https://localhost:8080/",
          "height": 192
        },
        "id": "juv8hun6qM8G",
        "outputId": "02866c46-a4ec-475b-eb12-def1cd2a7f66"
      },
      "execution_count": 10,
      "outputs": [
        {
          "output_type": "error",
          "ename": "TypeError",
          "evalue": "ignored",
          "traceback": [
            "\u001b[0;31m---------------------------------------------------------------------------\u001b[0m",
            "\u001b[0;31mTypeError\u001b[0m                                 Traceback (most recent call last)",
            "\u001b[0;32m<ipython-input-10-fbf4deff7aec>\u001b[0m in \u001b[0;36m<cell line: 2>\u001b[0;34m()\u001b[0m\n\u001b[1;32m      1\u001b[0m \u001b[0mTuple\u001b[0m\u001b[0;34m=\u001b[0m\u001b[0;34m(\u001b[0m\u001b[0;36m1\u001b[0m\u001b[0;34m,\u001b[0m\u001b[0;36m2\u001b[0m\u001b[0;34m,\u001b[0m\u001b[0;36m3\u001b[0m\u001b[0;34m)\u001b[0m\u001b[0;34m\u001b[0m\u001b[0;34m\u001b[0m\u001b[0m\n\u001b[0;32m----> 2\u001b[0;31m \u001b[0mTuple\u001b[0m\u001b[0;34m[\u001b[0m\u001b[0;36m2\u001b[0m\u001b[0;34m]\u001b[0m\u001b[0;34m=\u001b[0m\u001b[0;36m4\u001b[0m\u001b[0;34m\u001b[0m\u001b[0;34m\u001b[0m\u001b[0m\n\u001b[0m",
            "\u001b[0;31mTypeError\u001b[0m: 'tuple' object does not support item assignment"
          ]
        }
      ]
    },
    {
      "cell_type": "code",
      "source": [
        "NewTuple=[1,2,4]\n",
        "print(NewTuple)\n"
      ],
      "metadata": {
        "colab": {
          "base_uri": "https://localhost:8080/"
        },
        "id": "T7lhLFBqqVAu",
        "outputId": "376799a6-340b-4a22-e8a7-3a8bf62b7b8d"
      },
      "execution_count": 11,
      "outputs": [
        {
          "output_type": "stream",
          "name": "stdout",
          "text": [
            "[1, 2, 4]\n"
          ]
        }
      ]
    },
    {
      "cell_type": "markdown",
      "source": [
        "**Q.9. Write a code to create the given structure using only for loop.<br>\n",
        "*<br>\n",
        "***<br>\n",
        "*****<br>\n",
        "*******<br>\n",
        "***********<br>\n",
        "Ans:\n"
      ],
      "metadata": {
        "id": "J-c3l7mNqYE-"
      }
    },
    {
      "cell_type": "code",
      "source": [
        "for i in range(1,6):\n",
        "    print(\"*\"*(2*i-1))\n"
      ],
      "metadata": {
        "colab": {
          "base_uri": "https://localhost:8080/"
        },
        "id": "69OWeMLPqiDU",
        "outputId": "f4ee57e2-bbd6-4589-b545-54d3cbb50a4a"
      },
      "execution_count": 12,
      "outputs": [
        {
          "output_type": "stream",
          "name": "stdout",
          "text": [
            "*\n",
            "***\n",
            "*****\n",
            "*******\n",
            "*********\n"
          ]
        }
      ]
    },
    {
      "cell_type": "markdown",
      "source": [
        "**Q.10. Write a code to create the given structure using while loop.<br>\n",
        "|||||||||<br>\n",
        "|||||||<br>\n",
        "|||||<br>\n",
        "|||<br>\n",
        "|**<br>\n",
        "Ans:\n"
      ],
      "metadata": {
        "id": "MmTKKklmqnM7"
      }
    },
    {
      "cell_type": "code",
      "source": [
        "while i <= 5:\n",
        "    print(\"|\"*(2*(6-i)-1))\n",
        "    i+=1\n"
      ],
      "metadata": {
        "colab": {
          "base_uri": "https://localhost:8080/"
        },
        "id": "Apendy4BqxJR",
        "outputId": "470a58f2-bca6-4a16-b136-08fcc79526d8"
      },
      "execution_count": 13,
      "outputs": [
        {
          "output_type": "stream",
          "name": "stdout",
          "text": [
            "|\n"
          ]
        }
      ]
    }
  ]
}