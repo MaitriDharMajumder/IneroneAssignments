{
  "nbformat": 4,
  "nbformat_minor": 0,
  "metadata": {
    "colab": {
      "provenance": []
    },
    "kernelspec": {
      "name": "python3",
      "display_name": "Python 3"
    },
    "language_info": {
      "name": "python"
    }
  },
  "cells": [
    {
      "cell_type": "code",
      "execution_count": null,
      "metadata": {
        "id": "2t1hlkpBcqlV"
      },
      "outputs": [],
      "source": []
    },
    {
      "cell_type": "markdown",
      "source": [
        "**1. Why are functions advantageous to have in your programs?**<br>\n",
        "Ans: Functions in Python provide several key benefits. They enable code organization by breaking tasks into manageable parts, making the code readable and easy to understand. Functions also enhance code reuse and modularity, saving time and effort. They aid in debugging by isolating specific functionality, and their encapsulation of variables prevents unintended interactions. Functions promote collaboration by allowing different parts of a program to be developed separately, and they contribute to better performance through optimized, reusable code segments.<br>\n",
        "**2. When does the code in a function run: when it’s specified or when it’s called?**<br>\n",
        "Ans: The code within a function in Python runs when the function is called. Defining a function does not execute the code inside it. The function's body contains the set of instructions that will be executed only when the function is invoked or called.<br>\n",
        "**3. What statement creates a function?**<br>\n",
        "Ans:The def statement creates a function in python. The def statement is used to define a function by specifying its name, parameters, and the block of code that constitutes the function's body.<br>\n",
        "Example:\n"
      ],
      "metadata": {
        "id": "mG_Ya-CzcxC3"
      }
    },
    {
      "cell_type": "code",
      "source": [
        "def MyFirstFunction():\n",
        "    print(\"this is our 3rd week\")\n",
        "\n",
        "\n",
        "MyFirstFunction()\n"
      ],
      "metadata": {
        "colab": {
          "base_uri": "https://localhost:8080/"
        },
        "id": "lYuWvWZJem8E",
        "outputId": "4fda5d0e-8f6d-4e0c-d338-518441a0331a"
      },
      "execution_count": 1,
      "outputs": [
        {
          "output_type": "stream",
          "name": "stdout",
          "text": [
            "this is our 3rd week\n"
          ]
        }
      ]
    },
    {
      "cell_type": "markdown",
      "source": [
        "**4. What is the difference between a function and a function call?**<br>\n",
        "Ans: Function: A function is a named block of code that performs a specific task or a set of tasks. It encapsulates a sequence of instructions and is designed to be reusable. Functions help in organizing code, promoting modularity, and making the code more readable and maintainable.<br>\n",
        "Function Call:<br> A function call is the act of actually invoking or using a function that has been defined. It's the mechanism by which you instruct the program to execute the code inside the function. When you call a function, you provide the required arguments or parameters that the function expects.\n",
        "In previous example <br>\n",
        "The segment<br>\n",
        "def MyFirstFunction():<br>\n",
        "    print(\"this is our 3rd week\")<br>\n",
        "and the segment<br>\n",
        "MyFirstFunction()<br>\n",
        "this is our 3rd week<br>\n",
        "is function call.<br>\n",
        "**5. How many global scopes are there in a Python program? How many local scopes?**\n",
        "<br>Ans: **1.Global Scope:** The global scope refers to the outermost level of the program. Variables defined in the global scope are accessible throughout the entire program, including within functions and sub-scopes. The global scope is established when you start your program and remains active until the program finishes.<br>\n",
        "**2.\tLocal Scopes:** Local scopes are created whenever a function is called. Each function call creates its own local scope. Variables defined within a function are local to that function and can only be accessed within that function's block of code. When the function call completes, its local scope is destroyed, and the variables defined within it are no longer accessible<br>.\n",
        "**6. What happens to variables in a local scope when the function call returns?**<br>\n",
        "Ans: When a function call returns in Python, the variables that were defined within the local scope of that function cease to exist. They are automatically deallocated or removed from memory. This process is known as variable scope and lifetime management.<br>\n",
        "Here's what happens step by step:<br>\n",
        "**1.\tLocal Scope Creation:** When a function is called, a local scope is created specifically for that function. Any variables defined within the function's block of code are allocated memory within this local scope.<br>\n",
        "**2.\tVariable Assignment:** Variables within the local scope are assigned values and used for computations within the function.<br>\n",
        "**3.\tFunction Call Completion:** When the function call completes (either because it reaches its end or due to a return statement), the local scope is terminated. This means that the memory allocated for the variables in that local scope is released.<br>\n",
        "**4.\tVariable Deallocation:** As the local scope terminates, the variables defined within it are deallocated. They are no longer accessible or valid outside of that specific function call.<br>\n",
        "\n",
        "**7. What is the concept of a return value? Is it possible to have a return value in an expression?**<br>\n",
        "Ans: The concept of a return value in programming refers to the value that a function provides back to the caller after it has completed its execution. When a function is called, it can perform some computation and then use the return statement to send a value (or multiple values) back to the caller. This returned value can be used for further computations, assignments, or any other operations.<br>\n",
        "           Regarding the second question, a return value is not an expression in itself, but it can be used within expressions. The return value acts like any other value in expressions, allowing to perform operations with it.<br>\n",
        "Example<br>\n"
      ],
      "metadata": {
        "id": "gBoBvJuuewsL"
      }
    },
    {
      "cell_type": "code",
      "source": [
        "def mul(a,b):\n",
        "    result=a * b\n",
        "    return result\n",
        "\n",
        "multiplication_result=mul(5,7)\n",
        "print(multiplication_result)\n"
      ],
      "metadata": {
        "colab": {
          "base_uri": "https://localhost:8080/"
        },
        "id": "pnWjgRgbf0Np",
        "outputId": "f9591c4e-8ace-4e68-95e1-5e707fa9ac45"
      },
      "execution_count": 2,
      "outputs": [
        {
          "output_type": "stream",
          "name": "stdout",
          "text": [
            "35\n"
          ]
        }
      ]
    },
    {
      "cell_type": "code",
      "source": [
        "#Return value in an expression\n",
        "total=mul(5,3)+mul(4,5)\n",
        "print(total)\n"
      ],
      "metadata": {
        "colab": {
          "base_uri": "https://localhost:8080/"
        },
        "id": "KJjDFjcbgAym",
        "outputId": "7d7ad37c-ebfe-4c9d-e6bc-a79ac0fff595"
      },
      "execution_count": 3,
      "outputs": [
        {
          "output_type": "stream",
          "name": "stdout",
          "text": [
            "35\n"
          ]
        }
      ]
    },
    {
      "cell_type": "markdown",
      "source": [
        "**8. If a function does not have a return statement, what is the return value of a call to that function?**<br>\n",
        "Ans: If a function does not have a ‘return’ statement, it implicitly returns a special value called ‘None’.’ None ‘is a built-in Python object that represents the absence of a value. When a function call completes and there is no explicit ‘return’ statement, the function automatically returns ‘None’ by default.<br>\n",
        "Keep in mind that even though a function without a ‘return’ statement does not explicitly return a value, it still performs its intended operations, such as printing output, modifying variables, or performing other tasks within its scope.<br>\n",
        " **9. How do you make a function variable refer to the global variable?**<br>\n",
        "Ans: To make a function variable refer to the global variable with the same name, you can use the ‘global’ keyword within the function. This allows you to modify the global variable from within the function, rather than creating a new local variable with the same name.\n",
        "Keep in mind that while using global variables is sometimes necessary, it's generally recommended to avoid modifying them within functions whenever possible, as it can make code less readable and maintainable. It's usually better to pass variables as arguments to functions and return values from functions, as it promotes better encapsulation and reduces dependencies on global state.<br>\n",
        "Example:\n"
      ],
      "metadata": {
        "id": "rkSbGu1qgCnE"
      }
    },
    {
      "cell_type": "code",
      "source": [
        "def modify_global():\n",
        "    global globalvar #declaring that I am gonna use the global variable\n",
        "    globalvar=20 #modifying\n",
        "\n",
        "\n",
        "modify_global()\n",
        "print(globalvar)\n"
      ],
      "metadata": {
        "colab": {
          "base_uri": "https://localhost:8080/"
        },
        "id": "qacYma-NgPKp",
        "outputId": "f52d5dcd-2a12-487e-b7c1-e309f047406a"
      },
      "execution_count": 4,
      "outputs": [
        {
          "output_type": "stream",
          "name": "stdout",
          "text": [
            "20\n"
          ]
        }
      ]
    },
    {
      "cell_type": "markdown",
      "source": [
        "**10. What is the data type of None?**<br>\n",
        "Ans: The data type of ‘None’ in Python is called ‘NoneType’. It is a special built-in type that represents the absence of a value or a null value. ‘None’ is often used to indicate the lack of a meaningful result or the absence of a specific value in situations where a value is expected.<br>\n",
        "**11. What does the sentence import areallyourpetsnamederic do?**<br>\n",
        "Ans: The sentence \"import areallyourpetsnamederic\" does not have any special meaning in the context of the Python programming language. In Python, the import statement is used to import modules or packages that provide additional functionality to your program. However, <br>\"areallyourpetsnamederic\" is not a valid module or package name in Python's standard libraries or commonly used third-party libraries.<br>\n",
        "Code\n"
      ],
      "metadata": {
        "id": "01e8_U_FgWcs"
      }
    },
    {
      "cell_type": "code",
      "source": [
        "import areallyourpetsnamederic"
      ],
      "metadata": {
        "colab": {
          "base_uri": "https://localhost:8080/",
          "height": 314
        },
        "id": "KVwyIPb5ggXX",
        "outputId": "38ca90a2-a193-4715-b806-f124d350fbad"
      },
      "execution_count": 5,
      "outputs": [
        {
          "output_type": "error",
          "ename": "ModuleNotFoundError",
          "evalue": "ignored",
          "traceback": [
            "\u001b[0;31m---------------------------------------------------------------------------\u001b[0m",
            "\u001b[0;31mModuleNotFoundError\u001b[0m                       Traceback (most recent call last)",
            "\u001b[0;32m<ipython-input-5-b1ea9cb2228f>\u001b[0m in \u001b[0;36m<cell line: 1>\u001b[0;34m()\u001b[0m\n\u001b[0;32m----> 1\u001b[0;31m \u001b[0;32mimport\u001b[0m \u001b[0mareallyourpetsnamederic\u001b[0m\u001b[0;34m\u001b[0m\u001b[0;34m\u001b[0m\u001b[0m\n\u001b[0m",
            "\u001b[0;31mModuleNotFoundError\u001b[0m: No module named 'areallyourpetsnamederic'",
            "",
            "\u001b[0;31m---------------------------------------------------------------------------\u001b[0;32m\nNOTE: If your import is failing due to a missing package, you can\nmanually install dependencies using either !pip or !apt.\n\nTo view examples of installing some common dependencies, click the\n\"Open Examples\" button below.\n\u001b[0;31m---------------------------------------------------------------------------\u001b[0m\n"
          ],
          "errorDetails": {
            "actions": [
              {
                "action": "open_url",
                "actionText": "Open Examples",
                "url": "/notebooks/snippets/importing_libraries.ipynb"
              }
            ]
          }
        }
      ]
    },
    {
      "cell_type": "markdown",
      "source": [
        "**12. If you had a bacon() feature in a spam module, what would you call it after importing spam?**<br>\n",
        "Ans: If I had a bacon() function in a module named spam, and I wanted to call it after importing the spam module, I would use the following syntax:<br>\n",
        "\n",
        "import spam spam.bacon() <br>\n",
        "\n",
        "Here, spam is the module name, and bacon() is the function within the spam module. By using spam.bacon(), I'm accessing and calling the bacon() function that's defined in the spam module.<br>\n",
        "**13. What can you do to save a programme from crashing if it encounters an error?**<br>\n",
        "Ans: To prevent a program from crashing when it encounters an error, we can use exception handling. Exception handling allows to catch and manage errors gracefully, so the program can continue running or handle the error in a controlled manner. Python provides a ‘try’ and ‘except’ block for this purpose.<br>\n",
        "Example:\n"
      ],
      "metadata": {
        "id": "BP9Fy-B_goLx"
      }
    },
    {
      "cell_type": "code",
      "source": [
        "10/0\n"
      ],
      "metadata": {
        "colab": {
          "base_uri": "https://localhost:8080/",
          "height": 175
        },
        "id": "cWCmcnxTg_26",
        "outputId": "d353ad28-c279-42cf-aeeb-24a12ae7255c"
      },
      "execution_count": 6,
      "outputs": [
        {
          "output_type": "error",
          "ename": "ZeroDivisionError",
          "evalue": "ignored",
          "traceback": [
            "\u001b[0;31m---------------------------------------------------------------------------\u001b[0m",
            "\u001b[0;31mZeroDivisionError\u001b[0m                         Traceback (most recent call last)",
            "\u001b[0;32m<ipython-input-6-e574edb36883>\u001b[0m in \u001b[0;36m<cell line: 1>\u001b[0;34m()\u001b[0m\n\u001b[0;32m----> 1\u001b[0;31m \u001b[0;36m10\u001b[0m\u001b[0;34m/\u001b[0m\u001b[0;36m0\u001b[0m\u001b[0;34m\u001b[0m\u001b[0;34m\u001b[0m\u001b[0m\n\u001b[0m",
            "\u001b[0;31mZeroDivisionError\u001b[0m: division by zero"
          ]
        }
      ]
    },
    {
      "cell_type": "code",
      "source": [
        "#Saving the Programme\n",
        "try:\n",
        "    result= 10/0\n",
        "except ZeroDivisionError:\n",
        "    print(\"Error occured fordeviding with 0\")\n"
      ],
      "metadata": {
        "colab": {
          "base_uri": "https://localhost:8080/"
        },
        "id": "111gsv56hCSd",
        "outputId": "4a7e7656-860e-4d75-d083-891de958ddb4"
      },
      "execution_count": 7,
      "outputs": [
        {
          "output_type": "stream",
          "name": "stdout",
          "text": [
            "Error occured fordeviding with 0\n"
          ]
        }
      ]
    },
    {
      "cell_type": "markdown",
      "source": [
        "Here multiple except blocks can be used to catch different types of errors and handle them accordingly. Using exception handling helps improve the robustness of your program and provides a way to gracefully handle unexpected situations without crashing."
      ],
      "metadata": {
        "id": "KgJ9eCeuhIVB"
      }
    },
    {
      "cell_type": "markdown",
      "source": [
        "**14. What is the purpose of the try clause? What is the purpose of the except clause?**<br>\n",
        "Ans: The ‘try’ and ‘except’ clauses are part of Python's exception handling mechanism. They serve distinct purposes:<br>\n",
        "**1.\tPurpose of the ‘try’ Clause:** The ‘try’ clause is used to enclose the block of code that might potentially raise an exception. It allows to designate a specific portion of a code where errors might occur. If an error occurs within the ‘try’ block, the program will not immediately crash; instead, it will transition to the associated ‘except’ block.<br>\n",
        "**2.\tPurpose of the ‘except’ Clause: **The ‘except’ clause is used to specify what should be done when a specific exception occurs within the ‘try’ block. It defines the handling logic for that particular type of exception.<br>\n",
        "If an exception of the specified type (in this case, SomeException) is raised in the ‘try’ block, the code in the corresponding ‘except’ block will be executed. This allows you to gracefully handle errors, provide meaningful feedback, and continue program execution without crashing.\n",
        "  (The example used in the previous question can be used in this question as well)\n"
      ],
      "metadata": {
        "id": "bZTMWWR-hMIL"
      }
    }
  ]
}