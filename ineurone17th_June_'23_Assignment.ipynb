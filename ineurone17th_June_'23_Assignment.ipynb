{
  "nbformat": 4,
  "nbformat_minor": 0,
  "metadata": {
    "colab": {
      "provenance": []
    },
    "kernelspec": {
      "name": "python3",
      "display_name": "Python 3"
    },
    "language_info": {
      "name": "python"
    }
  },
  "cells": [
    {
      "cell_type": "code",
      "execution_count": null,
      "metadata": {
        "id": "5ibx3qRTp4Sf"
      },
      "outputs": [],
      "source": []
    },
    {
      "cell_type": "markdown",
      "source": [
        "**1.What is the role of try and exception block?**"
      ],
      "metadata": {
        "id": "oaUyTCdYq6a0"
      }
    },
    {
      "cell_type": "markdown",
      "source": [
        "The try and except blocks in Python are used for handling exceptions and errors that might occur during the execution of code. They are part of Python's exception handling mechanism, which allows us to gracefully handle errors and prevent the program from crashing due to unexpected situations.<br>\n",
        "<br>\n",
        "**Try Block:**<br>\n",
        "The code that might raise an exception is placed within the try block. This is the part of the code where we anticipate that an error might occur. If an exception is raised within the try block, the control is transferred to the corresponding except block.<br>\n",
        "\n",
        "**Except Block:**<br>\n",
        "The except block is used to define what actions to take if a specific exception occurs in the try block. we can have multiple except blocks, each handling a different type of exception. If an exception of the specified type occurs, the code within the corresponding except block is executed.<br>\n",
        "Example:"
      ],
      "metadata": {
        "id": "Oa1fHhVOq_2Z"
      }
    },
    {
      "cell_type": "code",
      "source": [
        "try:\n",
        "  n1=int(input(\"Enter thr numerator: \"))\n",
        "  n2=int(input(\"Enter thr denominator: \"))\n",
        "  result=n1/n2\n",
        "  print(\"the result is\",result)\n",
        "except ZeroDivisionError:\n",
        "    print(\"the denominator can not be zero\")\n",
        "except ValueError:\n",
        "      print(\"the numerator and denominator should be integer\")\n"
      ],
      "metadata": {
        "colab": {
          "base_uri": "https://localhost:8080/"
        },
        "id": "y8_eIzJ0sEQ1",
        "outputId": "1352e187-26c0-438e-a5eb-ba754da05de1"
      },
      "execution_count": 1,
      "outputs": [
        {
          "output_type": "stream",
          "name": "stdout",
          "text": [
            "Enter thr numerator: 10\n",
            "Enter thr denominator: 12.5\n",
            "the numerator and denominator should be integer\n"
          ]
        }
      ]
    },
    {
      "cell_type": "markdown",
      "source": [
        "In this example, the try block contains code that takes user input, performs a division, and prints the result. If the user enters 0 or a non-integer value, exceptions will occur (ZeroDivisionError or ValueError). The corresponding except blocks handle these exceptions and provide appropriate error messages.<br>\n",
        "<br>\n",
        "By using try and except blocks, you can make your code more robust and handle unexpected situations gracefully, improving the overall reliability of your programs."
      ],
      "metadata": {
        "id": "NX8AUFVGt461"
      }
    },
    {
      "cell_type": "markdown",
      "source": [
        "**2.What is the syntax for a basic try-except block?**"
      ],
      "metadata": {
        "id": "Q55i2lQ7uSzF"
      }
    },
    {
      "cell_type": "markdown",
      "source": [
        "The basic syntax for a try-except block in Python is as follows:"
      ],
      "metadata": {
        "id": "-vOOsB7IuioS"
      }
    },
    {
      "cell_type": "code",
      "source": [
        "try:\n",
        "    # Code that might raise an exception\n",
        "\n",
        "except ExceptionType:\n",
        "    # Code to handle the exception\n",
        "\n"
      ],
      "metadata": {
        "id": "BJ99gbNOxXLM"
      },
      "execution_count": null,
      "outputs": []
    },
    {
      "cell_type": "markdown",
      "source": [
        "\n",
        "\n",
        "Here's a breakdown of the syntax:<br>\n",
        "\n",
        "The 'try' keyword is used to start the try block where we place the code that might raise an exception.<br>\n",
        "Inside the try block, we write the code that could potentially generate an exception.<br>\n",
        "After the try block, we use the 'except' keyword followed by the type of exception we may catch. This is known as the ExceptionType. If the specified exception occurs in the try block, the code inside the corresponding except block will be executed to handle the exception.<br>\n",
        "Example:"
      ],
      "metadata": {
        "id": "ZKSU78ehxdA9"
      }
    },
    {
      "cell_type": "code",
      "source": [
        "try:\n",
        "    import library1234\n",
        "except ImportError:\n",
        "    print(\"the library mentioned is missing\")"
      ],
      "metadata": {
        "colab": {
          "base_uri": "https://localhost:8080/"
        },
        "id": "iXDsEM2RyAZ3",
        "outputId": "8c98175c-b9b2-479a-ef76-1114ec014742"
      },
      "execution_count": 3,
      "outputs": [
        {
          "output_type": "stream",
          "name": "stdout",
          "text": [
            "the library mentioned is missing\n"
          ]
        }
      ]
    },
    {
      "cell_type": "markdown",
      "source": [
        "**3.What happens if an exception occurs inside a try block and there is no matching\n",
        "except block?**"
      ],
      "metadata": {
        "id": "ppdJyCCEyQX5"
      }
    },
    {
      "cell_type": "markdown",
      "source": [
        "If an exception occurs inside a 'try' block and there is no matching 'except' block to handle that specific type of exception, the exception will propagate up the call stack. This means that the program will look for an appropriate 'except' block further up in the call hierarchy. If no matching 'except' block is found at any level, the program will terminate and display an error message, including the exception type and an error traceback.\n",
        "<br>\n",
        "Example"
      ],
      "metadata": {
        "id": "2dH_na9cy7Gh"
      }
    },
    {
      "cell_type": "code",
      "source": [
        "try:\n",
        "  n1=int(input(\"Enter thr numerator: \"))\n",
        "  n2=int(input(\"Enter thr denominator: \"))\n",
        "  result=n1/n2\n",
        "  print(\"the result is\",result)\n",
        "except ZeroDivisionError:\n",
        "    print(\"the denominator can not be zero\")"
      ],
      "metadata": {
        "colab": {
          "base_uri": "https://localhost:8080/",
          "height": 290
        },
        "id": "AuQ058aHzRFN",
        "outputId": "ffec6277-a5ba-48fe-d956-5eb348c768a0"
      },
      "execution_count": 4,
      "outputs": [
        {
          "name": "stdout",
          "output_type": "stream",
          "text": [
            "Enter thr numerator: 12\n",
            "Enter thr denominator: 6.5\n"
          ]
        },
        {
          "output_type": "error",
          "ename": "ValueError",
          "evalue": "ignored",
          "traceback": [
            "\u001b[0;31m---------------------------------------------------------------------------\u001b[0m",
            "\u001b[0;31mValueError\u001b[0m                                Traceback (most recent call last)",
            "\u001b[0;32m<ipython-input-4-2015598101a2>\u001b[0m in \u001b[0;36m<cell line: 1>\u001b[0;34m()\u001b[0m\n\u001b[1;32m      1\u001b[0m \u001b[0;32mtry\u001b[0m\u001b[0;34m:\u001b[0m\u001b[0;34m\u001b[0m\u001b[0;34m\u001b[0m\u001b[0m\n\u001b[1;32m      2\u001b[0m   \u001b[0mn1\u001b[0m\u001b[0;34m=\u001b[0m\u001b[0mint\u001b[0m\u001b[0;34m(\u001b[0m\u001b[0minput\u001b[0m\u001b[0;34m(\u001b[0m\u001b[0;34m\"Enter thr numerator: \"\u001b[0m\u001b[0;34m)\u001b[0m\u001b[0;34m)\u001b[0m\u001b[0;34m\u001b[0m\u001b[0;34m\u001b[0m\u001b[0m\n\u001b[0;32m----> 3\u001b[0;31m   \u001b[0mn2\u001b[0m\u001b[0;34m=\u001b[0m\u001b[0mint\u001b[0m\u001b[0;34m(\u001b[0m\u001b[0minput\u001b[0m\u001b[0;34m(\u001b[0m\u001b[0;34m\"Enter thr denominator: \"\u001b[0m\u001b[0;34m)\u001b[0m\u001b[0;34m)\u001b[0m\u001b[0;34m\u001b[0m\u001b[0;34m\u001b[0m\u001b[0m\n\u001b[0m\u001b[1;32m      4\u001b[0m   \u001b[0mresult\u001b[0m\u001b[0;34m=\u001b[0m\u001b[0mn1\u001b[0m\u001b[0;34m/\u001b[0m\u001b[0mn2\u001b[0m\u001b[0;34m\u001b[0m\u001b[0;34m\u001b[0m\u001b[0m\n\u001b[1;32m      5\u001b[0m   \u001b[0mprint\u001b[0m\u001b[0;34m(\u001b[0m\u001b[0;34m\"the result is\"\u001b[0m\u001b[0;34m,\u001b[0m\u001b[0mresult\u001b[0m\u001b[0;34m)\u001b[0m\u001b[0;34m\u001b[0m\u001b[0;34m\u001b[0m\u001b[0m\n",
            "\u001b[0;31mValueError\u001b[0m: invalid literal for int() with base 10: '6.5'"
          ]
        }
      ]
    },
    {
      "cell_type": "markdown",
      "source": [
        "**4.What is the difference between using a bare except block and specifying a specific\n",
        "exception type?**"
      ],
      "metadata": {
        "id": "XtY5B_nozeOX"
      }
    },
    {
      "cell_type": "markdown",
      "source": [
        "In Python's exception handling, there are two main ways to catch and handle exceptions: using a bare except block and specifying a specific exception type in an except block. The key difference between the two lies in the level of control and information the user have over the exceptions being caught and how they are handled.<br>\n",
        "\n",
        "**Bare except Block:**<br>\n",
        "A bare except block catches all exceptions indiscriminately. It doesn't specify any particular exception type. While using a bare except block can prevent the program from crashing due to unhandled exceptions, it's generally not recommended. It can make debugging difficult since we won't have information about the specific type of exception that occurred.<br>\n",
        "Example:"
      ],
      "metadata": {
        "id": "hJD9Ll7w3sWV"
      }
    },
    {
      "cell_type": "code",
      "source": [
        "try:\n",
        "  n1=int(input(\"Enter thr numerator: \"))\n",
        "  n2=int(input(\"Enter thr denominator: \"))\n",
        "  result=n1/n2\n",
        "  print(\"the result is\",result)\n",
        "except:\n",
        "    print(\"there is an error\")"
      ],
      "metadata": {
        "colab": {
          "base_uri": "https://localhost:8080/"
        },
        "id": "oxJzlJD162ol",
        "outputId": "da2a825d-0f7e-4dd8-b69e-eb68146b3125"
      },
      "execution_count": 5,
      "outputs": [
        {
          "output_type": "stream",
          "name": "stdout",
          "text": [
            "Enter thr numerator: 12\n",
            "Enter thr denominator: \n",
            "there is an error\n"
          ]
        }
      ]
    },
    {
      "cell_type": "markdown",
      "source": [
        "**Specific Exception Type:**<br>\n",
        "Using a specific exception type in an except block allows us to catch and handle a particular type of exception. This approach provides more control and allows us to handle different types of exceptions differently. It's recommended to catch only the exceptions we expect and handle them appropriately."
      ],
      "metadata": {
        "id": "sKTpa4fh60Je"
      }
    },
    {
      "cell_type": "code",
      "source": [
        "try:\n",
        "  n1=int(input(\"Enter thr numerator: \"))\n",
        "  n2=int(input(\"Enter thr denominator: \"))\n",
        "  result=n1/n2\n",
        "  print(\"the result is\",result)\n",
        "except ZeroDivisionError:\n",
        "    print(\"the denominator can not be zero\")\n",
        "except ValueError:\n",
        "      print(\"the numerator and denominator should be integer\")"
      ],
      "metadata": {
        "colab": {
          "base_uri": "https://localhost:8080/"
        },
        "id": "l19Acwlu9AJs",
        "outputId": "3fcee907-99d7-41d2-fad2-8ff6737128e7"
      },
      "execution_count": 6,
      "outputs": [
        {
          "output_type": "stream",
          "name": "stdout",
          "text": [
            "Enter thr numerator: 12\n",
            "Enter thr denominator: 0\n",
            "the denominator can not be zero\n"
          ]
        }
      ]
    },
    {
      "cell_type": "markdown",
      "source": [
        "**5.Can you have nested try-except blocks in Python? If yes, then give an example.**"
      ],
      "metadata": {
        "id": "9FmWCAUq4wx9"
      }
    },
    {
      "cell_type": "markdown",
      "source": [
        "Yes, we can have nested try-except blocks in Python. This means we can place one try-except block inside another, allowing us to handle exceptions at different levels of our code. This can be useful when we want to handle exceptions in a more granular way or when we need to perform different actions based on where the exception occurs.<br>\n",
        "Example"
      ],
      "metadata": {
        "id": "H9N2kDZq-XSa"
      }
    },
    {
      "cell_type": "code",
      "source": [
        "try:\n",
        "  n1=int(input(\"Enter thr numerator: \"))\n",
        "  try:\n",
        "     n2=int(input(\"Enter thr denominator: \"))\n",
        "     result=n1/n2\n",
        "     print(\"the result is\",result)\n",
        "  except ZeroDivisionError:\n",
        "      print(\"the denominator can not be zero\")\n",
        "except ValueError:\n",
        "    print(\"the numerator and denominator should be integer\")"
      ],
      "metadata": {
        "colab": {
          "base_uri": "https://localhost:8080/"
        },
        "id": "UR5QlDsu96qO",
        "outputId": "c0f2e634-b8c3-4b72-c7b7-5f5e58d05b48"
      },
      "execution_count": 8,
      "outputs": [
        {
          "output_type": "stream",
          "name": "stdout",
          "text": [
            "Enter thr numerator: 10\n",
            "Enter thr denominator: 0\n",
            "the denominator can not be zero\n"
          ]
        }
      ]
    },
    {
      "cell_type": "markdown",
      "source": [
        "**6.Can we use multiple exception blocks, if yes then give an example.**"
      ],
      "metadata": {
        "id": "_xjy4ztf-unT"
      }
    },
    {
      "cell_type": "markdown",
      "source": [
        "Yes, we can use multiple except blocks to handle different types of exceptions in Python. This allows us to provide specific handling for various types of errors that might occur in our code.<br>\n",
        "Example:"
      ],
      "metadata": {
        "id": "4HuVG_Gv_bUR"
      }
    },
    {
      "cell_type": "code",
      "source": [
        "try:\n",
        "    num = int(input(\"Enter a number: \"))\n",
        "    result = 10 / num\n",
        "    print(\"Result:\", result)\n",
        "except ZeroDivisionError:\n",
        "    print(\"Error: Cannot divide by zero\")\n",
        "except ValueError:\n",
        "    print(\"Error: Invalid input, please enter a number\")\n",
        "except Exception as e:\n",
        "    print(\"An error occurred:\", e)\n"
      ],
      "metadata": {
        "colab": {
          "base_uri": "https://localhost:8080/"
        },
        "id": "Vf8xNma0_p7V",
        "outputId": "e3b595aa-fd61-4ae6-8934-499f93c254ab"
      },
      "execution_count": 9,
      "outputs": [
        {
          "output_type": "stream",
          "name": "stdout",
          "text": [
            "Enter a number: hudgiu.xhvyd>\n",
            "Error: Invalid input, please enter a number\n"
          ]
        }
      ]
    },
    {
      "cell_type": "markdown",
      "source": [
        "**7.Write the reason due to which following errors are raised:<br>\n",
        "a. EOFError<br>\n",
        "b. FloatingPointError<br>\n",
        "c. IndexError<br>\n",
        "d. MemoryError<br>\n",
        "e. OverflowError<br>\n",
        "f. TabError<br>\n",
        "g. ValueError**<br>"
      ],
      "metadata": {
        "id": "rS0F0Blv_3MI"
      }
    },
    {
      "cell_type": "markdown",
      "source": [
        "**a. EOFError (End of File Error):**<br>\n",
        "Raised when there's an attempt to read beyond the end of a file or input stream.<br>\n",
        "\n",
        "**b. FloatingPointError:**<br>\n",
        "Raised when a floating-point operation cannot be performed, typically due to an exceptional condition such as division by zero or an overflow.<br>\n",
        "\n",
        "**c. IndexError:**<br>\n",
        "Raised when a sequence (such as a list or string) is accessed using an index that is outside the range of valid indices.<br>\n",
        "\n",
        "**d. MemoryError:**<br>\n",
        "Raised when an operation runs out of memory, usually due to allocating more memory than the system can provide.<br>\n",
        "\n",
        "**e. OverflowError:**<br>\n",
        "Raised when an arithmetic operation exceeds the limits of the data type, causing an overflow.<br>\n",
        "\n",
        "**f. TabError:**<br>\n",
        "Raised when there's an inconsistent use of tabs and spaces for indentation in the source code.<br>\n",
        "\n",
        "**g. ValueError:**<br>\n",
        "Raised when a built-in operation or function receives an argument of the correct data type but with an invalid value.<br>\n",
        "\n",
        "These errors help in identifying and handling various exceptional situations that might occur during program execution. Proper error handling and exception management can make programs more robust and user-friendly.\n",
        "\n",
        "\n",
        "\n",
        "\n",
        "\n"
      ],
      "metadata": {
        "id": "P1kHNdvOHfsu"
      }
    },
    {
      "cell_type": "markdown",
      "source": [
        "**8.Write code for the following given scenario and add try-exception block to it.<br>\n",
        "a. Program to divide two numbers<br>\n",
        "b. Program to convert a string to an integer<br>\n",
        "c. Program to access an element in a list<br>\n",
        "d. Program to handle a specific exception<br>\n",
        "e. Program to handle any exception**<br>"
      ],
      "metadata": {
        "id": "oTY3XqQKJu9J"
      }
    },
    {
      "cell_type": "markdown",
      "source": [
        "a. Program to divide two numbers"
      ],
      "metadata": {
        "id": "KcTw5KCsKB-2"
      }
    },
    {
      "cell_type": "code",
      "source": [
        "try:\n",
        "  n1=int(input(\"Enter thr numerator: \"))\n",
        "  n2=int(input(\"Enter thr denominator: \"))\n",
        "  result=n1/n2\n",
        "  print(\"the result of the division of the two numbers is\",result)\n",
        "except ZeroDivisionError:\n",
        "    print(\"the denominator can not be zero\")\n",
        "except ValueError:\n",
        "      print(\"the numerator and denominator should be integer\")"
      ],
      "metadata": {
        "colab": {
          "base_uri": "https://localhost:8080/"
        },
        "id": "WdtR0s-3KGLV",
        "outputId": "d6fd9d73-87ea-4e18-a6ae-f02b5f2a9549"
      },
      "execution_count": 10,
      "outputs": [
        {
          "output_type": "stream",
          "name": "stdout",
          "text": [
            "Enter thr numerator: 5\n",
            "Enter thr denominator: 0\n",
            "the denominator can not be zero\n"
          ]
        }
      ]
    },
    {
      "cell_type": "markdown",
      "source": [
        "b. Program to convert a string to an integer"
      ],
      "metadata": {
        "id": "X9ItyzTlKfzq"
      }
    },
    {
      "cell_type": "code",
      "source": [
        "try:\n",
        "  string_value=input(\"enter the number: \")\n",
        "  interger_value=int(string_value)\n",
        "  print(\"The interger value is \",interger_value)\n",
        "except:\n",
        "  print(\"Enter an integer number\")"
      ],
      "metadata": {
        "colab": {
          "base_uri": "https://localhost:8080/"
        },
        "id": "cti6w4dgKhSe",
        "outputId": "1b0bfd51-8e38-4b34-ae00-e88d26995f58"
      },
      "execution_count": 11,
      "outputs": [
        {
          "output_type": "stream",
          "name": "stdout",
          "text": [
            "enter the number: j\n",
            "Enter an integer number\n"
          ]
        }
      ]
    },
    {
      "cell_type": "markdown",
      "source": [
        "c. Program to access an element in a list"
      ],
      "metadata": {
        "id": "XBkULTJONE0I"
      }
    },
    {
      "cell_type": "code",
      "source": [
        "try:\n",
        "    list1=[1,2,3,4]\n",
        "    i = int(input(\"Enter an index: \"))\n",
        "    print(list1[i])\n",
        "except IndexError:\n",
        "    print(\"wrong index\")\n"
      ],
      "metadata": {
        "colab": {
          "base_uri": "https://localhost:8080/"
        },
        "id": "VUulbw2HNFq3",
        "outputId": "6948a30a-e872-46c8-b5c8-c592a9159737"
      },
      "execution_count": 16,
      "outputs": [
        {
          "output_type": "stream",
          "name": "stdout",
          "text": [
            "Enter an index: 5\n",
            "wrong index\n"
          ]
        }
      ]
    },
    {
      "cell_type": "markdown",
      "source": [
        "d. Program to handle a specific exception"
      ],
      "metadata": {
        "id": "6nYWMnzvNoJx"
      }
    },
    {
      "cell_type": "code",
      "source": [
        "try:\n",
        "    my_dictionary={\"name\":\"Alice\",\"age\":22}\n",
        "    k = input(\"Enter an key: \")\n",
        "    print(my_dictionary[k])\n",
        "except KeyError:\n",
        "    print(\"wrong key\")"
      ],
      "metadata": {
        "colab": {
          "base_uri": "https://localhost:8080/"
        },
        "id": "cRC9s36BNpQV",
        "outputId": "aded012a-62f6-4c34-cec5-a75fc79539db"
      },
      "execution_count": 22,
      "outputs": [
        {
          "output_type": "stream",
          "name": "stdout",
          "text": [
            "Enter an key: name\n",
            "Alice\n"
          ]
        }
      ]
    },
    {
      "cell_type": "markdown",
      "source": [
        "e. Program to handle any exception"
      ],
      "metadata": {
        "id": "O-LACw8XPCEh"
      }
    },
    {
      "cell_type": "code",
      "source": [
        "try:\n",
        "    x = 10 / 0\n",
        "except Exception as e:\n",
        "    print(\"An exception occurred:\", e)"
      ],
      "metadata": {
        "colab": {
          "base_uri": "https://localhost:8080/"
        },
        "id": "hKqIVst9PJcR",
        "outputId": "7dc6593b-194d-41c6-e4b7-7224f50cf48c"
      },
      "execution_count": 1,
      "outputs": [
        {
          "output_type": "stream",
          "name": "stdout",
          "text": [
            "An exception occurred: division by zero\n"
          ]
        }
      ]
    }
  ]
}