{
  "cells": [
    {
      "cell_type": "code",
      "execution_count": null,
      "metadata": {
        "id": "7nReN6uOwPx_"
      },
      "outputs": [],
      "source": []
    },
    {
      "cell_type": "markdown",
      "metadata": {
        "id": "y5Wm4OFnwgVy"
      },
      "source": [
        "**1. What is the primary goal of Object-Oriented Programming (OOP)?**"
      ]
    },
    {
      "cell_type": "markdown",
      "metadata": {
        "id": "Z6xkEMe0Ml7F"
      },
      "source": [
        "The primary goal of Object-Oriented Programming (OOP) is to design software in a way that models real-world entities, their attributes, and their behaviors in a structured and modular manner. OOP promotes the following key principles and objectives:\n",
        "\n",
        "**Abstraction:** OOP allows us to abstract complex systems by breaking them down into smaller, manageable objects. These objects encapsulate both data (attributes) and the operations (methods) that can be performed on that data.\n",
        "\n",
        "**Encapsulation:** Encapsulation refers to the bundling of data and methods that operate on that data into a single unit called a class. This concept enforces data hiding, where the internal details of an object are hidden from the outside world. Only the necessary interfaces to interact with the object are exposed.\n",
        "\n",
        "**Inheritance:** Inheritance allows us to create new classes (subclasses or derived classes) based on existing classes (superclasses or base classes). This promotes code reuse and the creation of hierarchical relationships between classes.\n",
        "\n",
        "**Polymorphism:** Polymorphism enables objects of different classes to be treated as objects of a common superclass. It allows for method overriding, where a subclass can provide a specific implementation of a method defined in a superclass. Polymorphism makes it possible to write more generic and flexible code.\n",
        "\n",
        "**Modularity:** OOP encourages the development of modular and reusable code. Classes and objects can be independently developed, tested, and maintained. This promotes code organization and maintainability.\n",
        "\n",
        "**Flexibility and Extensibility:** OOP allows us to extend and modify software systems more easily. we can add new classes, override methods, or create entirely new hierarchies of classes without affecting existing code.\n",
        "\n",
        "**Real-World Modeling:** OOP facilitates the modeling of real-world entities and their relationships, making it easier to design software that reflects the problem domain accurately.\n",
        "\n",
        "**Collaboration:** OOP encourages collaboration among developers by defining clear interfaces and contracts between objects. This promotes teamwork and code integration.\n",
        "\n"
      ]
    },
    {
      "cell_type": "markdown",
      "metadata": {
        "id": "tNN_2x1LNTsF"
      },
      "source": [
        "**2. What is an object in Python?**"
      ]
    },
    {
      "cell_type": "markdown",
      "metadata": {
        "id": "BXMAhNTHUI84"
      },
      "source": [
        "In Python, an object is a fundamental concept that represents a real-world entity, data, or a combination of data and behaviors (methods). Objects are instances of classes, and classes define the blueprint or template for creating objects. Here are some key points about objects in Python:\n",
        "\n",
        "**Instance of a Class:** An object is an instance of a class. A class defines the structure and behavior that its instances (objects) will have. we can think of a class as a blueprint for creating objects.\n",
        "\n",
        "**Attributes:** Objects have attributes, which are variables that store data specific to that object. Attributes represent the state of the object. They can be accessed using dot notation, like object.attribute.\n",
        "\n",
        "**Methods:** Objects can have methods, which are functions defined within the class that operate on the object's data (attributes) and perform various actions or computations. Methods are accessed using dot notation, like object.method().\n",
        "\n",
        "**Identity:** Each object in Python has a unique identity, which is defined by its memory address. we can obtain an object's identity using the id() function.\n",
        "\n",
        "**Type:** Objects have a type or class, which determines their behavior and available methods. we can check an object's type using the type() function.\n",
        "\n",
        "**Instantiation:** Creating an object from a class is called instantiation. we create an instance of a class by calling the class as if it were a function. For example, my_object = MyClass() creates an instance of the MyClass class and assigns it to the variable my_object.\n",
        "\n",
        "Exanple:"
      ]
    },
    {
      "cell_type": "code",
      "execution_count": null,
      "metadata": {
        "colab": {
          "base_uri": "https://localhost:8080/"
        },
        "id": "FKMQ0uPjTrii",
        "outputId": "8c60e6f8-ef19-496d-872c-ba6ba7b955e0"
      },
      "outputs": [
        {
          "name": "stdout",
          "output_type": "stream",
          "text": [
            "Broonie\n",
            "Broonie says Woof :)\n"
          ]
        }
      ],
      "source": [
        "# Define a class\n",
        "class Dog:\n",
        "    def __init__(self, name):\n",
        "        self.name = name\n",
        "\n",
        "    def bark(self):\n",
        "        print(f\"{self.name} says Woof :)\")\n",
        "\n",
        "# Create object (instance) of the Dog class\n",
        "dog1 = Dog(\"Broonie\")\n",
        "\n",
        "# Access attributes and call methods\n",
        "print(dog1.name)  # Access the 'name' attribute\n",
        "dog1.bark()      # Call the 'bark' method\n"
      ]
    },
    {
      "cell_type": "markdown",
      "metadata": {
        "id": "-T4ds-obVZW9"
      },
      "source": [
        "In this example, dog1 is object (instance) of the Dog class. They have attributes (name) and methods (bark) defined by the class. This object encapsulates data and behavior related to dogs."
      ]
    },
    {
      "cell_type": "markdown",
      "metadata": {
        "id": "UEdQRcLZU2QB"
      },
      "source": [
        "**3. What is a class in Python?**"
      ]
    },
    {
      "cell_type": "markdown",
      "metadata": {
        "id": "kg0iWCODVq3M"
      },
      "source": [
        "In Python, a class is a blueprint or template for creating objects (instances). It defines the structure and behavior that objects created from the class will have. Classes are a fundamental concept in object-oriented programming (OOP) and are used to model real-world entities, abstract concepts, or data structures.\n",
        "\n",
        "Key characteristics of a class in Python include:\n",
        "\n",
        "**Attributes:** A class defines attributes, which are variables that store data associated with objects of the class. These attributes represent the state or characteristics of the objects. Attributes can be thought of as properties or variables that describe the object.\n",
        "\n",
        "**Methods:** A class defines methods, which are functions that operate on the attributes of objects. Methods define the behavior or actions that objects of the class can perform. Methods can be used to manipulate the object's state, perform computations, and interact with other objects.\n",
        "\n",
        "**Constructor:** A class can have a special method called a constructor, which is typically named '_ _init_ _'. The constructor is called when an object is created from the class and is used to initialize the object's attributes with initial values.\n",
        "\n",
        "**Encapsulation:** Classes support encapsulation, which means that the internal details of an object (such as attribute names and implementation details) can be hidden from the outside. Access to attributes and methods is controlled, and some can be made private (not directly accessible from outside the class).\n",
        "\n",
        "**Inheritance:** Python supports inheritance, allowing us to create new classes (derived or subclass) based on existing classes (base or superclass). Inheritance promotes code reuse and the creation of hierarchical relationships between classes.\n",
        "\n",
        "**Polymorphism:** Polymorphism is the ability of objects of different classes to be treated as objects of a common superclass. It allows for method overriding, where a subclass can provide a specific implementation of a method defined in a superclass.\n",
        "\n",
        "Example: Here too we can use the previous question's example where Dog is a class that defines attribute (name) and a method (bark). Object (dog1) created from this class encapsulate data (name) and behavior (bark method) related to dogs."
      ]
    },
    {
      "cell_type": "markdown",
      "metadata": {
        "id": "ozfqTDV7g6fN"
      },
      "source": [
        "**4. What are attributes and methods in a class?**"
      ]
    },
    {
      "cell_type": "markdown",
      "metadata": {
        "id": "LW33vTYNhV_C"
      },
      "source": [
        "In a class in Python, attributes and methods are two fundamental components that define the structure and behavior of objects created from that class. Here's an explanation of attributes and methods in a class:\n",
        "\n",
        "**Attributes:**\n",
        "\n",
        "Attributes are variables defined within a class that store data specific to the objects created from the class. They represent the state or characteristics of the objects.\n",
        "\n",
        "Attributes define what data an object of the class will contain. They are like properties or variables that describe the object.\n",
        "\n",
        "In Python, attributes can be accessed and modified using dot notation, where we specify the object's name followed by a dot and the attribute name (e.g., object.attribute).\n",
        "\n",
        "Attributes can have different data types, including numbers, strings, lists, or even other objects.\n",
        "\n",
        "Attributes can have default values defined in the class constructor (__init__) or can be set and modified after object creation.\n",
        "\n",
        "Example:"
      ]
    },
    {
      "cell_type": "code",
      "execution_count": null,
      "metadata": {
        "id": "nFbhbIQBlL2V"
      },
      "outputs": [],
      "source": [
        "class Person:\n",
        "  def __init__(self,name,age):\n",
        "    self.name=name\n",
        "    self.age=age # 'name' and 'age' are attributes\n",
        "\n"
      ]
    },
    {
      "cell_type": "markdown",
      "metadata": {
        "id": "VNZA5wuyl9Ky"
      },
      "source": [
        "**Methods:**\n",
        "\n",
        "Methods are functions defined within a class that specify the behavior or actions that objects of the class can perform.\n",
        "\n",
        "Methods define how an object interacts with and manipulates its data (attributes) and other objects.\n",
        "\n",
        "Methods can take arguments (parameters) and return values.\n",
        "\n",
        "Methods can be called on objects using dot notation, similar to attribute access (e.g., object.method()).\n",
        "\n",
        "Methods are used to implement the functionality associated with objects. They encapsulate operations that can be performed on objects of the class.\n",
        "\n",
        "Example:"
      ]
    },
    {
      "cell_type": "code",
      "execution_count": null,
      "metadata": {
        "colab": {
          "base_uri": "https://localhost:8080/"
        },
        "id": "q5YxEbsknIAJ",
        "outputId": "58cbfdf2-13c2-4adb-ef77-decd3bfe5c55"
      },
      "outputs": [
        {
          "name": "stdout",
          "output_type": "stream",
          "text": [
            "15\n"
          ]
        }
      ],
      "source": [
        "class Calculator:\n",
        "  def add(self,a,b):\n",
        "    return a+b\n",
        "print(Calculator.add(\"maitri\",8,7))"
      ]
    },
    {
      "cell_type": "markdown",
      "metadata": {
        "id": "wsStH0uxoRy1"
      },
      "source": [
        "**5. What is the difference between class variables and instance variables in Python?**"
      ]
    },
    {
      "cell_type": "markdown",
      "metadata": {
        "id": "aW0sksp8JLoL"
      },
      "source": [
        "In Python, class variables and instance variables are two types of variables used within classes to store data. They serve different purposes and have different scopes and lifetimes. Here's a breakdown of the differences between class variables and instance variables:\n",
        "\n",
        "**Scope:**\n",
        "\n",
        "**Class Variables:**\n",
        "\n",
        "Class variables are shared among all instances (objects) of a class.<br>\n",
        "They are defined within the class but outside of any methods.<br>\n",
        "Class variables are accessed using the class name itself or through any instance of the class.<br><br>\n",
        "**Instance Variables:**\n",
        "\n",
        "Instance variables are specific to individual instances (objects) of a class.<br>\n",
        "Each instance has its own set of instance variables.<br>\n",
        "They are typically defined and initialized within the class constructor (__init__) and are accessed through instances using dot notation.<br><br>\n",
        "**Lifetime:**\n",
        "\n",
        "**Class Variables:**\n",
        "\n",
        "Class variables exist for the entire duration of the program, as long as the class is defined and accessible.<br>\n",
        "They are shared among all instances and persist as long as the program is running.<br><br>\n",
        "**Instance Variables:**\n",
        "\n",
        "Instance variables exist for the lifetime of the specific instance (object) to which they belong.<br>\n",
        "They are created when an instance is created and are destroyed when the instance is no longer referenced or when the program exits.<br><br>\n",
        "**Initialization:**\n",
        "\n",
        "**Class Variables:**\n",
        "\n",
        "Class variables are typically defined at the class level and are initialized outside of any methods.<br>\n",
        "They can be shared by all instances and may hold default values common to all instances.<br><br>\n",
        "**Instance Variables:**\n",
        "\n",
        "Instance variables are initialized within the class constructor (__init__) and can have different values for each instance.<br>\n",
        "They are specific to an instance and may hold unique data related to that instance.<br><br>\n",
        "**Access:**\n",
        "\n",
        "**Class Variables:**\n",
        "\n",
        "Class variables are accessed using the class name itself or through any instance of the class.<br>\n",
        "Changes made to a class variable affect all instances.<br><br>\n",
        "**Instance Variables:**\n",
        "\n",
        "Instance variables are accessed through instances using dot notation (instance.variable_name).<br>\n",
        "Each instance has its own set of instance variables, so changes to one instance's variables do not affect others.<br><br>Example\n"
      ]
    },
    {
      "cell_type": "code",
      "execution_count": null,
      "metadata": {
        "colab": {
          "base_uri": "https://localhost:8080/"
        },
        "id": "NiU-6RKkKUCV",
        "outputId": "cb52f867-ebf4-48e5-edf0-79952e384c51"
      },
      "outputs": [
        {
          "name": "stdout",
          "output_type": "stream",
          "text": [
            "0\n",
            "1\n",
            "2\n"
          ]
        }
      ],
      "source": [
        "class Myclass:\n",
        "  class_var=0 #class variable\n",
        "  def __init__(self,instance_var):\n",
        "    self.instance_var=instance_var #instance variable\n",
        "#creating instances of MyClass\n",
        "obj1=Myclass(1)\n",
        "obj2=Myclass(2)\n",
        "#Accessing class and intance variables\n",
        "print(Myclass.class_var) # Accessing class variable\n",
        "print(obj1.instance_var) # Accessing instance variable for obj1\n",
        "print(obj2.instance_var) # Accessing instance variable for obj2"
      ]
    },
    {
      "cell_type": "markdown",
      "metadata": {
        "id": "6tLTmCYeagTi"
      },
      "source": [
        "**6. What is the purpose of the self parameter in Python class methods?**"
      ]
    },
    {
      "cell_type": "markdown",
      "metadata": {
        "id": "ooDCtXwh44jZ"
      },
      "source": [
        "In Python, the self parameter is a convention used in instance methods (also known as instance-bound methods) of a class. It serves the following purposes:\n",
        "\n",
        "**Reference to the Instance:** self is a reference to the instance (object) of the class on which the method is called. It allows the method to access and manipulate the attributes and other methods of that specific instance.\n",
        "\n",
        "**Access to Instance Variables:** self allows instance methods to access and modify instance variables. Instance variables are attributes specific to each instance, and self is used to distinguish which instance's data should be accessed or modified.\n",
        "\n",
        "**Method Invocation:** When we call a method on an instance (e.g., my_instance.my_method()), Python automatically passes the instance itself as the first argument (self) to the method. This is why we see self as the first parameter in instance method definitions.\n",
        "\n",
        "**Implicit Binding:** The use of self helps Python determine which instance of the class should be affected by a method call. It allows for implicit binding of the method to the instance.\n",
        "\n",
        "Example"
      ]
    },
    {
      "cell_type": "code",
      "execution_count": null,
      "metadata": {
        "id": "dI-TK6RP5zUg"
      },
      "outputs": [],
      "source": [
        "class Bank_Account:\n",
        "  def __init__(self,account_number,Holder_Name,Balance=0):\n",
        "    self.account_number=account_number\n",
        "    self.Holder_Name=Holder_Name\n",
        "    self.Balance=Balance #account_number,Holder_Name,Balanceare instance variables\n",
        "  def deposit(self,dep_amount):\n",
        "    self.Balance+=dep_amount\n"
      ]
    },
    {
      "cell_type": "code",
      "execution_count": null,
      "metadata": {
        "colab": {
          "base_uri": "https://localhost:8080/"
        },
        "id": "sKfuvSxl51_x",
        "outputId": "758c3926-585c-4dc0-b371-6d66adace4fc"
      },
      "outputs": [
        {
          "name": "stdout",
          "output_type": "stream",
          "text": [
            "0\n"
          ]
        }
      ],
      "source": [
        "#creating an instance of the Bank_Account class\n",
        "account1=Bank_Account(\"705448999\",\"Manash\",0)\n",
        "print(account1.Balance)"
      ]
    },
    {
      "cell_type": "code",
      "execution_count": null,
      "metadata": {
        "colab": {
          "base_uri": "https://localhost:8080/"
        },
        "id": "_xV5XxIL6eXK",
        "outputId": "3146d492-b4df-4a15-a628-a4e2efe96dd1"
      },
      "outputs": [
        {
          "name": "stdout",
          "output_type": "stream",
          "text": [
            "34000\n"
          ]
        }
      ],
      "source": [
        "#calling the \"deposite\" method on the instance\n",
        "account1.deposit(34000)\n",
        "print(acco\n",
        "unt1.Balance)"
      ]
    },
    {
      "cell_type": "markdown",
      "metadata": {
        "id": "L68pjnk27Qe_"
      },
      "source": [
        "**7. For a library management system, you have to design the \"Book\" class with OOP<br><br>\n",
        "principles in mind. The “Book” class will have following attributes:<br><br>\n",
        "a. title: Represents the title of the book.<br>\n",
        "b. author: Represents the author(s) of the book.<br>\n",
        "c. isbn: Represents the ISBN (International Standard Book Number) of the book.<br>\n",
        "d. publication_year: Represents the year of publication of the book.<br>\n",
        "e. available_copies: Represents the number of copies available for checkout.<br><br>\n",
        "The class will also include the following methods:<br><br>\n",
        "a. check_out(self): Decrements the available copies by one if there are copies\n",
        "available for checkout.<br>\n",
        "b. return_book(self): Increments the available copies by one when a book is\n",
        "returned.<br>\n",
        "c. display_book_info(self): Displays the information about the book, including its<br>\n",
        "attributes and the number of available copies.**"
      ]
    },
    {
      "cell_type": "code",
      "execution_count": null,
      "metadata": {
        "id": "NAYBhU_a9Qth"
      },
      "outputs": [],
      "source": [
        "class Book:\n",
        "  def __init__(self,title, author,isbn,publication_year,available_copies):\n",
        "      self.title=title\n",
        "      self.author=author\n",
        "      self.isbn=isbn\n",
        "      self.publication_year=publication_year\n",
        "      self.available_copies=available_copies\n",
        "  def check_out(self):\n",
        "        if self.available_copies > 0:\n",
        "            self.available_copies -= 1\n",
        "            print(f\"Checked out: {self.title}\")\n",
        "        else:\n",
        "            print(f\"Sorry, '{self.title}' is currently unavailable for checkout.\")\n",
        "\n",
        "  def return_book(self):\n",
        "      self.available_copies += 1\n",
        "      print(f\"Returned: {self.title}\")\n",
        "  def   display_book_info(self):\n",
        "    print(\"The Book Informations\")\n",
        "    print(f\"Tittle:{self.title}\\n Author(s):{self.author}\\n ISBN:{self.isbn}\\n Publication Year:self.publication_year\\n Available Copies:self.available_copies\")"
      ]
    },
    {
      "cell_type": "code",
      "execution_count": null,
      "metadata": {
        "id": "rejr_FWxBSsv"
      },
      "outputs": [],
      "source": [
        "book1=Book(\"The Vinci Code\",\"Dan Brown\",\"978030747478\",2009,5)"
      ]
    },
    {
      "cell_type": "code",
      "execution_count": null,
      "metadata": {
        "colab": {
          "base_uri": "https://localhost:8080/"
        },
        "id": "Hp_mlTY2B4ag",
        "outputId": "421573f6-a70a-45f0-8f3b-9d862d357635"
      },
      "outputs": [
        {
          "name": "stdout",
          "output_type": "stream",
          "text": [
            "The Book Informations\n",
            "Tittle:The Vinci Code\n",
            " Author(s):Dan Brown\n",
            " ISBN:978030747478\n",
            " Publication Year:self.publication_year\n",
            " Available Copies:self.available_copies\n"
          ]
        }
      ],
      "source": [
        "book1.display_book_info()"
      ]
    },
    {
      "cell_type": "code",
      "execution_count": null,
      "metadata": {
        "colab": {
          "base_uri": "https://localhost:8080/"
        },
        "id": "ycS-MsC1CEeD",
        "outputId": "3ae0d9d5-576a-4a51-bdb7-5e28d8c88de4"
      },
      "outputs": [
        {
          "name": "stdout",
          "output_type": "stream",
          "text": [
            "Checked out: The Vinci Code\n"
          ]
        }
      ],
      "source": [
        "book1.check_out()"
      ]
    },
    {
      "cell_type": "code",
      "execution_count": null,
      "metadata": {
        "colab": {
          "base_uri": "https://localhost:8080/"
        },
        "id": "esBemqcRCnwc",
        "outputId": "49b1bd11-352c-4d75-8e23-3f549e02ba48"
      },
      "outputs": [
        {
          "name": "stdout",
          "output_type": "stream",
          "text": [
            "Returned: The Vinci Code\n"
          ]
        }
      ],
      "source": [
        "book1.return_book()"
      ]
    },
    {
      "cell_type": "markdown",
      "metadata": {
        "id": "BOfW-a31D2eW"
      },
      "source": [
        "**8. For a ticket booking system, you have to design the \"Ticket\" class with OOP\n",
        "principles in mind. The “Ticket” class should have the following attributes:<br><br>\n",
        "a. ticket_id: Represents the unique identifier for the ticket.<br>\n",
        "b. event_name: Represents the name of the event.<br>\n",
        "c. event_date: Represents the date of the event.<br>\n",
        "d. venue: Represents the venue of the event.<br>\n",
        "e. seat_number: Represents the seat number associated with the ticket.<br>\n",
        "f. price: Represents the price of the ticket.<br>\n",
        "g. is_reserved: Represents the reservation status of the ticket.<br><br>\n",
        "The class also includes the following methods:<br><br>\n",
        "a. reserve_ticket(self): Marks the ticket as reserved if it is not already reserved.<br>\n",
        "b. cancel_reservation(self): Cancels the reservation of the ticket if it is already\n",
        "reserved.<br>\n",
        "c. display_ticket_info(self): Displays the information about the ticket, including its\n",
        "attributes and reservation status.**"
      ]
    },
    {
      "cell_type": "code",
      "execution_count": null,
      "metadata": {
        "id": "npMqDf86ENpK"
      },
      "outputs": [],
      "source": [
        "class Ticket:\n",
        "  def __init__(self,ticket_id,event_name, event_date,venue,seat_number,price,is_reserved):\n",
        "    self.ticket_id=ticket_id\n",
        "    self.event_name=event_name\n",
        "    self.event_date=event_date\n",
        "    self.venue=venue\n",
        "    self.seat_number=seat_number\n",
        "    self.price=price\n",
        "    self.is_reserved=False #initializing as not reserved\n",
        "  def  reserve_ticket(self):\n",
        "    if  not self.is_reserved:\n",
        "        self.is_reserved=True\n",
        "        print(f\"Ticket {self.ticket_id} for {self.event_name} is reserved successfully\")\n",
        "    else:\n",
        "       print(f\"Sorry : Ticket {self.ticket_id} for {self.event_name} is already reserved \")\n",
        "  def cancel_reservation(self):\n",
        "    if  self.is_reserved:\n",
        "        self.is_reserved=False\n",
        "        print(f\"Ticket {self.ticket_id} for {self.event_name} is cancelled successfully\")\n",
        "    else:\n",
        "       print(f\"Sorry : Ticket {self.ticket_id} for {self.event_name} is not reserved yet \")\n",
        "  def display_ticket_info(self):\n",
        "     print(\"The Ticket Informations\")\n",
        "     print(f\"Ticket ID:{self.ticket_id}\\n Name of the Event:{self.event_name}\\n Date of the Event:{self.event_date}\\n Venue Year:self.venue\\n Seat Number:self.seat_number\\n Price of the Ticket: {self.price}\\n\")\n",
        "     if self.is_reserved:\n",
        "            print(\" Reservation Status of thr Ticket: Reserved\")\n",
        "     else:\n",
        "            print(\" Reservation Status of thr Ticket: Not Reserved\")\n"
      ]
    },
    {
      "cell_type": "code",
      "execution_count": null,
      "metadata": {
        "id": "VHpnkWHSJeIV"
      },
      "outputs": [],
      "source": [
        "ticket1=Ticket(\"cc1inox023456\",\"Movie Oppenheimer\",\"11-August-2023\",\"CC2 INOX\",\"A12\",250)\n",
        "ticket2=Ticket(\"cc1inox023456\",\"Movie Oppenheimer\",\"11-August-2023\",\"CC2 INOX\",\"A13\",250)\n",
        "\n"
      ]
    },
    {
      "cell_type": "code",
      "execution_count": null,
      "metadata": {
        "colab": {
          "base_uri": "https://localhost:8080/"
        },
        "id": "PCOvvoLvLGI4",
        "outputId": "ee88bb4f-2d48-427e-d5e2-b7f465f6eb9b"
      },
      "outputs": [
        {
          "name": "stdout",
          "output_type": "stream",
          "text": [
            "The Ticket Informations\n",
            "Ticket ID:cc1inox023456\n",
            " Name of the Event:Movie Oppenheimer\n",
            " Date of the Event:11-August-2023\n",
            " Venue Year:self.venue\n",
            " Seat Number:self.seat_number\n",
            " Price of the Ticket: 250\n",
            "\n",
            " Reservation Status of thr Ticket: Not Reserved\n"
          ]
        }
      ],
      "source": [
        "ticket1.display_ticket_info()"
      ]
    },
    {
      "cell_type": "code",
      "execution_count": null,
      "metadata": {
        "colab": {
          "base_uri": "https://localhost:8080/"
        },
        "id": "P7H1vINCLRYq",
        "outputId": "7dc9dfde-a513-45bd-c6ec-d9248479efbe"
      },
      "outputs": [
        {
          "name": "stdout",
          "output_type": "stream",
          "text": [
            "Ticket cc1inox023456 for Movie Oppenheimer is reserved successfully\n"
          ]
        }
      ],
      "source": [
        "ticket1.reserve_ticket()"
      ]
    },
    {
      "cell_type": "code",
      "execution_count": null,
      "metadata": {
        "colab": {
          "base_uri": "https://localhost:8080/"
        },
        "id": "odr99iYgL-C2",
        "outputId": "91f68ee4-1285-4f4a-d6d6-1bd2911725d7"
      },
      "outputs": [
        {
          "name": "stdout",
          "output_type": "stream",
          "text": [
            "Ticket cc1inox023456 for Movie Oppenheimer is cancelled successfully\n"
          ]
        }
      ],
      "source": [
        "ticket1.cancel_reservation()"
      ]
    },
    {
      "cell_type": "code",
      "execution_count": null,
      "metadata": {
        "colab": {
          "base_uri": "https://localhost:8080/"
        },
        "id": "bNuu6hq5MReD",
        "outputId": "defeb66a-18b0-4bfa-8187-76f30de004c4"
      },
      "outputs": [
        {
          "name": "stdout",
          "output_type": "stream",
          "text": [
            "Sorry : Ticket cc1inox023456 for Movie Oppenheimer is not reserved yet \n"
          ]
        }
      ],
      "source": [
        "ticket2.cancel_reservation()"
      ]
    },
    {
      "cell_type": "markdown",
      "metadata": {
        "id": "jLJz0qKkMZBy"
      },
      "source": [
        "**9. You are creating a shopping cart for an e-commerce website.<br> Using OOP to model\n",
        "the \"ShoppingCart\" functionality the class should contain following attributes and\n",
        "methods:<br><br>\n",
        "a. items: Represents the list of items in the shopping cart.<br><br>\n",
        "The class also includes the following methods:<br><br>\n",
        "\n",
        "a. add_item(self, item): Adds an item to the shopping cart by appending it to the\n",
        "list of items.<br>\n",
        "b. remove_item(self, item): Removes an item from the shopping cart if it exists in\n",
        "the list.<br>\n",
        "c. view_cart(self): Displays the items currently present in the shopping cart.<br>\n",
        "d. clear_cart(self): Clears all items from the shopping cart by reassigning an\n",
        "empty list to the items attribute.**"
      ]
    },
    {
      "cell_type": "code",
      "execution_count": null,
      "metadata": {
        "id": "SuiqGpUZXXjK"
      },
      "outputs": [],
      "source": [
        "class ShoppingCart:\n",
        "    def __init__(self):\n",
        "        self.items = []\n",
        "\n",
        "    def add_item(self, item):\n",
        "        self.items.append(item)\n",
        "        print(f\"Added {item} to the shopping cart.\")\n",
        "\n",
        "    def remove_item(self, item):\n",
        "        if item in self.items:\n",
        "            self.items.remove(item)\n",
        "            print(f\"{item} is removed from the shopping cart.\")\n",
        "        else:\n",
        "            print(f\"{item} is not in the shopping cart.\")\n",
        "\n",
        "    def view_cart(self):\n",
        "        print(\"Items in the Shopping Cart:\")\n",
        "        for item in self.items:\n",
        "            print(item)\n",
        "\n",
        "    def clear_cart(self):\n",
        "        self.items = []\n",
        "        print(\"Shopping cart is now empty.\")\n",
        "\n",
        "\n"
      ]
    },
    {
      "cell_type": "code",
      "execution_count": null,
      "metadata": {
        "colab": {
          "base_uri": "https://localhost:8080/"
        },
        "id": "7ua8at0-Xd3d",
        "outputId": "1614ebfc-1b44-4bc5-e5dd-7a419ec72e21"
      },
      "outputs": [
        {
          "name": "stdout",
          "output_type": "stream",
          "text": [
            "Added Marmallow to the shopping cart.\n",
            "Added Rum & Raisin to the shopping cart.\n",
            "Added Hoodie to the shopping cart.\n",
            "Added Corn to the shopping cart.\n"
          ]
        }
      ],
      "source": [
        "cart = ShoppingCart()\n",
        "\n",
        "\n",
        "cart.add_item(\"Marmallow\")\n",
        "cart.add_item(\"Rum & Raisin\")\n",
        "cart.add_item(\"Hoodie\")\n",
        "cart.add_item(\"Corn\")\n",
        "\n",
        "\n",
        "\n"
      ]
    },
    {
      "cell_type": "code",
      "execution_count": null,
      "metadata": {
        "colab": {
          "base_uri": "https://localhost:8080/"
        },
        "id": "0yEOzzq1Ya5v",
        "outputId": "96de45f8-23a6-4b9a-9bf9-3d293ed770b2"
      },
      "outputs": [
        {
          "name": "stdout",
          "output_type": "stream",
          "text": [
            "Corn is removed from the shopping cart.\n"
          ]
        }
      ],
      "source": [
        "cart.remove_item(\"Corn\")"
      ]
    },
    {
      "cell_type": "code",
      "execution_count": null,
      "metadata": {
        "colab": {
          "base_uri": "https://localhost:8080/"
        },
        "id": "tFaGqdxQYodC",
        "outputId": "f697333d-aa01-4632-f30c-ed24cc317056"
      },
      "outputs": [
        {
          "name": "stdout",
          "output_type": "stream",
          "text": [
            "Items in the Shopping Cart:\n",
            "Marmallow\n",
            "Rum & Raisin\n",
            "Hoodie\n"
          ]
        }
      ],
      "source": [
        "cart.view_cart()"
      ]
    },
    {
      "cell_type": "code",
      "execution_count": null,
      "metadata": {
        "colab": {
          "base_uri": "https://localhost:8080/"
        },
        "id": "nDLHRFkvYw5I",
        "outputId": "8d962577-cd5c-4dee-eb99-7c26ff72336d"
      },
      "outputs": [
        {
          "name": "stdout",
          "output_type": "stream",
          "text": [
            "Shopping cart is now empty.\n"
          ]
        }
      ],
      "source": [
        "cart.clear_cart()"
      ]
    },
    {
      "cell_type": "code",
      "execution_count": null,
      "metadata": {
        "colab": {
          "base_uri": "https://localhost:8080/"
        },
        "id": "olswh7vsY2nR",
        "outputId": "e0388c95-e4b8-46ab-b2bf-02ff27074055"
      },
      "outputs": [
        {
          "name": "stdout",
          "output_type": "stream",
          "text": [
            "Items in the Shopping Cart:\n"
          ]
        }
      ],
      "source": [
        "cart.view_cart()"
      ]
    },
    {
      "cell_type": "markdown",
      "metadata": {
        "id": "XkKkwg-mY6UP"
      },
      "source": [
        "**10. Imagine a school management system. You have to design the \"Student\" class using\n",
        "OOP concepts.<br>The “Student” class has the following attributes:<br><br>\n",
        "a. name: Represents the name of the student.<br>\n",
        "b. age: Represents the age of the student.<br>\n",
        "c. grade: Represents the grade or class of the student.<br>\n",
        "d. student_id: Represents the unique identifier for the student.<br>\n",
        "e. attendance: Represents the attendance record of the student.<br><br>\n",
        "The class should also include the following methods:<br><br>\n",
        "a. update_attendance(self, date, status): Updates the attendance record of the\n",
        "student for a given date with the provided status (e.g., present or absent).<br>\n",
        "b. get_attendance(self): Returns the attendance record of the student.<br>\n",
        "c. get_average_attendance(self): Calculates and returns the average\n",
        "attendance percentage of the student based on their attendance record.**"
      ]
    },
    {
      "cell_type": "code",
      "execution_count": null,
      "metadata": {
        "colab": {
          "base_uri": "https://localhost:8080/",
          "height": 144
        },
        "id": "rbF7_fmhZMsI",
        "outputId": "3f63b4c2-95c2-4437-968e-d8c30fae68cc"
      },
      "outputs": [
        {
          "ename": "IndentationError",
          "evalue": "ignored",
          "output_type": "error",
          "traceback": [
            "\u001b[0;36m  File \u001b[0;32m\"<tokenize>\"\u001b[0;36m, line \u001b[0;32m8\u001b[0m\n\u001b[0;31m    def update_attendance(self, date, status):\u001b[0m\n\u001b[0m    ^\u001b[0m\n\u001b[0;31mIndentationError\u001b[0m\u001b[0;31m:\u001b[0m unindent does not match any outer indentation level\n"
          ]
        }
      ],
      "source": [
        "class Student:\n",
        "    def __init__(self, name, age, grade, student_id):\n",
        "        self.name = name\n",
        "        self.age = age\n",
        "        self.grade = grade\n",
        "        self.student_id = student_id\n",
        "        self.attendance = {}\n",
        "   def update_attendance(self, date, status):\n",
        "     if date not in self.attendance:\n",
        "       self.attendance[date]=status\n",
        "       print(f\"Attendance updated for {self.name} on {date}: {status}\")\n",
        "     else:\n",
        "       print(f\"Attendance for {self.name} on {date} already exists.\")\n",
        "   def get_attendance(self):\n",
        "     return self.attendance\n",
        "   def  get_average_attendance(self):\n",
        "     if not self.attendance:\n",
        "       return 0.0\n",
        "     total_days=len(self.attendance)\n",
        "     present_days=sum(1 for status in self.attendance.values() if status==\"present\")\n",
        "     average_attendance= present_days/ total_days\n",
        "    return average_attendance"
      ]
    },
    {
      "cell_type": "code",
      "execution_count": null,
      "metadata": {
        "colab": {
          "background_save": true
        },
        "id": "FnOXOUVec5QK"
      },
      "outputs": [],
      "source": [
        "student1=Student(\"Manash\",15,\"Grade 9\",\"S12345\")"
      ]
    },
    {
      "cell_type": "code",
      "execution_count": 108,
      "metadata": {
        "id": "dyQ9aDvweaYg"
      },
      "outputs": [],
      "source": [
        "class Student:\n",
        "    def __init__(self, name, age, grade, student_id):\n",
        "        self.name = name\n",
        "        self.age = age\n",
        "        self.grade = grade\n",
        "        self.student_id = student_id\n",
        "        self.attendance = {}  # Initialize attendance as an empty dictionary\n",
        "\n",
        "    def update_attendance(self, date, status):\n",
        "        if date not in self.attendance:\n",
        "            self.attendance[date] = status\n",
        "            print(f\"Attendance updated for {self.name} on {date}: {status}\")\n",
        "        else:\n",
        "            print(f\"Attendance for {self.name} on {date} already exists.\")\n",
        "\n",
        "    def get_attendance(self):\n",
        "        return self.attendance\n",
        "\n",
        "    def get_average_attendance(self):\n",
        "        if not self.attendance:\n",
        "            return 0.0  # Return 0% attendance if no attendance records are available\n",
        "\n",
        "        total_days = len(self.attendance)\n",
        "        present_days = sum(1 for status in self.attendance.values() if status == \"present\")\n",
        "        average_attendance = (present_days / total_days) * 100\n",
        "        return average_attendance\n"
      ]
    },
    {
      "cell_type": "code",
      "execution_count": 109,
      "metadata": {
        "id": "lDlNSlGLecNJ"
      },
      "outputs": [],
      "source": [
        "student1=Student(\"Manash\",15,\"Grade 9\",\"S12345\")"
      ]
    },
    {
      "cell_type": "code",
      "source": [
        "student1.update_attendance(\"2023-09-10\", \"present\")\n",
        "student1.update_attendance(\"2023-09-11\", \"absent\")\n",
        "student1.update_attendance(\"2023-09-12\", \"present\")"
      ],
      "metadata": {
        "colab": {
          "base_uri": "https://localhost:8080/"
        },
        "id": "Wl6RdgYYhkDE",
        "outputId": "d40d237a-8761-4cf1-d40c-eae226a1001d"
      },
      "execution_count": 111,
      "outputs": [
        {
          "output_type": "stream",
          "name": "stdout",
          "text": [
            "Attendance updated for Manash on 2023-09-10: present\n",
            "Attendance updated for Manash on 2023-09-11: absent\n",
            "Attendance updated for Manash on 2023-09-12: present\n"
          ]
        }
      ]
    },
    {
      "cell_type": "code",
      "source": [
        "attendance = student1.get_attendance()\n",
        "print(\"Attendance Record:\")\n",
        "for date, status in attendance.items():\n",
        "    print(f\"{date}: {status}\")"
      ],
      "metadata": {
        "colab": {
          "base_uri": "https://localhost:8080/"
        },
        "id": "sQ7DCCv7hsbH",
        "outputId": "cde38b2c-b5b7-4b20-a130-e7745b67d7e6"
      },
      "execution_count": 112,
      "outputs": [
        {
          "output_type": "stream",
          "name": "stdout",
          "text": [
            "Attendance Record:\n",
            "2023-09-10: present\n",
            "2023-09-11: absent\n",
            "2023-09-12: present\n"
          ]
        }
      ]
    },
    {
      "cell_type": "code",
      "source": [
        "average_attendance = student1.get_average_attendance()\n",
        "print(f\"Average Attendance: {average_attendance}%\")"
      ],
      "metadata": {
        "colab": {
          "base_uri": "https://localhost:8080/"
        },
        "id": "B2zfMXJbhw7l",
        "outputId": "e06df974-e215-441c-8c12-ce1262e8a3ec"
      },
      "execution_count": 114,
      "outputs": [
        {
          "output_type": "stream",
          "name": "stdout",
          "text": [
            "Average Attendance: 66.66666666666666%\n"
          ]
        }
      ]
    }
  ],
  "metadata": {
    "colab": {
      "provenance": []
    },
    "kernelspec": {
      "display_name": "Python 3",
      "name": "python3"
    },
    "language_info": {
      "name": "python"
    }
  },
  "nbformat": 4,
  "nbformat_minor": 0
}