{
  "nbformat": 4,
  "nbformat_minor": 0,
  "metadata": {
    "colab": {
      "provenance": []
    },
    "kernelspec": {
      "name": "python3",
      "display_name": "Python 3"
    },
    "language_info": {
      "name": "python"
    }
  },
  "cells": [
    {
      "cell_type": "markdown",
      "source": [
        "**1. What exactly is []?**<br>\n",
        "Ans: In Python,’ []’ is used to create an empty list. A list is a fundamental data structure in Python that can hold an ordered collection of items, which can be of any data type. An empty list is simply a list with no elements.\n",
        "Here's how you can create an empty list using []:<br>\n",
        "python code\n",
        "empty_list = []\n",
        "we can also create a list with elements by placing values within the square brackets\n",
        "2. In a list of values stored in a variable called spam, how would you assign the value “hello” as the\n",
        "third value? (Assume [2, 4, 6, 8, 10] are in spam.)\n",
        "Ans: To assign the value \"hello\" as the third value in a list stored in a variable called ‘spam’, we can use indexing and assignment:\n",
        "Python code:\n"
      ],
      "metadata": {
        "id": "jwPpAHU8Vi1Q"
      }
    },
    {
      "cell_type": "code",
      "source": [
        "spam=[2,4,6,8,10]\n",
        "spam[2]=\"hello\"\n",
        "print(spam)\n"
      ],
      "metadata": {
        "colab": {
          "base_uri": "https://localhost:8080/"
        },
        "id": "ZxPb_W7OWUh1",
        "outputId": "8de6ea60-a83a-415c-ff5d-ca726f874fed"
      },
      "execution_count": null,
      "outputs": [
        {
          "output_type": "stream",
          "name": "stdout",
          "text": [
            "[2, 4, 'hello', 8, 10]\n"
          ]
        }
      ]
    },
    {
      "cell_type": "markdown",
      "source": [
        "**Let’s pretend the spam includes the list [‘a’, ‘b’,’c’,’d’] for the next three queries.<br>\n",
        "3. What is the value of spam[int(int(‘3’ * 2) / 11)]?**<br>\n",
        "Ans: Python Code\n"
      ],
      "metadata": {
        "id": "9328KWjyWwIU"
      }
    },
    {
      "cell_type": "code",
      "source": [
        "spam=[\"a\",\"b\",\"c\",\"d\"]\n",
        "spam[int(int('3' * 2) / 11)]"
      ],
      "metadata": {
        "colab": {
          "base_uri": "https://localhost:8080/",
          "height": 36
        },
        "id": "LCoC4YOgW6me",
        "outputId": "3415c4f6-0d19-485d-9792-2f8fde77c6b5"
      },
      "execution_count": null,
      "outputs": [
        {
          "output_type": "execute_result",
          "data": {
            "text/plain": [
              "'d'"
            ],
            "application/vnd.google.colaboratory.intrinsic+json": {
              "type": "string"
            }
          },
          "metadata": {},
          "execution_count": 2
        }
      ]
    },
    {
      "cell_type": "markdown",
      "source": [
        "**4. What is the value of spam[-1]?**<br>\n",
        "Ans: Python Code\n"
      ],
      "metadata": {
        "id": "1XMhWEXcXB0Q"
      }
    },
    {
      "cell_type": "code",
      "source": [
        "spam[-1]"
      ],
      "metadata": {
        "colab": {
          "base_uri": "https://localhost:8080/",
          "height": 36
        },
        "id": "pqpMw42BXFs_",
        "outputId": "b098f14a-325a-4acc-cdb1-b373d9bd2ea5"
      },
      "execution_count": null,
      "outputs": [
        {
          "output_type": "execute_result",
          "data": {
            "text/plain": [
              "'d'"
            ],
            "application/vnd.google.colaboratory.intrinsic+json": {
              "type": "string"
            }
          },
          "metadata": {},
          "execution_count": 3
        }
      ]
    },
    {
      "cell_type": "markdown",
      "source": [
        "**5. What is the value of spam[:2]?**<br>\n",
        "Ans: Python code\n"
      ],
      "metadata": {
        "id": "MTtc6Aj5XK3-"
      }
    },
    {
      "cell_type": "code",
      "source": [
        "spam[:2]"
      ],
      "metadata": {
        "colab": {
          "base_uri": "https://localhost:8080/"
        },
        "id": "1sFKRxPaXN2A",
        "outputId": "77fc7642-471b-4822-84a0-aae94921c43d"
      },
      "execution_count": null,
      "outputs": [
        {
          "output_type": "execute_result",
          "data": {
            "text/plain": [
              "['a', 'b']"
            ]
          },
          "metadata": {},
          "execution_count": 4
        }
      ]
    },
    {
      "cell_type": "markdown",
      "source": [
        "**Let’s pretend bacon has the list [3.14, ‘cat’, 11, cat’, True] for the next three questions.**<br>**6. What is the value of bacon.index(‘cat’)?**<br>\n",
        "Ans:\n"
      ],
      "metadata": {
        "id": "394otTuHXcGu"
      }
    },
    {
      "cell_type": "code",
      "source": [
        "bacon=[3.14,\"cat\",11,\"cat\",True]\n",
        "bacon.index(\"cat\")\n"
      ],
      "metadata": {
        "colab": {
          "base_uri": "https://localhost:8080/"
        },
        "id": "2u8kYT6NXeaX",
        "outputId": "76bff95f-d375-4601-a24b-ecab242ddfe6"
      },
      "execution_count": null,
      "outputs": [
        {
          "output_type": "execute_result",
          "data": {
            "text/plain": [
              "1"
            ]
          },
          "metadata": {},
          "execution_count": 5
        }
      ]
    },
    {
      "cell_type": "markdown",
      "source": [
        "**7. How does bacon.append(99) change the look of the list value in bacon?**<br>\n",
        "Ans:\n"
      ],
      "metadata": {
        "id": "zJxqduSNXwYW"
      }
    },
    {
      "cell_type": "code",
      "source": [
        "bacon.append(99)\n",
        "print(bacon)"
      ],
      "metadata": {
        "colab": {
          "base_uri": "https://localhost:8080/"
        },
        "id": "SxkwZJpZX2v5",
        "outputId": "8b502e5e-e3ea-4c25-b0f6-9b0df11bd632"
      },
      "execution_count": null,
      "outputs": [
        {
          "output_type": "stream",
          "name": "stdout",
          "text": [
            "[3.14, 'cat', 11, 'cat', True, 99]\n"
          ]
        }
      ]
    },
    {
      "cell_type": "markdown",
      "source": [
        "**8. How does bacon.remove(‘cat’) change the look of the list in bacon?**<br>\n",
        "Ans:\n"
      ],
      "metadata": {
        "id": "pn_c1q3pX_xz"
      }
    },
    {
      "cell_type": "code",
      "source": [
        "bacon.remove(\"cat\")\n",
        "print(bacon)"
      ],
      "metadata": {
        "colab": {
          "base_uri": "https://localhost:8080/"
        },
        "id": "VDiloNVEYFMB",
        "outputId": "66966a35-f73c-46f8-c87e-15e34c4f66a6"
      },
      "execution_count": null,
      "outputs": [
        {
          "output_type": "stream",
          "name": "stdout",
          "text": [
            "[3.14, 11, 'cat', True, 99]\n"
          ]
        }
      ]
    },
    {
      "cell_type": "markdown",
      "source": [
        "**9. What are the list concatenation and list replication operators?**<br>\n",
        "Ans: In Python, the list concatenation operator is +, and the list replication operator is *.<br>\n",
        "**1.\tList Concatenation Operator (+): **The + operator is used to concatenate (combine) two or more lists into a single list. It creates a new list containing all the elements from the original lists in the order they appear.<br>\n",
        "Example:\n"
      ],
      "metadata": {
        "id": "tNcO7WNIYRy0"
      }
    },
    {
      "cell_type": "code",
      "source": [
        "List1=[1,2,3,4]\n",
        "List2=[5,6,7,8]\n",
        "Concatinated_List=List1+List2\n",
        "print(Concatinated_List)\n"
      ],
      "metadata": {
        "colab": {
          "base_uri": "https://localhost:8080/"
        },
        "id": "C1ASXbcFYZkB",
        "outputId": "2ac0a7e3-7edf-4b00-dbe2-005dbc1f3aef"
      },
      "execution_count": null,
      "outputs": [
        {
          "output_type": "stream",
          "name": "stdout",
          "text": [
            "[1, 2, 3, 4, 5, 6, 7, 8]\n"
          ]
        }
      ]
    },
    {
      "cell_type": "markdown",
      "source": [
        "**2.\tList Replication Operator (*):** The * operator is used to replicate a list by a specified number of times. It creates a new list containing repeated copies of the original list.<br>\n",
        "Example:\n"
      ],
      "metadata": {
        "id": "fdjRnXy6YnHO"
      }
    },
    {
      "cell_type": "code",
      "source": [
        "List=[1,0]\n",
        "Replicated_List=List*3\n",
        "print(Replicated_List)\n"
      ],
      "metadata": {
        "colab": {
          "base_uri": "https://localhost:8080/"
        },
        "id": "C3jpezN6YtHQ",
        "outputId": "e3e6688e-5be2-448c-e060-1cfbfd525543"
      },
      "execution_count": null,
      "outputs": [
        {
          "output_type": "stream",
          "name": "stdout",
          "text": [
            "[1, 0, 1, 0, 1, 0]\n"
          ]
        }
      ]
    },
    {
      "cell_type": "markdown",
      "source": [
        "**10. What is difference between the list methods append() and insert()?**<br>\n",
        "Ans: Both the append() and insert() methods are used to add elements to a list in Python, but they differ in how they add elements and where they add them within the list:<br>\n",
        "1.\tappend() Method: The append() method is used to add an element to the end of a list. It takes a single argument, which is the element you want to add.<br>\n",
        "Example:\n"
      ],
      "metadata": {
        "id": "UaEZLNNsYz-G"
      }
    },
    {
      "cell_type": "code",
      "source": [
        "list=[1,2,4]\n",
        "list.append(3)\n",
        "print(list)\n"
      ],
      "metadata": {
        "colab": {
          "base_uri": "https://localhost:8080/"
        },
        "id": "WCPZ1BBOY6HG",
        "outputId": "3ff09e65-1c48-498f-d1ba-6c9ffc3b4a1d"
      },
      "execution_count": null,
      "outputs": [
        {
          "output_type": "stream",
          "name": "stdout",
          "text": [
            "[1, 2, 4, 3]\n"
          ]
        }
      ]
    },
    {
      "cell_type": "markdown",
      "source": [
        "2.\tinsert() Method: The insert() method is used to add an element at a specific index within the list. It takes two arguments: the index at which you want to insert the element and the element itself.<br>\n",
        "       Example:\n"
      ],
      "metadata": {
        "id": "GyQj7ZMJZDZz"
      }
    },
    {
      "cell_type": "code",
      "source": [
        "       list1=[1,2,4]\n",
        "       list1.insert(2,3)\n",
        "       print(list1)\n"
      ],
      "metadata": {
        "colab": {
          "base_uri": "https://localhost:8080/"
        },
        "id": "eJ17eahuZHe7",
        "outputId": "4b8055ef-7a5e-492f-fdac-b8780270d366"
      },
      "execution_count": null,
      "outputs": [
        {
          "output_type": "stream",
          "name": "stdout",
          "text": [
            "[1, 2, 3, 4]\n"
          ]
        }
      ]
    },
    {
      "cell_type": "markdown",
      "source": [
        "**11. What are the two methods for removing items from a list?**<br>\n",
        "Ans: There are two methods for removing items from a list in Python:<br>\n",
        "1.\tremove() Method: The remove() method is used to remove the first occurrence of a specified value from the list. If the value is not found, it raises a ValueError.\n"
      ],
      "metadata": {
        "id": "ShYdaFYmZTiD"
      }
    },
    {
      "cell_type": "code",
      "source": [
        "my_list = [1, 2, 3, 2, 4]\n",
        "my_list.remove(2)\n",
        "print(my_list)\n"
      ],
      "metadata": {
        "colab": {
          "base_uri": "https://localhost:8080/"
        },
        "id": "kpef3Y87ZYf2",
        "outputId": "ebc058b0-4ee4-4bca-c51e-a5aaf7367857"
      },
      "execution_count": null,
      "outputs": [
        {
          "output_type": "stream",
          "name": "stdout",
          "text": [
            "[1, 3, 2, 4]\n"
          ]
        }
      ]
    },
    {
      "cell_type": "markdown",
      "source": [
        "2.\tpop() Method: The pop() method is used to remove an element from a specific index in the list. It takes an optional index argument and returns the removed element. If no index is provided, it removes and returns the last element."
      ],
      "metadata": {
        "id": "wOJ_Gn6XZfXu"
      }
    },
    {
      "cell_type": "code",
      "source": [
        "my_list = [1, 2, 3, 4]\n",
        "removed_element = my_list.pop(1)\n",
        "print( my_list)\n"
      ],
      "metadata": {
        "colab": {
          "base_uri": "https://localhost:8080/"
        },
        "id": "4LS6aJSZZg3v",
        "outputId": "5b15755b-6a85-4cf7-81cd-59df02eb5d71"
      },
      "execution_count": null,
      "outputs": [
        {
          "output_type": "stream",
          "name": "stdout",
          "text": [
            "[1, 3, 4]\n"
          ]
        }
      ]
    },
    {
      "cell_type": "markdown",
      "source": [
        "**12. Describe how list values and string values are identical.**<br>\n",
        "Ans: List values and string values share some similarities in terms of their characteristics and operations:<br>\n",
        "1.\tOrdered Sequences: Both lists and strings are ordered sequences of elements. In a list, the elements can be of any data type (including other lists), while in a string, the elements are characters.<br>\n",
        "2.\tIndexing and Slicing: Both lists and strings can be accessed using indexing and slicing. You can retrieve individual elements by their index and extract sublists or substrings using slicing.<br>\n",
        "3.\tIteration: You can iterate over both lists and strings using loops. This allows you to process each element or character in sequence.<br>\n",
        "4.\tConcatenation: Both lists and strings support concatenation using the + operator. You can combine multiple lists or strings to create a new one.<br>\n",
        "5.\tReplication: Both lists and strings support replication using the *<br> operator. You can create a new list or string by repeating the original multiple times.<br>\n",
        "6.\tLength: You can determine the length of both lists and strings using the len() function. It returns the number of elements (for lists) or characters (for strings).<br>\n",
        "However, there are also important differences between lists and strings. Lists are mutable (modifiable), meaning you can change their elements after creation, while strings are immutable (unchangeable), meaning you cannot modify individual characters within a string. Additionally, lists can contain elements of different types, while strings consist of characters only.\n",
        "13. What’s the difference between tuples and lists?\n",
        "Ans: 1. Mutability:<br>\n",
        "•\tLists: Lists are mutable, meaning you can modify their elements after creation. You can add, remove, or change elements within a list.<br>\n",
        "•\tTuples: Tuples are immutable, meaning once you create a tuple, you cannot modify its elements. Tuples are essentially read-only lists.\n",
        "2. Syntax:<br>\n",
        "•\tLists: Lists are defined using square brackets [].\n",
        "•\tTuples: Tuples are defined using parentheses ().\n",
        "3. Use Cases:<br>\n",
        "•\tLists: Lists are commonly used when you need a collection that can be modified dynamically, such as storing a list of tasks, user inputs, or data that may change over time.\n",
        "•\tTuples: Tuples are often used when you want to ensure that the data remains unchanged. They are useful for situations where you want to group related data together, like representing coordinates or returning multiple values from a function.<br>\n",
        "4. Performance:<br>\n",
        "•\tLists: Due to their mutability, lists may consume more memory and have slightly slower performance compared to tuples.\n",
        "•\tTuples: Tuples are more memory-efficient and generally have faster performance due to their immutability.<br>\n",
        "5. Syntax for Creating Single Items:<br>\n",
        "•\tLists: To create a list with a single item, use square brackets: [item].\n",
        "•\tTuples: To create a tuple with a single item, use parentheses: (item,).<br>\n",
        "**14. How do you type a tuple value that only contains the integer 42?<br>**\n",
        "Ans: To create a tuple value that only contains the integer 42, you can use parentheses () with a single element inside.<br>\n",
        "Note the comma ’ , ’ after the integer value. It's important to include the comma even if the tuple contains a single element. This is because the parentheses are also used for grouping expressions, so the comma distinguishes a single-element tuple from a simple expression enclosed in parentheses.\n"
      ],
      "metadata": {
        "id": "AyaJNXCkZrYW"
      }
    },
    {
      "cell_type": "code",
      "source": [
        "tuple=(20)\n",
        "print(tuple)"
      ],
      "metadata": {
        "colab": {
          "base_uri": "https://localhost:8080/"
        },
        "id": "-9afQaavaDYz",
        "outputId": "10184bb9-eeff-4e4b-f438-d3d51575b4df"
      },
      "execution_count": null,
      "outputs": [
        {
          "output_type": "stream",
          "name": "stdout",
          "text": [
            "20\n"
          ]
        }
      ]
    },
    {
      "cell_type": "code",
      "source": [
        "type(tuple)"
      ],
      "metadata": {
        "id": "DRHrn8CCaLUc",
        "outputId": "e528e005-2cf9-4f8c-ce01-fdf108a54340",
        "colab": {
          "base_uri": "https://localhost:8080/"
        }
      },
      "execution_count": null,
      "outputs": [
        {
          "output_type": "execute_result",
          "data": {
            "text/plain": [
              "int"
            ]
          },
          "metadata": {},
          "execution_count": 18
        }
      ]
    },
    {
      "cell_type": "code",
      "source": [
        "tuple=(20,)\n",
        "type(tuple)\n"
      ],
      "metadata": {
        "colab": {
          "base_uri": "https://localhost:8080/"
        },
        "id": "zb3AcxMnaZl5",
        "outputId": "49b634cc-5420-461e-ea20-51b1134b7719"
      },
      "execution_count": 20,
      "outputs": [
        {
          "output_type": "execute_result",
          "data": {
            "text/plain": [
              "tuple"
            ]
          },
          "metadata": {},
          "execution_count": 20
        }
      ]
    },
    {
      "cell_type": "markdown",
      "source": [
        "**15. How do you get a list value’s tuple form? How do you get a tuple value’s list form?**<br>\n",
        "Ans: To convert a list value to its tuple form, we can use the tuple() constructor. To convert a tuple value to its list form, you can use the list() constructor.<br>\n",
        "Example\n"
      ],
      "metadata": {
        "id": "o2jbbI1gal5e"
      }
    },
    {
      "cell_type": "code",
      "source": [
        "del(list)\n",
        "del(tuple)\n",
        "\n"
      ],
      "metadata": {
        "id": "NB5FMu5uapno"
      },
      "execution_count": 25,
      "outputs": []
    },
    {
      "cell_type": "code",
      "source": [
        "mytuple=(1,2,3)\n",
        "\n",
        "mylist=[4,5,6]\n",
        "\n",
        "tuple_to_list=list(mytuple)\n",
        "\n",
        "print(tuple_to_list)\n"
      ],
      "metadata": {
        "colab": {
          "base_uri": "https://localhost:8080/"
        },
        "id": "gkNZ2RwAbVj0",
        "outputId": "5f0dac9a-81cb-4570-e99a-9db57d0c77e6"
      },
      "execution_count": 26,
      "outputs": [
        {
          "output_type": "stream",
          "name": "stdout",
          "text": [
            "[1, 2, 3]\n"
          ]
        }
      ]
    },
    {
      "cell_type": "code",
      "source": [
        "list_to_tuple=tuple(mylist)\n",
        "\n",
        "print(list_to_tuple)\n"
      ],
      "metadata": {
        "colab": {
          "base_uri": "https://localhost:8080/"
        },
        "id": "_2nO_2FObbhp",
        "outputId": "f5a1906f-9a51-4656-8f09-69b3fcbae803"
      },
      "execution_count": 27,
      "outputs": [
        {
          "output_type": "stream",
          "name": "stdout",
          "text": [
            "(4, 5, 6)\n"
          ]
        }
      ]
    },
    {
      "cell_type": "markdown",
      "source": [
        "**16. Variables that “contain” list values are not necessarily lists themselves. Instead, what do they\n",
        "contain?**<br>\n",
        "Ans: Variables that \"contain\" list values in Python do not actually contain the list itself, but rather they contain a reference to the list. This is true for all objects in Python, not just lists.<br>\n",
        "When we assign a list to a variable, the variable doesn't store the entire list's data directly. Instead, it stores a reference (or memory address) that points to the location in memory where the list data is stored. This reference allows you to access and manipulate the list's contents through the variable.<br>\n",
        "**17. How do you distinguish between copy.copy() and copy.deepcopy()?**<br>\n",
        "Ans: In the copy module of Python, both copy() and deepcopy() functions are used to create copies of objects. However, they behave differently when it comes to nested objects and references. Here's how they differ:<br>\n",
        "**1.\tcopy() Function:** The copy() function creates a shallow copy of an object. In a shallow copy, a new object is created, but the contents of the object (such as elements within a list) are still references to the same objects as the original. If the original object contains nested objects, the shallow copy only copies references to the nested objects, not the nested objects themselves.<br>\n",
        "**2.\tdeepcopy() Function:** The deepcopy() function creates a deep copy of an object. In a deep copy, both the object and all the objects nested within it are copied recursively, creating completely new objects. This ensures that the copy is independent of the original object, and changes made to the copy do not affect the original or vice versa<br>.\n",
        "Example:\n"
      ],
      "metadata": {
        "id": "KhTNKTlNbgDR"
      }
    },
    {
      "cell_type": "code",
      "source": [
        "import copy\n",
        "original_list=[1,[2,3]]\n",
        "shallowCopy=copy.copy(original_list)\n",
        "deepCopy=copy.deepcopy(original_list)\n",
        "print(original_list)\n"
      ],
      "metadata": {
        "colab": {
          "base_uri": "https://localhost:8080/"
        },
        "id": "0RqtRcF8bytO",
        "outputId": "1a65946b-33fa-4fed-a3ab-07455453429c"
      },
      "execution_count": 29,
      "outputs": [
        {
          "output_type": "stream",
          "name": "stdout",
          "text": [
            "[1, [2, 3]]\n"
          ]
        }
      ]
    },
    {
      "cell_type": "code",
      "source": [
        "print(shallowCopy)"
      ],
      "metadata": {
        "colab": {
          "base_uri": "https://localhost:8080/"
        },
        "id": "c4XIhYt5b-gK",
        "outputId": "a47688f2-10a4-4786-b01a-8b4f8932b94b"
      },
      "execution_count": 30,
      "outputs": [
        {
          "output_type": "stream",
          "name": "stdout",
          "text": [
            "[1, [2, 3]]\n"
          ]
        }
      ]
    },
    {
      "cell_type": "code",
      "source": [
        "print(deepCopy)\n"
      ],
      "metadata": {
        "colab": {
          "base_uri": "https://localhost:8080/"
        },
        "id": "Lttr6fmmcCPO",
        "outputId": "63167705-6350-4d9d-ca40-89ec19b16252"
      },
      "execution_count": 31,
      "outputs": [
        {
          "output_type": "stream",
          "name": "stdout",
          "text": [
            "[1, [2, 3]]\n"
          ]
        }
      ]
    },
    {
      "cell_type": "code",
      "source": [
        "shallowCopy[1][0]=9\n",
        "deepCopy[1][0]=999\n",
        "print(original_list)\n",
        "print(shallowCopy)\n",
        "print(deepCopy)"
      ],
      "metadata": {
        "colab": {
          "base_uri": "https://localhost:8080/"
        },
        "id": "5I30D-pKcHvn",
        "outputId": "318fbd9f-93f2-4bb9-c77f-5c02c55dee23"
      },
      "execution_count": 32,
      "outputs": [
        {
          "output_type": "stream",
          "name": "stdout",
          "text": [
            "[1, [9, 3]]\n",
            "[1, [9, 3]]\n",
            "[1, [999, 3]]\n"
          ]
        }
      ]
    }
  ]
}