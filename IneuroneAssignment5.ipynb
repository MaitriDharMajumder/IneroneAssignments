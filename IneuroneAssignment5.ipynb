{
  "nbformat": 4,
  "nbformat_minor": 0,
  "metadata": {
    "colab": {
      "provenance": []
    },
    "kernelspec": {
      "name": "python3",
      "display_name": "Python 3"
    },
    "language_info": {
      "name": "python"
    }
  },
  "cells": [
    {
      "cell_type": "code",
      "execution_count": null,
      "metadata": {
        "id": "LzKENp_JiFc2"
      },
      "outputs": [],
      "source": []
    },
    {
      "cell_type": "markdown",
      "source": [
        "**1.What does an empty dictionary’s code look like?**<br>\n",
        "Ans: An empty dictionary in Python is represented by a pair of curly braces {} with no key-value pairs inside. Here's what it looks like:<br>\n",
        "Python code<br>\n",
        "empty_dict = {} <br>\n",
        "This creates an empty dictionary named empty_dict. we can later add key-value pairs to this dictionary using the dictionary's methods or by directly assigning values to keys.<br>\n",
        "**2. What is the value of a dictionary value with the key ‘foo’ and the value 42?**<br>\n",
        "Ans: The value of a dictionary value with the key 'foo' and the value ‘42’ is simply ‘42’. In a dictionary, values are associated with keys, and you can retrieve a value using its corresponding key.\n"
      ],
      "metadata": {
        "id": "oj54aSVviT8D"
      }
    },
    {
      "cell_type": "code",
      "source": [
        "my_dict={\"foo\":42}\n",
        "value=my_dict[\"foo\"]\n",
        "print(value)\n"
      ],
      "metadata": {
        "colab": {
          "base_uri": "https://localhost:8080/"
        },
        "id": "R1Z5LlEkifK_",
        "outputId": "e8118ba4-7897-45cc-dd4e-25d170c3f469"
      },
      "execution_count": 1,
      "outputs": [
        {
          "output_type": "stream",
          "name": "stdout",
          "text": [
            "42\n"
          ]
        }
      ]
    },
    {
      "cell_type": "markdown",
      "source": [
        "**3. What is the most significant distinction between a dictionary and a list?**<br>\n",
        "Ans: The most significant distinction between a dictionary and a list in Python lies in how they store and access their elements:<br>\n",
        "1.\tStorage and Access:<br>\n",
        "•**\tDictionary:** A dictionary stores elements as key-value pairs, where each value is associated with a unique key. Keys are used to access the corresponding values, making dictionary lookups very efficient even for large collections of data. Keys can be of any immutable type (such as strings, numbers, or tuples), and they must be unique within a dictionary.<br>\n",
        "•\t**List:** A list stores elements in an ordered sequence using integer indices. Each element is associated with an index starting from 0. Lists are indexed using these integer indices, and elements are accessed sequentially. List lookups can be slower for larger lists, as they require iterating through the list to find an element based on its index.<br>\n",
        "Example:\n"
      ],
      "metadata": {
        "id": "m0mvbXiqiogf"
      }
    },
    {
      "cell_type": "code",
      "source": [
        "my_dict={\"Name\":\"Krithvik\",\"city\":\"Bangalore\",\"Age\":2,}\n",
        "my_list=[1,2,3,4]\n",
        "print(my_dict[\"Age\"])\n"
      ],
      "metadata": {
        "colab": {
          "base_uri": "https://localhost:8080/"
        },
        "id": "btbRwW6Pi3H5",
        "outputId": "4a81529c-477a-411f-878e-fd66d7aaf4de"
      },
      "execution_count": 2,
      "outputs": [
        {
          "output_type": "stream",
          "name": "stdout",
          "text": [
            "2\n"
          ]
        }
      ]
    },
    {
      "cell_type": "code",
      "source": [
        "print(my_list[1])"
      ],
      "metadata": {
        "colab": {
          "base_uri": "https://localhost:8080/"
        },
        "id": "SH11SStei_lK",
        "outputId": "5ac3a23d-12e0-4ebe-c273-4fec935125ed"
      },
      "execution_count": 3,
      "outputs": [
        {
          "output_type": "stream",
          "name": "stdout",
          "text": [
            "2\n"
          ]
        }
      ]
    },
    {
      "cell_type": "markdown",
      "source": [
        "**4. What happens if you try to access spam[‘foo’] if spam is {‘bar’: 100}?**<br>\n",
        "Ans: If we try to access spam['foo'] when spam is {'bar': 100}, we will encounter a KeyError. This error occurs because the key 'foo' does not exist in the dictionary spam.\n"
      ],
      "metadata": {
        "id": "NjX8PjPojFD9"
      }
    },
    {
      "cell_type": "code",
      "source": [
        "spam={\"bar\":100}\n",
        "print(spam[\"foo\"])\n"
      ],
      "metadata": {
        "colab": {
          "base_uri": "https://localhost:8080/",
          "height": 192
        },
        "id": "iPyzfeIQjIgS",
        "outputId": "b53a648e-477f-4be6-9ad1-5734d0672a93"
      },
      "execution_count": 4,
      "outputs": [
        {
          "output_type": "error",
          "ename": "KeyError",
          "evalue": "ignored",
          "traceback": [
            "\u001b[0;31m---------------------------------------------------------------------------\u001b[0m",
            "\u001b[0;31mKeyError\u001b[0m                                  Traceback (most recent call last)",
            "\u001b[0;32m<ipython-input-4-6ce91f171313>\u001b[0m in \u001b[0;36m<cell line: 2>\u001b[0;34m()\u001b[0m\n\u001b[1;32m      1\u001b[0m \u001b[0mspam\u001b[0m\u001b[0;34m=\u001b[0m\u001b[0;34m{\u001b[0m\u001b[0;34m\"bar\"\u001b[0m\u001b[0;34m:\u001b[0m\u001b[0;36m100\u001b[0m\u001b[0;34m}\u001b[0m\u001b[0;34m\u001b[0m\u001b[0;34m\u001b[0m\u001b[0m\n\u001b[0;32m----> 2\u001b[0;31m \u001b[0mprint\u001b[0m\u001b[0;34m(\u001b[0m\u001b[0mspam\u001b[0m\u001b[0;34m[\u001b[0m\u001b[0;34m\"foo\"\u001b[0m\u001b[0;34m]\u001b[0m\u001b[0;34m)\u001b[0m\u001b[0;34m\u001b[0m\u001b[0;34m\u001b[0m\u001b[0m\n\u001b[0m",
            "\u001b[0;31mKeyError\u001b[0m: 'foo'"
          ]
        }
      ]
    },
    {
      "cell_type": "markdown",
      "source": [
        "**5. If a dictionary is stored in spam, what is the difference between the expressions ‘cat’ in spam and\n",
        "‘cat’ in spam.keys()?**<br>\n",
        "Ans: If a dictionary is stored in spam, there is no practical difference between the expressions 'cat' in spam and 'cat' in spam.keys(). Both expressions are used to check whether a given key exists in the dictionary. The result of both expressions will be the same.\n"
      ],
      "metadata": {
        "id": "6QhLySZxjShS"
      }
    },
    {
      "cell_type": "code",
      "source": [
        "spam={\"cat\":5,\"colour\":\"yellow\"}\n",
        "\"cat\" in spam\n"
      ],
      "metadata": {
        "colab": {
          "base_uri": "https://localhost:8080/"
        },
        "id": "nX4nAAD3jV7m",
        "outputId": "3243e5e4-672b-4c96-db4c-50727feff6c3"
      },
      "execution_count": 5,
      "outputs": [
        {
          "output_type": "execute_result",
          "data": {
            "text/plain": [
              "True"
            ]
          },
          "metadata": {},
          "execution_count": 5
        }
      ]
    },
    {
      "cell_type": "code",
      "source": [
        "\"cat\" in spam.keys()"
      ],
      "metadata": {
        "colab": {
          "base_uri": "https://localhost:8080/"
        },
        "id": "4LcOCQ62jcnd",
        "outputId": "06acb9a8-0aea-4e2d-9096-72a1b0d3caa5"
      },
      "execution_count": 6,
      "outputs": [
        {
          "output_type": "execute_result",
          "data": {
            "text/plain": [
              "True"
            ]
          },
          "metadata": {},
          "execution_count": 6
        }
      ]
    },
    {
      "cell_type": "markdown",
      "source": [
        "**6. If a dictionary is stored in spam, what is the difference between the expressions ‘cat’ in spam and ‘cat’ in spam.values()?**<br>\n",
        "Ans: If a dictionary is stored in spam, there is a difference between the expressions 'cat' in spam and 'cat' in spam.values():<br>\n",
        "1.\t'cat' in spam:<br> This expression checks whether the string 'cat' is a key in the dictionary spam. If 'cat' is one of the keys in the dictionary, the expression will evaluate to True; otherwise, it will evaluate to False.\n",
        "2.\t'cat' in spam.values():<br> This expression checks whether the string 'cat' appears as a value in any of the dictionary's values. If 'cat' is present as a value in any of the values, the expression will evaluate to True; otherwise, it will evaluate to False.\n"
      ],
      "metadata": {
        "id": "ZMORCkQljeqT"
      }
    },
    {
      "cell_type": "code",
      "source": [
        "spam={\"cat\":5,\"colour\":\"yellow\"}\n",
        "\"cat\" in spam\n"
      ],
      "metadata": {
        "colab": {
          "base_uri": "https://localhost:8080/"
        },
        "id": "SWqcopA7jonE",
        "outputId": "f4db8e65-3ed5-4ab9-a311-3ae754d39cc8"
      },
      "execution_count": 7,
      "outputs": [
        {
          "output_type": "execute_result",
          "data": {
            "text/plain": [
              "True"
            ]
          },
          "metadata": {},
          "execution_count": 7
        }
      ]
    },
    {
      "cell_type": "code",
      "source": [
        "\"cat\" in spam.values()"
      ],
      "metadata": {
        "colab": {
          "base_uri": "https://localhost:8080/"
        },
        "id": "pr27EGKWjvO0",
        "outputId": "2c88a36d-faea-4332-9239-3a9537dadb75"
      },
      "execution_count": 8,
      "outputs": [
        {
          "output_type": "execute_result",
          "data": {
            "text/plain": [
              "False"
            ]
          },
          "metadata": {},
          "execution_count": 8
        }
      ]
    },
    {
      "cell_type": "markdown",
      "source": [
        "**7. What is a shortcut for the following code?<br>\n",
        "if ‘color’ not in spam:<br>\n",
        "spam[‘color’] = ‘black’**<br>\n",
        "Ans: A shortcut for the given code can be achieved using the setdefault() method of dictionaries. The setdefault() method checks if a key exists in the dictionary, and if it doesn't, it adds the key with the specified default value. If the key already exists, it returns the existing value without making any changes.\n"
      ],
      "metadata": {
        "id": "FiTRNzM9jyRc"
      }
    },
    {
      "cell_type": "code",
      "source": [
        "spam={\"cat\":5,\"colour\":\"yellow\"}\n",
        "if 'color' not in spam:\n",
        "    spam['color'] = 'black'\n",
        "print(spam)\n"
      ],
      "metadata": {
        "colab": {
          "base_uri": "https://localhost:8080/"
        },
        "id": "cnimR1Foj3-t",
        "outputId": "c7339796-6816-4a45-8838-30c2206504ab"
      },
      "execution_count": 9,
      "outputs": [
        {
          "output_type": "stream",
          "name": "stdout",
          "text": [
            "{'cat': 5, 'colour': 'yellow', 'color': 'black'}\n"
          ]
        }
      ]
    },
    {
      "cell_type": "code",
      "source": [
        "spam['color'] = 'black'\n",
        "print(spam)\n"
      ],
      "metadata": {
        "colab": {
          "base_uri": "https://localhost:8080/"
        },
        "id": "gmpqLwRjkC9O",
        "outputId": "b5065a86-f5f3-4b3e-e9a0-ba7b760bb529"
      },
      "execution_count": 22,
      "outputs": [
        {
          "output_type": "stream",
          "name": "stdout",
          "text": [
            "{'cat': 5, 'colour': 'yellow', 'color': 'black'}\n"
          ]
        }
      ]
    },
    {
      "cell_type": "code",
      "source": [
        "del (spam['color'])"
      ],
      "metadata": {
        "id": "W2CJT7YOlRxh"
      },
      "execution_count": 23,
      "outputs": []
    },
    {
      "cell_type": "code",
      "source": [
        "print(spam)"
      ],
      "metadata": {
        "colab": {
          "base_uri": "https://localhost:8080/"
        },
        "id": "tmI98JzIlWvk",
        "outputId": "5f36a58b-6b75-46b1-f03e-7f753f993b08"
      },
      "execution_count": 24,
      "outputs": [
        {
          "output_type": "stream",
          "name": "stdout",
          "text": [
            "{'cat': 5, 'colour': 'yellow'}\n"
          ]
        }
      ]
    },
    {
      "cell_type": "code",
      "source": [
        "spam.setdefault(\"color\",\"black\")\n",
        "'black'\n",
        "print(spam)\n"
      ],
      "metadata": {
        "colab": {
          "base_uri": "https://localhost:8080/"
        },
        "id": "6NJywr2xlbvN",
        "outputId": "46b06eae-891c-47b7-f2a7-bfaa1f05d5a8"
      },
      "execution_count": 25,
      "outputs": [
        {
          "output_type": "stream",
          "name": "stdout",
          "text": [
            "{'cat': 5, 'colour': 'yellow', 'color': 'black'}\n"
          ]
        }
      ]
    },
    {
      "cell_type": "markdown",
      "source": [
        "**8. How do you “pretty print” dictionary values using which module and function?**<br>\n",
        "Ans: You can use the pprint module in Python to \"pretty print\" dictionary values. The pprint module provides a function called pprint() that formats and prints dictionary (and other data structure) values in a more human-readable and visually organized way.\n"
      ],
      "metadata": {
        "id": "aJDdapXclgE-"
      }
    },
    {
      "cell_type": "code",
      "source": [
        "import pprint\n",
        "pprint.pprint(my_dict)\n",
        "pprint.pprint(spam)\n",
        "print(my_dict)\n",
        "print(spam)"
      ],
      "metadata": {
        "colab": {
          "base_uri": "https://localhost:8080/"
        },
        "id": "RUB7c6Xdllil",
        "outputId": "904b1fff-dcfa-4ed3-df75-77b17f8412ca"
      },
      "execution_count": 26,
      "outputs": [
        {
          "output_type": "stream",
          "name": "stdout",
          "text": [
            "{'Age': 2, 'Name': 'Krithvik', 'city': 'Bangalore'}\n",
            "{'cat': 5, 'color': 'black', 'colour': 'yellow'}\n",
            "{'Name': 'Krithvik', 'city': 'Bangalore', 'Age': 2}\n",
            "{'cat': 5, 'colour': 'yellow', 'color': 'black'}\n"
          ]
        }
      ]
    }
  ]
}