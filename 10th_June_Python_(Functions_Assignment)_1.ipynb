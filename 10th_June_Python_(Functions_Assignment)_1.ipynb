{
  "nbformat": 4,
  "nbformat_minor": 0,
  "metadata": {
    "colab": {
      "provenance": []
    },
    "kernelspec": {
      "name": "python3",
      "display_name": "Python 3"
    },
    "language_info": {
      "name": "python"
    }
  },
  "cells": [
    {
      "cell_type": "code",
      "execution_count": null,
      "metadata": {
        "id": "JSXbcqynvzFm"
      },
      "outputs": [],
      "source": []
    },
    {
      "cell_type": "markdown",
      "source": [
        "**1. In Python, what is the difference between a built-in function and a user-defined function? Provide an\n",
        "example of each.**<br>\n",
        "Built-in Function:<br>\n",
        "A built-in function in Python is a function that is provided by the Python language itself and is readily available for use without needing to define it. These functions are part of the Python standard library and cover a wide range of tasks, from mathematical operations to string manipulation and more. You can directly use built-in functions without needing to define them.<br>\n",
        "\n",
        "Example of a built-in function:"
      ],
      "metadata": {
        "id": "s-DGe8z9v6FP"
      }
    },
    {
      "cell_type": "code",
      "source": [
        "tupple1=(1,2,3,4)\n",
        "print(len(tupple1))"
      ],
      "metadata": {
        "colab": {
          "base_uri": "https://localhost:8080/"
        },
        "id": "326H7AqFwImH",
        "outputId": "718fd7b5-a8ba-4732-cb56-d329cdd1b18d"
      },
      "execution_count": null,
      "outputs": [
        {
          "output_type": "stream",
          "name": "stdout",
          "text": [
            "4\n"
          ]
        }
      ]
    },
    {
      "cell_type": "markdown",
      "source": [
        "In this example, the len() function is built into Python and calculates the length of the given string.<br>\n",
        "\n",
        "User-defined Function:<br>\n",
        "A user-defined function is a function that you create yourself to perform a specific task. You define the function using the def keyword, provide a name for the function, specify any parameters it requires, and define the behavior of the function's code block.<br>\n",
        "\n",
        "Example of a user-defined function:"
      ],
      "metadata": {
        "id": "qCk3h-MAwXvm"
      }
    },
    {
      "cell_type": "code",
      "source": [
        "def squareit(n):\n",
        "  return n**2\n",
        "\n",
        "result= squareit(5)\n",
        "print(result)"
      ],
      "metadata": {
        "colab": {
          "base_uri": "https://localhost:8080/"
        },
        "id": "DRjb6pEXwx_k",
        "outputId": "d854d2c3-ea0f-4946-e5f5-bddce00a7564"
      },
      "execution_count": null,
      "outputs": [
        {
          "output_type": "stream",
          "name": "stdout",
          "text": [
            "25\n"
          ]
        }
      ]
    },
    {
      "cell_type": "markdown",
      "source": [
        "In this example, the square() function is defined by the user to calculate the square of a given number."
      ],
      "metadata": {
        "id": "IYEhQ_HvxJTf"
      }
    },
    {
      "cell_type": "markdown",
      "source": [
        "**2.How can you pass arguments to a function in Python? Explain the difference between positional\n",
        "arguments and keyword arguments.**<br>Ans:we can pass arguments to a function in Python when we call the function. Arguments are values that we provide to the function so that it can perform its task using those values. There are two ways to pass arguments: positional arguments and keyword arguments.<br>\n",
        "\n",
        "Positional Arguments:<br>\n",
        "Positional arguments are passed to a function based on their position in the function call. The order of the arguments matters, and they are assigned to the function parameters in the order they appear.\n",
        "\n",
        "Example of using positional arguments:"
      ],
      "metadata": {
        "id": "b_kvJf2-xN-p"
      }
    },
    {
      "cell_type": "code",
      "source": [
        "def differece(n1,n2):\n",
        "  diff=n1-n2\n",
        "  print(diff)\n",
        "differece(7,5)"
      ],
      "metadata": {
        "id": "D6k-NHDA-kzN",
        "colab": {
          "base_uri": "https://localhost:8080/"
        },
        "outputId": "12f9d528-4563-4908-9b33-11099de22d8f"
      },
      "execution_count": null,
      "outputs": [
        {
          "output_type": "stream",
          "name": "stdout",
          "text": [
            "2\n"
          ]
        }
      ]
    },
    {
      "cell_type": "markdown",
      "source": [
        "**Keyword Arguments:**<br>\n",
        "Keyword arguments are passed to a function using the parameter names as keywords. This allows you to specify the arguments along with their corresponding parameter names, regardless of their order.<br>\n",
        "\n",
        "Example of using keyword arguments:"
      ],
      "metadata": {
        "id": "NahrptwjQO_y"
      }
    },
    {
      "cell_type": "code",
      "source": [
        "def differece(n1,n2):\n",
        "  return n1-n2\n",
        "sub=differece(n2=3,n1=5)\n",
        "print(sub)\n"
      ],
      "metadata": {
        "colab": {
          "base_uri": "https://localhost:8080/"
        },
        "id": "7d6C-n8_Qb5j",
        "outputId": "83a10b66-3301-44f9-ff40-e2aabbfee802"
      },
      "execution_count": null,
      "outputs": [
        {
          "output_type": "stream",
          "name": "stdout",
          "text": [
            "2\n"
          ]
        }
      ]
    },
    {
      "cell_type": "markdown",
      "source": [
        "**Difference Between Positional and Keyword Arguments:**<br>\n",
        "\n",
        "Positional arguments rely on the order of arguments in the function call to assign values to parameters.<br>\n",
        "Keyword arguments are assigned based on parameter names specified in the function call.<br>\n",
        "Keyword arguments are more flexible, as they allow us to pass arguments in any order and also skip some arguments if desired.<br>\n",
        "us can mix positional and keyword arguments in the same function call, but positional arguments must come before keyword arguments."
      ],
      "metadata": {
        "id": "ud9mxX2KRAEr"
      }
    },
    {
      "cell_type": "markdown",
      "source": [
        "**3.What is the purpose of the return statement in a function? Can a function have multiple return\n",
        "statements? Explain with an example.**"
      ],
      "metadata": {
        "id": "gWO34BvSU-tm"
      }
    },
    {
      "cell_type": "markdown",
      "source": [
        "The return statement in a function serves the purpose of sending a value or result back to the caller of the function. When a return statement is encountered in a function, the function's execution is immediately halted, and the value specified after the return keyword is sent back to the caller.<br>\n",
        "\n",
        "Yes, a function can have multiple return statements. However, once a return statement is executed, the function exits, and no further code within the function is executed.<br>\n",
        "\n",
        "Here's an example to illustrate the use of the return statement and multiple return statements in a function:"
      ],
      "metadata": {
        "id": "zgGJG7QnVk_3"
      }
    },
    {
      "cell_type": "code",
      "source": [
        "def divide(x, y):\n",
        "    if y == 0:\n",
        "        return \"Cannot divide by zero\"\n",
        "    else:\n",
        "        return x / y\n",
        "\n",
        "result1 = divide(10, 2)\n",
        "result2 = divide(10, 0)\n",
        "\n",
        "print(result1)\n",
        "print(result2)"
      ],
      "metadata": {
        "id": "crCb9xaAV6eR",
        "colab": {
          "base_uri": "https://localhost:8080/"
        },
        "outputId": "b02bd911-be85-47a0-9a3f-1291e0c0b67d"
      },
      "execution_count": null,
      "outputs": [
        {
          "output_type": "stream",
          "name": "stdout",
          "text": [
            "5.0\n",
            "Cannot divide by zero\n"
          ]
        }
      ]
    },
    {
      "cell_type": "markdown",
      "source": [
        "**4. What are lambda functions in Python? How are they different from regular functions? Provide an\n",
        "example where a lambda function can be useful.**"
      ],
      "metadata": {
        "id": "lFAEjyn0YCxe"
      }
    },
    {
      "cell_type": "markdown",
      "source": [
        "Lambda functions, also known as anonymous functions, are small, inline functions in Python that can have any number of arguments, but can only have one expression. They are defined using the lambda keyword, followed by the input parameters and the expression to be evaluated.<br>\n",
        "\n",
        "Lambda functions are different from regular functions in a few key ways:<br>\n",
        "\n",
        "Syntax:<br> Lambda functions have a more compact syntax compared to regular functions, and they are typically used for simple operations.<br>\n",
        "Limited Expressions:<br> Lambda functions can only contain a single expression, while regular functions can have multiple statements and more complex logic.<br>\n",
        "Namelessness:<br> Lambda functions are anonymous, meaning they don't have a defined name. They are usually used where a small function is needed for a short period and not required to be reused extensively.<br>\n",
        "Here's an example of a lambda function that calculates the square of a number:"
      ],
      "metadata": {
        "id": "bTcOM8FaYSxY"
      }
    },
    {
      "cell_type": "code",
      "source": [
        "squareroot= lambda x:x**(0.5)\n",
        "result=squareroot(25)\n",
        "print(result)"
      ],
      "metadata": {
        "colab": {
          "base_uri": "https://localhost:8080/"
        },
        "id": "zj_BvKQnfv1c",
        "outputId": "ed175a65-c5df-43ab-c6a1-bdc2fe5b2a3e"
      },
      "execution_count": null,
      "outputs": [
        {
          "output_type": "stream",
          "name": "stdout",
          "text": [
            "5.0\n"
          ]
        }
      ]
    },
    {
      "cell_type": "markdown",
      "source": [
        "Lambda functions can be especially useful in scenarios where we need a quick function definition for a specific task, such as when using functions like map(), filter(), or in other contexts where a function is required as an argument. For instance, when we need to perform a simple transformation on elements of a list:"
      ],
      "metadata": {
        "id": "5l8JFtphgYmR"
      }
    },
    {
      "cell_type": "code",
      "source": [
        "nums=[1,2,3,4,5,6]\n",
        "sqnums=map(lambda x: x**2,nums)\n",
        "print(list(sqnums))"
      ],
      "metadata": {
        "id": "rbiQzycpgjgz",
        "outputId": "3cdf123c-582c-4ddf-b8e3-86f57eee416e",
        "colab": {
          "base_uri": "https://localhost:8080/"
        }
      },
      "execution_count": null,
      "outputs": [
        {
          "output_type": "stream",
          "name": "stdout",
          "text": [
            "[1, 4, 9, 16, 25, 36]\n"
          ]
        }
      ]
    },
    {
      "cell_type": "markdown",
      "source": [
        "**5. How does the concept of \"scope\" apply to functions in Python? Explain the difference between local\n",
        "scope and global scope.**"
      ],
      "metadata": {
        "id": "Zmd3kWvYhHS0"
      }
    },
    {
      "cell_type": "markdown",
      "source": [
        "In Python, scope refers to the region of the code where a variable or a name is accessible. It determines where in the code a particular variable can be used or accessed. Scopes in Python are organized hierarchically, and understanding scope is crucial for managing variable visibility and preventing naming conflicts.<br>\n",
        "\n",
        "Local Scope:<br>\n",
        "Local scope refers to the area within a function where variables are defined. Variables defined inside a function have local scope, meaning they are only accessible within that function. They are not accessible outside the function.<br>\n",
        "\n",
        "Example of local scope:"
      ],
      "metadata": {
        "id": "tMTtPUmXhZkX"
      }
    },
    {
      "cell_type": "code",
      "source": [
        "def my_function():\n",
        "    x = 10\n",
        "    print(x)\n",
        "\n",
        "my_function()"
      ],
      "metadata": {
        "id": "VuYGpBYhidKr",
        "colab": {
          "base_uri": "https://localhost:8080/"
        },
        "outputId": "c5dd1f8d-5444-4e4e-9d7f-1889f4759f02"
      },
      "execution_count": null,
      "outputs": [
        {
          "output_type": "stream",
          "name": "stdout",
          "text": [
            "10\n"
          ]
        }
      ]
    },
    {
      "cell_type": "markdown",
      "source": [
        "In this example, the variable x is defined within the my_function() function and is only accessible within that function. Trying to access x outside the function would result in an error.<br>\n",
        "\n",
        "Global Scope:<br>\n",
        "Global scope refers to the outermost level of the code, outside of all functions. Variables defined in the global scope are accessible throughout the entire code, both inside and outside functions. However, to modify a global variable within a function, you need to use the global keyword.<br>\n",
        "\n",
        "Example of global scope:"
      ],
      "metadata": {
        "id": "f_CerPmzjX8l"
      }
    },
    {
      "cell_type": "code",
      "source": [
        "y = 20\n",
        "\n",
        "def my_function():\n",
        "    global y\n",
        "    y += 5\n",
        "    print(y)\n",
        "\n",
        "my_function()\n",
        "print(y)"
      ],
      "metadata": {
        "colab": {
          "base_uri": "https://localhost:8080/"
        },
        "id": "isrv4JArjlA-",
        "outputId": "515d09e3-a5b9-46b5-9e2b-d28b7df979b7"
      },
      "execution_count": null,
      "outputs": [
        {
          "output_type": "stream",
          "name": "stdout",
          "text": [
            "25\n",
            "25\n"
          ]
        }
      ]
    },
    {
      "cell_type": "markdown",
      "source": [
        "In this example, the variable y is defined in the global scope and is accessible within the function. Using the global keyword allows us to modify the global variable y within the function."
      ],
      "metadata": {
        "id": "IzZ7WgD5jyAu"
      }
    },
    {
      "cell_type": "markdown",
      "source": [
        "**6. How can you use the \"return\" statement in a Python function to return multiple values?**"
      ],
      "metadata": {
        "id": "VMq7_QsgjzVZ"
      }
    },
    {
      "cell_type": "markdown",
      "source": [
        "In Python, you can use the return statement in a function to return multiple values as a tuple. Although a single return statement can only directly return one value, you can return multiple values by separating them with commas, and Python will automatically pack them into a tuple.<br>\n",
        "\n",
        "Here's an example of how to use the return statement to return multiple values from a function:"
      ],
      "metadata": {
        "id": "-mBXGwyWj57C"
      }
    },
    {
      "cell_type": "code",
      "source": [
        "def calculate_stats(numbers):\n",
        "    add = sum(numbers)\n",
        "    average = add / len(numbers)\n",
        "    maximum = max(numbers)\n",
        "    minimum = min(numbers)\n",
        "\n",
        "    return add, average, maximum, minimum\n",
        "\n",
        "my_numbers = [10, 20, 30, 40, 50]\n",
        "add, avg, max_val, min_val = calculate_stats(my_numbers)\n",
        "\n",
        "print(\"addition:\", add)\n",
        "print(\"Average:\", avg)\n",
        "print(\"Maximum:\", max_val)\n",
        "print(\"Minimum:\", min_val)"
      ],
      "metadata": {
        "id": "RCBGIzuCkZg4",
        "colab": {
          "base_uri": "https://localhost:8080/"
        },
        "outputId": "c2cc4d79-9b2e-4825-fb8d-bb63f36d872a"
      },
      "execution_count": null,
      "outputs": [
        {
          "output_type": "stream",
          "name": "stdout",
          "text": [
            "addition: 150\n",
            "Average: 30.0\n",
            "Maximum: 50\n",
            "Minimum: 10\n"
          ]
        }
      ]
    },
    {
      "cell_type": "markdown",
      "source": [
        "**7. What is the difference between the \"pass by value\" and \"pass by reference\" concepts when it\n",
        "comes to function arguments in Python?**"
      ],
      "metadata": {
        "id": "Xhd8uOk6lmSY"
      }
    },
    {
      "cell_type": "markdown",
      "source": [
        "In Python, the terms \"pass by value\" and \"pass by reference\" are not as straightforward as in some other programming languages. Python uses a mechanism that's often referred to as \"pass by object reference\" or \"pass by assignment.\"<br>\n",
        "\n",
        "Pass by Value:<br>\n",
        "In pass by value, a copy of the value of the variable is passed to the function. Changes made to the parameter within the function do not affect the original variable outside the function.<br>\n",
        "\n",
        "Pass by Reference:<br>\n",
        "In pass by reference, a reference to the memory location of the variable is passed to the function. Changes made to the parameter within the function directly affect the original variable outside the function.<br>"
      ],
      "metadata": {
        "id": "iHDI2kmUmX-F"
      }
    },
    {
      "cell_type": "markdown",
      "source": [
        "**8. Create a function that can intake integer or decimal value and do following operations:<br>\n",
        "a. Logarithmic function (log x)<br>\n",
        "b. Exponential function (exp(x))<br>\n",
        "c. Power function with base 2 (2^\n",
        "x\n",
        ")<br>\n",
        "\n",
        "d. Square root**"
      ],
      "metadata": {
        "id": "jyt8jqGgt_PA"
      }
    },
    {
      "cell_type": "code",
      "source": [
        "import math\n",
        "def Operation():\n",
        "  value=float(input(\"Enter the Value\"))\n",
        "  Log=math.log(value)\n",
        "  Exp=math.exp(value)\n",
        "  Power=math.pow(2,value)\n",
        "  Squareroot=math.sqrt(value)\n",
        "  print(\"logarithm of \",value,\" is\", Log)\n",
        "  print(\"exponential of\" ,value, \"is\" ,Exp)\n",
        "  print(\"Power of 2 raise to the\", value,\" is\" ,Power)\n",
        "  print(\"square root of \",value,\" is\", Squareroot)\n",
        "\n",
        "Operation()"
      ],
      "metadata": {
        "id": "QquHenanuYSq",
        "colab": {
          "base_uri": "https://localhost:8080/"
        },
        "outputId": "4f8239bf-efda-45af-abe3-07428a73e3a0"
      },
      "execution_count": 25,
      "outputs": [
        {
          "output_type": "stream",
          "name": "stdout",
          "text": [
            "Enter the Value25\n",
            "logarithm of  25.0  is 3.2188758248682006\n",
            "exponential of 25.0 is 72004899337.38588\n",
            "Power of 2 raise to the 25.0  is 33554432.0\n",
            "square root of  25.0  is 5.0\n"
          ]
        }
      ]
    },
    {
      "cell_type": "markdown",
      "source": [
        "**Create a function that takes a full name as an argument and returns first name and last name.**"
      ],
      "metadata": {
        "id": "S3arvxab-VHc"
      }
    },
    {
      "cell_type": "code",
      "source": [
        "def name(full_name):\n",
        "  names=full_name.split()\n",
        "  return names[0], \"\".join(names[1:])\n",
        "full_name=input(\"Enter your full name:\")\n",
        "first_name,last_name=name(full_name)\n",
        "print(f\"First Name: {first_name}\")\n",
        "print(f\"Last Name: {last_name}\")\n",
        "\n",
        "\n",
        ""
      ],
      "metadata": {
        "colab": {
          "base_uri": "https://localhost:8080/"
        },
        "id": "XxoMS3SE-fZy",
        "outputId": "4aff5f67-631f-43fb-ab05-d91375c242c8"
      },
      "execution_count": 36,
      "outputs": [
        {
          "output_type": "stream",
          "name": "stdout",
          "text": [
            "Enter your full name:Maitri Dhar Majumder\n",
            "First Name: Maitri\n",
            "Last Name: DharMajumder\n"
          ]
        }
      ]
    }
  ]
}