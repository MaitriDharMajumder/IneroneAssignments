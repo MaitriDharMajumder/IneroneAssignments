{
  "nbformat": 4,
  "nbformat_minor": 0,
  "metadata": {
    "colab": {
      "provenance": []
    },
    "kernelspec": {
      "name": "python3",
      "display_name": "Python 3"
    },
    "language_info": {
      "name": "python"
    }
  },
  "cells": [
    {
      "cell_type": "code",
      "execution_count": null,
      "metadata": {
        "id": "3BUuO25sxGuQ"
      },
      "outputs": [],
      "source": []
    },
    {
      "cell_type": "markdown",
      "source": [
        "**1.What are the two values of the Boolean data type? How do you write them?**<br>\n",
        "Ans: The Boolean data type in Python has two values: True and False. These values represent the two possible states of truth or logical conditions. They are used extensively in control structures like if-statements and loops to make decisions based on conditions.\n",
        "To write these Boolean values in Python, simply use their respective keywords: True and False.\n",
        "Note that the capitalization matters; they must be capitalized exactly as shown.\n"
      ],
      "metadata": {
        "id": "uFGZ__zx0IO_"
      }
    },
    {
      "cell_type": "markdown",
      "source": [
        "**2. What are the three different types of Boolean operators?**<br>\n",
        "Ans: In Python, there are three main types of Boolean operators used to perform logical operations on Boolean values or expressions. These operators are used to combine, negate, or compare conditions. The three types of Boolean operators are:<br>\n",
        "Logical AND (and):<br>\n",
        "The and operator returns True if both of its operands are True, and False otherwise.<br>\n",
        "Logical OR (or):<br>\n",
        "The or operator returns True if at least one of its operands is True, and False if both operands are False.<br>\n",
        "Logical NOT (not):<br>\n",
        "The not operator is used to negate a Boolean value. It returns the opposite of the Boolean value of its operand.<br>\n",
        "These Boolean operators are commonly used to build complex conditions, make decisions, and control the flow of your program based on different logical conditions.\n"
      ],
      "metadata": {
        "id": "GHjLdqKp1cF0"
      }
    },
    {
      "cell_type": "markdown",
      "source": [
        "**3. Make a list of each Boolean operator’s truth tables (i.e. every possible combination of Boolean\n",
        "values for the operator and what it evaluate ).**<br>\n",
        "Ans: Here are the truth tables for each of the three main Boolean operators: and, or, and not. In these tables, True is represented as T and False is represented as F.<br>\n",
        "1.\tLogical AND (and) Truth Table:<br>\n",
        "Operand 1\tOperand 2\tResult<br>\n",
        "T\tT\tT<br>\n",
        "T\tF\tF<br>\n",
        "F\tT\tF<br>\n",
        "F\tF\tF<br>\n",
        "2.\tLogical OR (or) Truth Table:<br>\n",
        "Operand 1\tOperand 2\tResult<br>\n",
        "T\tT\tT<br>\n",
        "T\tF\tT<br>\n",
        "F\tT\tT<br>\n",
        "F\tF\tF<br>\n",
        "3.\tLogical NOT (not) Truth Table:<br>\n",
        "Operand\tResult<br>\n",
        "T\tF<br>\n",
        "F\tT<br>\n",
        "These truth tables show the possible combinations of Boolean values for each operator and the resulting Boolean value when the operator is applied to those operands.\n"
      ],
      "metadata": {
        "id": "YCaXZMvD2GMN"
      }
    },
    {
      "cell_type": "markdown",
      "source": [
        "4. What are the values of the following expressions?<br>\n",
        "(5 > 4) and (3 == 5)<br>\n",
        "not (5 > 4)<br>\n",
        "(5 > 4) or (3 == 5)<br>\n",
        "not ((5 > 4) or (3 == 5))<br>\n",
        "(True and True) and (True == False)<br>\n",
        "(not False) or (not True)<br>\n",
        "Ans: The values of the following expressions\n"
      ],
      "metadata": {
        "id": "LcKTYo_G2xPx"
      }
    },
    {
      "cell_type": "code",
      "source": [
        "(5>4) and (3==4)\n"
      ],
      "metadata": {
        "colab": {
          "base_uri": "https://localhost:8080/"
        },
        "id": "9kTrNXbLyNab",
        "outputId": "ffaa716c-feef-494f-db83-837d5f568348"
      },
      "execution_count": 1,
      "outputs": [
        {
          "output_type": "execute_result",
          "data": {
            "text/plain": [
              "False"
            ]
          },
          "metadata": {},
          "execution_count": 1
        }
      ]
    },
    {
      "cell_type": "code",
      "source": [
        "(5>4) or (3==4)"
      ],
      "metadata": {
        "colab": {
          "base_uri": "https://localhost:8080/"
        },
        "id": "AR1GV0Ssy2gF",
        "outputId": "2a003120-ac5e-4421-e126-b9e7e15be1f3"
      },
      "execution_count": 2,
      "outputs": [
        {
          "output_type": "execute_result",
          "data": {
            "text/plain": [
              "True"
            ]
          },
          "metadata": {},
          "execution_count": 2
        }
      ]
    },
    {
      "cell_type": "code",
      "source": [
        "not ((5>4) or (3==4))"
      ],
      "metadata": {
        "colab": {
          "base_uri": "https://localhost:8080/"
        },
        "id": "zTEKfIV5y9pj",
        "outputId": "7fdc3fce-d22b-4fda-9908-a39030f5df0b"
      },
      "execution_count": 3,
      "outputs": [
        {
          "output_type": "execute_result",
          "data": {
            "text/plain": [
              "False"
            ]
          },
          "metadata": {},
          "execution_count": 3
        }
      ]
    },
    {
      "cell_type": "code",
      "source": [
        "(True and True) and (True==False)"
      ],
      "metadata": {
        "colab": {
          "base_uri": "https://localhost:8080/"
        },
        "id": "cR9IgLbGzCxL",
        "outputId": "a20ee865-eb71-4aa8-acc8-54a559ce97aa"
      },
      "execution_count": 4,
      "outputs": [
        {
          "output_type": "execute_result",
          "data": {
            "text/plain": [
              "False"
            ]
          },
          "metadata": {},
          "execution_count": 4
        }
      ]
    },
    {
      "cell_type": "code",
      "source": [
        "(not False)or (not True)"
      ],
      "metadata": {
        "colab": {
          "base_uri": "https://localhost:8080/"
        },
        "id": "bwEE692wzIW_",
        "outputId": "618de4a2-abc0-4316-92ec-6309a7f356c1"
      },
      "execution_count": 5,
      "outputs": [
        {
          "output_type": "execute_result",
          "data": {
            "text/plain": [
              "True"
            ]
          },
          "metadata": {},
          "execution_count": 5
        }
      ]
    },
    {
      "cell_type": "markdown",
      "source": [
        "**5. What are the six comparison operators?**<br>\n",
        "Ans: In Python, there are six comparison operators used to compare values and expressions. These operators return Boolean values (True or False) based on the comparison result. Here are the six comparison operators:<br>\n",
        "1.\tEqual to (==): This operator checks if two values are equal.<br>\n",
        "Example: x == y<br>\n",
        "2.\tNot equal to (!=): This operator checks if two values are not equal.\n",
        "Example: x != y<br>\n",
        "3.\tGreater than (>): This operator checks if the left operand is greater than the right operand.<br>\n",
        "Example: x > y<br>\n",
        "4.\tLess than (<): This operator checks if the left operand is less than the right operand.<br>\n",
        "Example: x < y<br>\n",
        "5.\tGreater than or equal to (>=): This operator checks if the left operand is greater than or equal to the right operand.<br>\n",
        "Example: x >= y<br>\n",
        "6.\tLess than or equal to (<=): This operator checks if the left operand is less than or equal to the right operand.<br>\n",
        "Example: x <= y<br>\n",
        "These comparison operators are used to evaluate conditions and make decisions based on the relationships between values or expressions.<br>\n",
        "**6. How do you tell the difference between the equal to and assignment operators? Describe a\n",
        "condition and when you would use one.**<br>\n",
        "Ans: The equal to operator (==) and the assignment operator (=) serve different purposes in Python, and they are used in different contexts.<br>\n",
        "1.\tEqual to Operator (==): The equal to operator is used to compare two values to determine if they are equal. It returns True if the values are equal and False otherwise.<br>\n",
        "2.\tAssignment Operator (=): The assignment operator is used to assign a value to a variable. It doesn't compare values for equality; rather, it assigns the value on the right side of the operator to the variable on the left side.<br>\n",
        "Example:<br>\n"
      ],
      "metadata": {
        "id": "bdfv-QmezL_B"
      }
    },
    {
      "cell_type": "code",
      "source": [
        "a=5"
      ],
      "metadata": {
        "id": "PRjgjbYY3pqQ"
      },
      "execution_count": 6,
      "outputs": []
    },
    {
      "cell_type": "code",
      "source": [
        "b=10\n",
        "if (a==b):\n",
        "    print(\" a and b are equal\")\n",
        "else:\n",
        "    print(\" a and b are not equal\")\n"
      ],
      "metadata": {
        "colab": {
          "base_uri": "https://localhost:8080/"
        },
        "id": "uCqdCVus4LtF",
        "outputId": "adba5c4a-3005-4f7a-c296-f5bc005cb115"
      },
      "execution_count": 8,
      "outputs": [
        {
          "output_type": "stream",
          "name": "stdout",
          "text": [
            " a and b are not equal\n"
          ]
        }
      ]
    },
    {
      "cell_type": "markdown",
      "source": [
        "**7. Identify the three blocks in this code:<br>\n",
        "spam = 0<br>\n",
        "if spam == 10:<br>\n",
        "print(‘eggs’)<br>\n",
        "if spam > 5:<br>\n",
        "print(‘bacon’)<br>\n",
        "else:<br>\n",
        "print(‘ham’)<br>\n",
        "print(‘spam’)<br>\n",
        "print(‘spam’)**<br>\n",
        "Ans: In Python, code blocks are defined by their indentation. Blocks are groups of code statements that are executed together under certain conditions. In the given code, there are three blocks: Here's a breakdown of the blocks:<br>\n",
        "1.\tBlock 1: This block contains the first if statement. However, since spam is not equal to 10, the code inside this block will not be executed.<br>\n",
        "2.\tBlock 2: This block contains the second if statement. If spam is greater than 5, the code inside this block will be executed. In the given code, the value of spam is 0, so this block will not be executed.<br>\n",
        "3.\tBlock 3: This block contains the else part of the second if statement. Since the if condition in Block 2 is not met, the else block will be executed, and \"ham\" will be printed.<br>\n",
        "The lines print('spam') are not in any specific block and will be executed after all the conditions and blocks.<br>\n",
        "Remember that in Python, the indentation is crucial for determining the scope of blocks and the flow of your code.<br>\n",
        "8. Write code that prints Hello if 1 is stored in spam, prints Howdy if 2 is stored in spam, and prints<br>\n",
        "Greetings! if anything else is stored in spam.\n",
        "Ans:The code is follows:<br>\n"
      ],
      "metadata": {
        "id": "0iXJhR7q4tNW"
      }
    },
    {
      "cell_type": "code",
      "source": [
        "spam=\"How u doin\"\n",
        "if (spam==1):\n",
        "    print(\"Hello\")\n",
        "elif (spam==2):\n",
        "    print(\"Howdy\")\n",
        "else:\n",
        "    print(\"Greetings!\")\n"
      ],
      "metadata": {
        "colab": {
          "base_uri": "https://localhost:8080/"
        },
        "id": "-3wSMMX65FL6",
        "outputId": "702d1483-ce27-41d0-8922-404e907e29d5"
      },
      "execution_count": 9,
      "outputs": [
        {
          "output_type": "stream",
          "name": "stdout",
          "text": [
            "Greetings!\n"
          ]
        }
      ]
    },
    {
      "cell_type": "markdown",
      "source": [
        "**9.If your programme is stuck in an endless loop, what keys you’ll press?**<br>\n",
        "Ans: If my Python program is stuck in an endless loop and I need to stop its execution, I would press Ctrl + C on my keyboard. This sends a keyboard interrupt signal to the running program, typically causing it to stop its execution. This method allows me to break out of the loop or terminate the program that is stuck. Just keep in mind that using a keyboard interrupt might not give the program a chance to perform necessary cleanup operations, so it's best to design code to avoid such situations.<br>\n",
        "**10. How can you tell the difference between break and continue?**<br>\n",
        "Ans: In Python, both break and continue are control flow statements used within loops to alter the flow of the program. However, they serve different purposes and have distinct effects:<br>\n",
        "**1.\tbreak Statement:** The break statement is used to exit the current loop immediately, regardless of whether the loop's condition is still satisfied or not. It terminates the loop's execution entirely and continues with the next statement after the loop.<br>\n",
        "Example:\n"
      ],
      "metadata": {
        "id": "UrnbB50g5OwP"
      }
    },
    {
      "cell_type": "code",
      "source": [
        "for i in range(5):\n",
        "    if i==3:\n",
        "        break\n",
        "    print(i)"
      ],
      "metadata": {
        "colab": {
          "base_uri": "https://localhost:8080/"
        },
        "id": "uiQPADu654Zd",
        "outputId": "5158dc7a-1c93-414c-eef7-82dbf167e993"
      },
      "execution_count": 12,
      "outputs": [
        {
          "output_type": "stream",
          "name": "stdout",
          "text": [
            "0\n",
            "1\n",
            "2\n"
          ]
        }
      ]
    },
    {
      "cell_type": "markdown",
      "source": [
        "In this example, the loop prints numbers from 0 to 2, but when i becomes 3, the break statement is encountered, causing the loop to exit.<br>\n",
        "**2.\tcontinue Statement:** The continue statement is used to skip the rest of the current iteration of the loop and proceed to the next iteration. It doesn't terminate the loop; rather, it jumps directly to the next iteration.<br>\n",
        "Example:\n"
      ],
      "metadata": {
        "id": "CTZUIrFY6TPQ"
      }
    },
    {
      "cell_type": "code",
      "source": [
        "for i in range(5):\n",
        "    if i==3:\n",
        "      continue\n",
        "    print(i)"
      ],
      "metadata": {
        "colab": {
          "base_uri": "https://localhost:8080/"
        },
        "id": "D2tViGTC6faS",
        "outputId": "fb13550b-b812-41c5-adf7-bd5c9c519bc5"
      },
      "execution_count": 13,
      "outputs": [
        {
          "output_type": "stream",
          "name": "stdout",
          "text": [
            "0\n",
            "1\n",
            "2\n",
            "4\n"
          ]
        }
      ]
    },
    {
      "cell_type": "markdown",
      "source": [
        "In this example, the loop prints numbers from 0 to 4, but when i is 3, the continue statement is encountered, causing the loop to skip the print statement for that iteration and move to the next iteration.<br>\n",
        "In summary, the key difference between break and continue is that break terminates the loop completely, while continue skips the current iteration and continues with the next iteration of the loop.<br>\n",
        "**11. In a for loop, what is the difference between range(10), range(0, 10), and range(0, 10, 1)?**<br>\n",
        "Ans: In a for loop, the expressions range(10), range(0, 10), and range(0, 10, 1) essentially have the same effect, but they differ in their syntax and the arguments they accept.<br>\n",
        "**1.\trange(10):** This form of range generates a sequence of numbers starting from 0 up to (but not including) the specified value (10 in this case). By default, range starts at 0 and has a step size of 1.<br>\n",
        "**2.\trange(0, 10):** This form of range explicitly specifies the start and end values of the sequence. It generates numbers from the start value (0) up to (but not including) the end value (10), with a default step size of 1.<br>\n",
        "**3.\trange(0, 10, 1):** This form of range specifies the start, end, and step values for the sequence. It generates numbers from the start value (0) up to (but not including) the end value (10), incrementing by the specified step value (1).<br>\n",
        "In all three cases, the loops will produce the same output, printing numbers from 0 to 9. The differences lie in how you specify the start, end, and step values when using the range() function.\n",
        "**12. Write a short program that prints the numbers 1 to 10 using a for loop. Then write an equivalent\n",
        "program that prints the numbers 1 to 10 using a while loop.**<br>\n",
        "Ans: Programs are given bellow<br>\n",
        "**Using for loop:**\n"
      ],
      "metadata": {
        "id": "ZTLbpN_x6twp"
      }
    },
    {
      "cell_type": "code",
      "source": [
        "for i in range(1,11):\n",
        "    print(i)\n"
      ],
      "metadata": {
        "colab": {
          "base_uri": "https://localhost:8080/"
        },
        "id": "1tEuyW4A7d16",
        "outputId": "9ce38252-0ce9-40fc-ba9b-96c54b7f850c"
      },
      "execution_count": 14,
      "outputs": [
        {
          "output_type": "stream",
          "name": "stdout",
          "text": [
            "1\n",
            "2\n",
            "3\n",
            "4\n",
            "5\n",
            "6\n",
            "7\n",
            "8\n",
            "9\n",
            "10\n"
          ]
        }
      ]
    },
    {
      "cell_type": "markdown",
      "source": [
        "**Using while loop**"
      ],
      "metadata": {
        "id": "sdgASast7j7R"
      }
    },
    {
      "cell_type": "code",
      "source": [
        "i=1\n",
        "while i<=10:\n",
        "    print(i)\n",
        "    i+=1\n"
      ],
      "metadata": {
        "colab": {
          "base_uri": "https://localhost:8080/"
        },
        "id": "kfTMljHJ7ngt",
        "outputId": "80237c33-3cc7-4f6d-cd61-870ccd0188a4"
      },
      "execution_count": 15,
      "outputs": [
        {
          "output_type": "stream",
          "name": "stdout",
          "text": [
            "1\n",
            "2\n",
            "3\n",
            "4\n",
            "5\n",
            "6\n",
            "7\n",
            "8\n",
            "9\n",
            "10\n"
          ]
        }
      ]
    },
    {
      "cell_type": "markdown",
      "source": [
        "**13. If you had a function named bacon() inside a module named spam, how would you call it after\n",
        "importing spam?**<br>\n",
        "Ans: If I have a function named bacon() inside a module named spam, and I've imported the spam module, I can call the bacon() function using the following syntax:<br>\n",
        "import spam spam.bacon() <br>\n",
        "Here, I'm using the module name (spam) followed by a dot (.) to access and call the function bacon() that resides within the spam module. This syntax ensures that I'm calling the bacon() function from the spam module after importing it.\n"
      ],
      "metadata": {
        "id": "FLZCHRJ77xio"
      }
    }
  ]
}