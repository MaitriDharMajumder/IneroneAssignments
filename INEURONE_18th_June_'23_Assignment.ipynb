{
  "nbformat": 4,
  "nbformat_minor": 0,
  "metadata": {
    "colab": {
      "provenance": []
    },
    "kernelspec": {
      "name": "python3",
      "display_name": "Python 3"
    },
    "language_info": {
      "name": "python"
    }
  },
  "cells": [
    {
      "cell_type": "code",
      "execution_count": null,
      "metadata": {
        "id": "_boGXNFuBcQe"
      },
      "outputs": [],
      "source": []
    },
    {
      "cell_type": "markdown",
      "source": [
        "**1. What is the role of the 'else' block in a try-except statement? Provide an example\n",
        "scenario where it would be useful.**"
      ],
      "metadata": {
        "id": "qutlIIDMBnll"
      }
    },
    {
      "cell_type": "markdown",
      "source": [
        "The else block in a try-except statement is optional and is used to specify a block of code that should be executed if no exceptions occur in the try block. In other words, the code in the else block will only run if the try block completes successfully without raising any exceptions.,<br>\n",
        "\n",
        "The else block is often used to separate the code that might raise exceptions from the code that should run only if the exceptions are not raised. It can be useful for improving the readability and structure of your code, as well as for performing actions that are contingent upon the successful execution of the try block.<br>Example"
      ],
      "metadata": {
        "id": "0VjLA8sVBth1"
      }
    },
    {
      "cell_type": "code",
      "source": [
        "try:\n",
        "    n = int(input(\"Enter a positive number: \"))\n",
        "    if n <= 0:\n",
        "        raise ValueError(\"Number must be positive\")\n",
        "except ValueError as ve:\n",
        "    print(\"Error:\", ve)\n",
        "else:\n",
        "    print(\"The square of the number is:\", n ** 2)"
      ],
      "metadata": {
        "colab": {
          "base_uri": "https://localhost:8080/"
        },
        "id": "sgyD2--5I108",
        "outputId": "dfabcae1-8591-42ef-c44d-79a8b954c351"
      },
      "execution_count": null,
      "outputs": [
        {
          "output_type": "stream",
          "name": "stdout",
          "text": [
            "Enter a positive number: 2\n",
            "The square of the number is: 4\n"
          ]
        }
      ]
    },
    {
      "cell_type": "markdown",
      "source": [
        "**2. Can a try-except block be nested inside another try-except block? Explain with an\n",
        "example.**"
      ],
      "metadata": {
        "id": "E4mbYyxfbBaN"
      }
    },
    {
      "cell_type": "markdown",
      "source": [
        "Yes, we can have nested try-except blocks in Python. This means we can place one try-except block inside another, allowing us to handle exceptions at different levels of our code. This can be useful when we want to handle exceptions in a more granular way or when we need to perform different actions based on where the exception occurs.<br>\n",
        "Example"
      ],
      "metadata": {
        "id": "Y6R0F2St-hOU"
      }
    },
    {
      "cell_type": "code",
      "source": [
        "try:\n",
        "  n1=int(input(\"Enter the numerator: \"))\n",
        "  try:\n",
        "     n2=int(input(\"Enter the denominator: \"))\n",
        "     result=n1/n2\n",
        "     print(\"the result is\",result)\n",
        "  except ZeroDivisionError:\n",
        "      print(\"the denominator can not be zero\")\n",
        "  except ValueError:\n",
        "    print(\"the denominator should be integer\")\n",
        "except ValueError:\n",
        "    print(\"the numerator should be integer\")\n"
      ],
      "metadata": {
        "colab": {
          "base_uri": "https://localhost:8080/"
        },
        "id": "u1N8C8JU-uzJ",
        "outputId": "332c645c-1fd1-4a66-f545-56d0d75e8800"
      },
      "execution_count": null,
      "outputs": [
        {
          "output_type": "stream",
          "name": "stdout",
          "text": [
            "Enter the numerator: 12\n",
            "Enter the denominator: kl\n",
            "the denominator should be integer\n"
          ]
        }
      ]
    },
    {
      "cell_type": "markdown",
      "source": [
        "In this example:<br>\n",
        "\n",
        "The outer try-except block captures a ValueError that might occur when the user enters a non-numeric value for numerator.\n",
        "Inside the outer try block, there's a nested try-except block that captures both ZeroDivisionError and ValueError exceptions that might occur when the user enters a non-numeric value or a 0 as denominator.\n",
        "If the user enters a non-numeric value for numerator, the outer except block handles it. If the user enters a 0 as denominator, the nested ZeroDivisionError block handles it. If the user enters a non-numeric value for denominator, the nested ValueError block handles it.\n",
        "\n",
        "Nesting try-except blocks allows us to handle exceptions at various levels of the program's execution and provides a more organized way to manage errors in different contexts."
      ],
      "metadata": {
        "id": "NZUsOFhoAPuy"
      }
    },
    {
      "cell_type": "markdown",
      "source": [
        "**3. How can you create a custom exception class in Python? Provide an example that\n",
        "demonstrates its usage.**"
      ],
      "metadata": {
        "id": "ndZbbL90HF53"
      }
    },
    {
      "cell_type": "markdown",
      "source": [
        "In Python, we can create custom exception classes by defining a new class that inherits from the built-in Exception class or its subclasses. Custom exception classes allow us to define our own types of exceptions with specific error messages and behaviors.<br>Example"
      ],
      "metadata": {
        "id": "C0CjM22alr3g"
      }
    },
    {
      "cell_type": "code",
      "source": [
        "class MyCustomerError(Exception):\n",
        "   \"Customer Exception class\"\n",
        "   pass\n",
        "def check_value(value):\n",
        "  if value < 0:\n",
        "     raise  MyCustomerError(\"Negative value not allowed\")\n",
        "try:\n",
        "  n=int(input(\"Enter a number: \"))\n",
        "  check_value(n)\n",
        "  print(\"value: \",n)\n",
        "except MyCustomerError as mce:\n",
        "  print(\"Error: \", mce)\n",
        "except ValueError:\n",
        "  print(\"Error: Invalid input, Please enter a number\")"
      ],
      "metadata": {
        "colab": {
          "base_uri": "https://localhost:8080/"
        },
        "id": "Rud1Qhrvl9qq",
        "outputId": "7f825e48-f280-4c50-90f0-2896b668d663"
      },
      "execution_count": null,
      "outputs": [
        {
          "output_type": "stream",
          "name": "stdout",
          "text": [
            "Enter a number: -1\n",
            "Error:  Negative value not allowed\n"
          ]
        }
      ]
    },
    {
      "cell_type": "markdown",
      "source": [
        "In this example, we define a custom exception class called MyCustomError that inherits from the Exception class. The check_value function raises this custom exception if the input value is negative.\n",
        "\n",
        "The try block takes user input and calls the check_value function. If the input value is negative, the custom exception is raised and caught by the except block for MyCustomError. Otherwise, the value is printed."
      ],
      "metadata": {
        "id": "xE7S5U4iGTdQ"
      }
    },
    {
      "cell_type": "markdown",
      "source": [
        "**4. What are some common exceptions that are built-in to Python?**"
      ],
      "metadata": {
        "id": "vr_PtXCyGVAf"
      }
    },
    {
      "cell_type": "markdown",
      "source": [
        "Python provides several built-in exceptions that cover a wide range of error scenarios. Some common built-in exceptions include:\n",
        "\n",
        "**SyntaxError:** Raised when there's a syntax error in the code.<br>\n",
        "**IndentationError:** Raised when there's an issue with the indentation of the code.<br>\n",
        "**NameError:** Raised when a local or global name is not found.<br>\n",
        "**TypeError:** Raised when an operation or function is applied to an object of an inappropriate type.<br>\n",
        "**ValueError:** Raised when a function receives an argument of the correct type but with an invalid value.<br>\n",
        "**ZeroDivisionError:** Raised when division or modulo by zero occurs.<br>\n",
        "**IndexError:** Raised when a sequence is accessed with an invalid index.<br>\n",
        "**KeyError:** Raised when a dictionary key is not found.<br>\n",
        "**FileNotFoundError:** Raised when an attempt to open a file fails.<br>\n",
        "**IOError:** Raised for various I/O (input/output) related errors.<br>\n",
        "**AssertionError:** Raised when an assert statement fails.<br>\n",
        "**ImportError:** Raised when an imported module is not found.<br>\n",
        "**AttributeError:** Raised when an attribute reference or assignment fails.<br>\n",
        "**RuntimeError:** A base class for various runtime errors that can occur.<br>\n",
        "**MemoryError:** Raised when an operation runs out of memory.<br>\n",
        "These are just a few examples of common built-in exceptions in Python. Each exception type is designed to capture specific error scenarios that might occur during program execution. By catching and handling these exceptions, you can write more robust and error-tolerant code.\n",
        "\n",
        "\n",
        "\n",
        "\n",
        "\n"
      ],
      "metadata": {
        "id": "EmW-AalHGtP9"
      }
    },
    {
      "cell_type": "markdown",
      "source": [
        "**5. What is logging in Python, and why is it important in software development?**"
      ],
      "metadata": {
        "id": "UjXKvOkVpegD"
      }
    },
    {
      "cell_type": "markdown",
      "source": [
        "Logging in Python refers to the practice of recording information about the execution of a program, such as error messages, warnings, informational messages, and debugging information, to various outputs like files, the console, or other destinations. The logging module in Python provides a flexible and powerful way to implement logging in our code.\n",
        "\n",
        "Logging is important in software development for several reasons:\n",
        "\n",
        "**Debugging and Troubleshooting:** Logging allows developers to track the flow of their program and identify issues, bugs, and unexpected behavior. By logging relevant information, developers can diagnose and fix problems more efficiently.\n",
        "\n",
        "**Error Reporting:** Logging helps in capturing errors, exceptions, and stack traces, making it easier to understand the cause of errors and their context. This information is crucial for identifying and resolving issues in a timely manner.\n",
        "\n",
        "**Monitoring and Analysis:** In production environments, logging provides insights into the health and performance of applications. By analyzing logs, developers can detect patterns, identify bottlenecks, and optimize code for better efficiency.\n",
        "\n",
        "**Audit Trails:** Logging can serve as an audit trail by recording important events and actions taken by users or systems. This is valuable for security and compliance purposes.\n",
        "\n",
        "**Documentation:** Logs can act as documentation of the program's execution, showing the sequence of actions taken during different scenarios. This documentation is helpful for understanding the program's behavior over time.\n",
        "\n",
        "**Communication:** Logs can help in communication between team members. Developers can share log files to collaborate on diagnosing issues or understanding the behavior of the code.\n",
        "\n",
        "The logging module provides various logging levels (e.g., DEBUG, INFO, WARNING, ERROR, CRITICAL) to categorize messages based on their importance. Developers can configure logging to control what information is recorded, where it's recorded, and how it's formatted.\n",
        "\n",
        "By incorporating logging into our software development process, we can enhance the reliability, maintainability, and quality of our code, making it easier to manage and troubleshoot our applications throughout their lifecycle.\n",
        "\n",
        "\n",
        "\n",
        "\n"
      ],
      "metadata": {
        "id": "dJKTOq0lxDHn"
      }
    },
    {
      "cell_type": "markdown",
      "source": [
        "**6. Explain the purpose of log levels in Python logging and provide examples of when\n",
        "each log level would be appropriate.**"
      ],
      "metadata": {
        "id": "iVkDb4eM08QB"
      }
    },
    {
      "cell_type": "markdown",
      "source": [
        "Log levels in Python logging are used to categorize log messages based on their importance and severity. Each log level corresponds to a specific level of detail and is used to control which messages are captured and displayed in the logs. Python's logging module provides several predefined log levels:\n",
        "\n",
        "**DEBUG:** The lowest log level. Used for detailed debugging information that is useful during development, typically of interest only when diagnosing problems.\n",
        " <br>Example: Printing variable values for troubleshooting.\n",
        "\n",
        "\n",
        "\n",
        "\n"
      ],
      "metadata": {
        "id": "m0e39S8b8s96"
      }
    },
    {
      "cell_type": "code",
      "source": [
        "import logging\n",
        "\n",
        "logging.basicConfig(level=logging.DEBUG)\n",
        "\n",
        "def add(x, y):\n",
        "    logging.debug('Variables are %s and %s', x, y)\n",
        "    return x + y\n",
        "\n",
        "add(5, 6)"
      ],
      "metadata": {
        "colab": {
          "base_uri": "https://localhost:8080/"
        },
        "id": "pQNXLCKBMKnT",
        "outputId": "d0134c24-7f02-44a3-9af7-8695248a3cac"
      },
      "execution_count": null,
      "outputs": [
        {
          "output_type": "execute_result",
          "data": {
            "text/plain": [
              "11"
            ]
          },
          "metadata": {},
          "execution_count": 1
        }
      ]
    },
    {
      "cell_type": "markdown",
      "source": [
        "**INFO:** Used for informational messages that indicate the progress of the program. These messages can help you track the program's execution flow that is the Confirmation that things are working as expected.\n",
        "<br> Example: Indicating the start and end of specific processes.\n",
        "\n"
      ],
      "metadata": {
        "id": "8R8QRVfRM9Aj"
      }
    },
    {
      "cell_type": "code",
      "source": [
        "import logging\n",
        "\n",
        "logging.basicConfig(level=logging.INFO)\n",
        "\n",
        "def login(user):\n",
        "    logging.info('User %s logged in', user)\n",
        "\n",
        "login('Maitri')"
      ],
      "metadata": {
        "id": "SC0nQWt6NgEa"
      },
      "execution_count": null,
      "outputs": []
    },
    {
      "cell_type": "markdown",
      "source": [
        "**WARNING:** Used to highlight potentially harmful situations that don't necessarily cause the program to crash but should be addressed.<br>\n",
        " Example: Deprecation warnings or unexpected behavior that might impact the program's results.\n",
        "\n"
      ],
      "metadata": {
        "id": "s49ej5E7N7v3"
      }
    },
    {
      "cell_type": "code",
      "source": [
        "import logging\n",
        "\n",
        "logging.basicConfig(level=logging.WARNING)\n",
        "\n",
        "def MyBalance(amount):\n",
        "    if amount < 4000:\n",
        "        logging.warning('Sorry you have Low balance: %s', amount)\n",
        "\n",
        "MyBalance(3000)"
      ],
      "metadata": {
        "colab": {
          "base_uri": "https://localhost:8080/"
        },
        "id": "dgf7doCcOPEE",
        "outputId": "87784865-993d-48a3-a81d-0167e6b465d2"
      },
      "execution_count": null,
      "outputs": [
        {
          "output_type": "stream",
          "name": "stderr",
          "text": [
            "WARNING:root:Sorry you have Low balance: 3000\n"
          ]
        }
      ]
    },
    {
      "cell_type": "markdown",
      "source": [
        "**ERROR:** Used for error messages that indicate a problem occurred that might prevent the program from continuing as expected.(More serious problem than **WARNING** that prevented the software from performing a function)<br>\n",
        " Example: Handling exceptions or failed operations.\n",
        "\n"
      ],
      "metadata": {
        "id": "g8OtTonBOVpT"
      }
    },
    {
      "cell_type": "code",
      "source": [
        "import logging\n",
        "\n",
        "logging.basicConfig(level=logging.ERROR)\n",
        "\n",
        "def LetUsDivide(n, d):\n",
        "    try:\n",
        "        result = n / d\n",
        "    except ZeroDivisionError:\n",
        "        logging.error('You are trying to divide by zero, which is not allowed')\n",
        "    else:\n",
        "        return result\n",
        "\n",
        "LetUsDivide(12, 0)"
      ],
      "metadata": {
        "colab": {
          "base_uri": "https://localhost:8080/"
        },
        "id": "9MThZlWHSCpe",
        "outputId": "ebf50381-b96a-46cc-cc11-5d89088e2c5f"
      },
      "execution_count": null,
      "outputs": [
        {
          "output_type": "stream",
          "name": "stderr",
          "text": [
            "ERROR:root:You are trying to divide by zero, which is not allowed\n"
          ]
        }
      ]
    },
    {
      "cell_type": "markdown",
      "source": [
        "**CRITICAL:** The highest log level. Used for critical errors that might lead to application failure or data loss. <br>\n",
        "Example: System-wide failures or unhandled exceptions."
      ],
      "metadata": {
        "id": "ASqEY3kKSmfn"
      }
    },
    {
      "cell_type": "code",
      "source": [
        "import logging\n",
        "\n",
        "logging.basicConfig(level=logging.CRITICAL)\n",
        "\n",
        "def LetUsCheckSystem(sys):\n",
        "    if sys != 'OK':\n",
        "        logging.critical('System failure: %s', sys)\n",
        "\n",
        "LetUsCheckSystem('You need to handle the issue now')\n"
      ],
      "metadata": {
        "colab": {
          "base_uri": "https://localhost:8080/"
        },
        "id": "IppexKU_S2Vt",
        "outputId": "29c6f26d-64b4-4fbd-e1db-304d4a32c80a"
      },
      "execution_count": null,
      "outputs": [
        {
          "output_type": "stream",
          "name": "stderr",
          "text": [
            "CRITICAL:root:System failure: You need to handle the issue now\n"
          ]
        }
      ]
    },
    {
      "cell_type": "markdown",
      "source": [
        "**7. What are log formatters in Python logging, and how can you customise the log\n",
        "message format using formatters?**"
      ],
      "metadata": {
        "id": "Eqf7YayVS4xh"
      }
    },
    {
      "cell_type": "markdown",
      "source": [
        "Log formatters in Python logging are used to customize the format of log messages that are generated by the logging module. Formatters allow us to define how log messages are structured, what information is included (such as timestamp, log level, message, etc.), and how they are presented in the log output.<br>\n",
        "\n",
        "The logging module provides a default formatter that includes the log level, timestamp, and message. However, we can create our own custom log message format using formatters to better suit our needs.<br>\n",
        "\n",
        "To customize the log message format using formatters, we can follow these steps:\n",
        "\n",
        "1.Create an instance of the logging.Formatter class.<br>2.Configure the format string by using placeholders that represent various log record attributes.<br>3.\n",
        "Associate the formatter with the appropriate handlers using the setFormatter() method.<br>Example"
      ],
      "metadata": {
        "id": "sufl62OTHkOl"
      }
    },
    {
      "cell_type": "code",
      "source": [
        "import logging\n",
        "\n",
        "# Create a custom log formatter\n",
        "log_formatter = logging.Formatter('%(asctime)s - %(levelname)s - %(message)s')\n",
        "\n",
        "# Configure the logger and add a file handler with the custom formatter\n",
        "logger = logging.getLogger('my_logger')\n",
        "logger.setLevel(logging.DEBUG)\n",
        "\n",
        "file_handler = logging.FileHandler('custom.log')\n",
        "file_handler.setFormatter(log_formatter)\n",
        "logger.addHandler(file_handler)\n",
        "\n",
        "# Log messages with the custom format\n",
        "logger.debug(\"This is a debug message\")\n",
        "logger.info(\"This is an info message\")\n",
        "logger.warning(\"This is a warning message\")\n"
      ],
      "metadata": {
        "colab": {
          "base_uri": "https://localhost:8080/"
        },
        "id": "EJnSsB6WKb82",
        "outputId": "fcbb8240-e3b1-4456-a71e-d9eb57f24104"
      },
      "execution_count": null,
      "outputs": [
        {
          "output_type": "stream",
          "name": "stderr",
          "text": [
            "DEBUG:my_logger:This is a debug message\n",
            "INFO:my_logger:This is an info message\n",
            "WARNING:my_logger:This is a warning message\n"
          ]
        }
      ]
    },
    {
      "cell_type": "markdown",
      "source": [
        "**8. How can you set up logging to capture log messages from multiple modules or\n",
        "classes in a Python application?**"
      ],
      "metadata": {
        "id": "_ido6XKxN1Ky"
      }
    },
    {
      "cell_type": "markdown",
      "source": [
        "In a Python application, we can set up logging to capture log messages from multiple modules or classes by configuring a logger hierarchy using the logging module. Each module or class can create its own logger instance, and we can set different log levels and output destinations (e.g., file, console) for each logger. Here's how we can do it:\n",
        "\n",
        "**1.Create a Custom Logger for Each Module or Class:**<br>\n",
        "In each module or class that needs logging, create a custom logger by getting an instance of the logger using logging.getLogger(__name__). The __name__ attribute ensures that each logger is named after the module or class it's in."
      ],
      "metadata": {
        "id": "R-6JMISMqP3g"
      }
    },
    {
      "cell_type": "code",
      "source": [
        "import logging\n",
        "logger=logging.getLogger(__name__)"
      ],
      "metadata": {
        "id": "fwZul1DkqsiK"
      },
      "execution_count": null,
      "outputs": []
    },
    {
      "cell_type": "markdown",
      "source": [
        "**2.Configure Logging for Each Logger:**\n",
        "Configure each logger independently by setting its log level, handlers, and formatters as needed. We can specify different log levels, handlers, and formatters for different loggers."
      ],
      "metadata": {
        "id": "u9TNul0AzQ-r"
      }
    },
    {
      "cell_type": "code",
      "source": [
        "import logging\n",
        "logger=logging.getLogger(__name__)\n",
        "logger.setLevel(logging.DEBUG)\n",
        "file_handler=logging.FileHandler(\"module.log\")\n",
        "formatter=logging.Formatter(\"%(asctime)s - %(levelname)s - %(message)s\")\n",
        "file_handler.setFormatter(formatter)\n",
        "logger.addHandler(file_handler)"
      ],
      "metadata": {
        "id": "FPlgGlp80HSP"
      },
      "execution_count": null,
      "outputs": []
    },
    {
      "cell_type": "markdown",
      "source": [
        "**3.Log Messages in the Respective Modules or Classes:**\n",
        "In each module or class, use the custom logger (logger) to log messages. we can use the logger to record messages with the desired log level."
      ],
      "metadata": {
        "id": "IpdZZakTvq_1"
      }
    },
    {
      "cell_type": "code",
      "source": [
        "logger.debug(\"Debug message\")\n",
        "logger.info(\"Information message\")\n",
        "logger.warning(\"Warning message\")\n",
        "logger.error(\"Error message\")\n",
        "logger.critical(\"Critical message\")"
      ],
      "metadata": {
        "colab": {
          "base_uri": "https://localhost:8080/"
        },
        "id": "bE3eXUrU26yO",
        "outputId": "4dae3295-9628-46f2-8a79-9abdbda1a9c1"
      },
      "execution_count": null,
      "outputs": [
        {
          "output_type": "stream",
          "name": "stderr",
          "text": [
            "DEBUG:__main__:Debug message\n",
            "INFO:__main__:Information message\n",
            "WARNING:__main__:Warning message\n",
            "ERROR:__main__:Error message\n",
            "CRITICAL:__main__:Critical message\n"
          ]
        }
      ]
    },
    {
      "cell_type": "markdown",
      "source": [
        "**4.Configure a Root Logger (Optional):**\n",
        "we can also configure a root logger to capture messages from all modules or classes that use the default logger (i.e., logging.getLogger()) without specifying a custom logger name. The root logger can be configured similarly to custom loggers."
      ],
      "metadata": {
        "id": "Z6JRuuU07j-P"
      }
    },
    {
      "cell_type": "code",
      "source": [
        "root_logger=logging.getLogger()\n",
        "root_logger.setLevel(logging.INFO)\n"
      ],
      "metadata": {
        "id": "r95zBDP_COXs"
      },
      "execution_count": null,
      "outputs": []
    },
    {
      "cell_type": "markdown",
      "source": [
        "By setting up logging in this way, we can organize and control log messages from multiple modules or classes independently. Each module or class can have its own log level, output format, and destination, making it easier to manage and troubleshoot our application."
      ],
      "metadata": {
        "id": "zYJJmEQgEj56"
      }
    },
    {
      "cell_type": "markdown",
      "source": [
        "**9. What is the difference between the logging and print statements in Python? When\n",
        "should you use logging over print statements in a real-world application?**"
      ],
      "metadata": {
        "id": "IJQiviE9EwIn"
      }
    },
    {
      "cell_type": "markdown",
      "source": [
        "Logging and print statements in Python serve different purposes, and choosing between them depends on the context and requirements of our application.\n",
        "\n",
        "**Logging:**\n",
        "\n",
        "**Purpose:** Logging is primarily used for recording and tracking the execution flow of a program. It is designed for generating log messages that provide information about the program's behavior, errors, warnings, and other relevant details.\n",
        "\n",
        "**Destination:** Log messages can be directed to various output destinations, such as files, the console, or external log aggregation systems like Splunk or ELK Stack.\n",
        "\n",
        "**Configurability:** Logging offers extensive configuration options. we can set different log levels (DEBUG, INFO, WARNING, ERROR, CRITICAL), define custom log formats, configure multiple log handlers, and specify where log messages should be sent.\n",
        "\n",
        "**Control:** we can control the log level for different parts of our code independently. This allows us to log more detailed information during development (DEBUG) and reduce verbosity in production (INFO or higher).\n",
        "\n",
        "**Severity:** Logging provides a clear distinction between different types of messages (e.g., informational, warning, error), making it easier to prioritize and filter log entries.\n",
        "\n",
        "**Print Statements:**\n",
        "\n",
        "**Purpose:** Print statements are used for displaying immediate output to the console during program execution. They are typically used for debugging and quick information display.\n",
        "\n",
        "**Destination:** Print statements send output only to the console. They are not easily redirected to other destinations or stored for later analysis.\n",
        "\n",
        "**Configurability:** Print statements have limited configurability. we can't easily control their behavior, such as enabling or disabling them selectively.\n",
        "\n",
        "**Control:** Print statements lack the ability to control their visibility based on log levels or other criteria. They are always active and produce output unless removed from the code.\n",
        "\n",
        "**Severity:** Print statements do not provide a built-in mechanism for distinguishing between different types of messages, such as errors, warnings, or informational messages.\n",
        "\n",
        "**When to Use Logging Over Print Statements in a Real-World Application:**\n",
        "\n",
        "Logging is generally preferred over print statements in real-world applications for the following reasons:\n",
        "\n",
        "**Debugging and Troubleshooting:** Logging provides a systematic way to capture information for debugging and troubleshooting, making it easier to diagnose issues in a production environment.\n",
        "\n",
        "**Maintainability:** Logging helps in maintaining a clean and organized codebase. It allows us to keep debugging and diagnostic messages in the code without cluttering the user interface.\n",
        "\n",
        "**Production Use:** Print statements are often used for debugging during development but should be removed or commented out before deploying the application to production. Logging, on the other hand, can be used in production without exposing internal details to users.\n",
        "\n",
        "**Customization:** Logging allows us to customize log output, control log levels, and direct logs to different destinations. This configurability is invaluable for managing and monitoring applications in diverse environments.\n",
        "\n",
        "**Integration:** Logs can be easily integrated with external monitoring and analysis tools, making them an essential component of application monitoring and maintenance.\n",
        "\n",
        "In summary, while print statements are useful for quick debugging and development, logging is a more robust and versatile solution for long-term application maintenance and monitoring, especially in production environments.\n",
        "\n",
        "\n",
        "\n",
        "\n",
        "\n"
      ],
      "metadata": {
        "id": "xqr4OvtBEyNQ"
      }
    },
    {
      "cell_type": "markdown",
      "source": [
        "**10. Write a Python program that logs a message to a file named \"app.log\" with the\n",
        "following requirements:<br>\n",
        "● The log message should be \"Hello, World!\"<br>\n",
        "● The log level should be set to \"INFO.\"<br>\n",
        "● The log file should append new log entries without overwriting previous ones.**"
      ],
      "metadata": {
        "id": "AlpUBGPam59o"
      }
    },
    {
      "cell_type": "code",
      "source": [
        "#importing logging module\n",
        "import logging\n",
        "#configure the logging settings\n",
        "logging.basicConfig(filename=\"app.log\",level=logging.INFO,filemode=\"a\",format=\"%(asctime)s - %(levelname)s - %(message)s\")\n",
        "#Log the message\n",
        "logging.info(\"Hello, World!\")"
      ],
      "metadata": {
        "id": "UtL6ZigHnPMk",
        "colab": {
          "base_uri": "https://localhost:8080/"
        },
        "outputId": "1cba7ea4-02cd-4962-829c-b5a4cce08542"
      },
      "execution_count": 6,
      "outputs": [
        {
          "output_type": "stream",
          "name": "stderr",
          "text": [
            "INFO:root:Hello, World!\n"
          ]
        }
      ]
    },
    {
      "cell_type": "markdown",
      "source": [
        "**11. Create a Python program that logs an error message to the console and a file named\n",
        "\"errors.log\" if an exception occurs during the program's execution. The error\n",
        "message should include the exception type and a timestamp.**"
      ],
      "metadata": {
        "id": "d_qUSLGazkrD"
      }
    },
    {
      "cell_type": "code",
      "source": [
        "#importing logging module\n",
        "import logging\n",
        "#configure the logging settings\n",
        "logging.basicConfig(level=logging.INFO,filename=\"errors.log\",filemode=\"a\",format=\"%(asctime)s - %(levelname)s - %(message)s\")\n",
        "try:\n",
        "  r=10/0\n",
        "except Exception as e:\n",
        "   #Log the exception to the console and \"errors.log\" file\n",
        "   logging.error(f\"Exception occured: {e}\",exc_info=True)\n"
      ],
      "metadata": {
        "colab": {
          "base_uri": "https://localhost:8080/"
        },
        "id": "KfoKKjqSzpKT",
        "outputId": "49b82ec5-96fc-4a74-ee93-affbdfc5fd83"
      },
      "execution_count": 7,
      "outputs": [
        {
          "output_type": "stream",
          "name": "stderr",
          "text": [
            "ERROR:root:Exception occured: division by zero\n",
            "Traceback (most recent call last):\n",
            "  File \"<ipython-input-7-103f473acf96>\", line 6, in <cell line: 5>\n",
            "    r=10/0\n",
            "ZeroDivisionError: division by zero\n"
          ]
        }
      ]
    }
  ]
}