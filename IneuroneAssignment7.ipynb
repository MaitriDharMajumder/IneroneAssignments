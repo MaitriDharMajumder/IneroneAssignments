{
  "nbformat": 4,
  "nbformat_minor": 0,
  "metadata": {
    "colab": {
      "provenance": []
    },
    "kernelspec": {
      "name": "python3",
      "display_name": "Python 3"
    },
    "language_info": {
      "name": "python"
    }
  },
  "cells": [
    {
      "cell_type": "code",
      "execution_count": null,
      "metadata": {
        "id": "yZK2SZ1QrYpU"
      },
      "outputs": [],
      "source": []
    },
    {
      "cell_type": "markdown",
      "source": [
        "**21 May<br>\n",
        "\n",
        "Python Basic - 2<br>\n",
        "\n",
        "Q.1. Create two int type variables, apply addition, subtraction, division and multiplications\n",
        "and store the results in variables. Then print the data in the following format by calling the\n",
        "variables:<br>\n",
        "First variable is __ & second variable is __.<br>\n",
        "Addition: __ + __ = __<br>\n",
        "Subtraction: __ - __ = __<br>\n",
        "Multiplication: __ * __ = __<br>\n",
        "Division: __ / __ = __**<br>\n",
        "Ans:\n"
      ],
      "metadata": {
        "id": "VAfv_HanrcpA"
      }
    },
    {
      "cell_type": "code",
      "source": [
        "def calculation():\n",
        "    n1=int(input(\"enter 1st integer variable\"))\n",
        "    n2=int(input(\"enter 2nd integer variable\"))\n",
        "    add=n1+n2\n",
        "    print(\"Addition:\",n1,\"+\",n2,\"=\",add)\n",
        "    sub=n1 - n2\n",
        "    print(\"Subtraction:\",n1,\"-\",n2,\"=\",sub)\n",
        "    mul=n1*n2\n",
        "    print(\"Multiplication:\",n1,\"*\",n2,\"=\",mul)\n",
        "    div=n1/n2\n",
        "    print(\"Division:\",n1,\"/\",n2,\"=\",div)\n",
        "\n",
        "\n",
        "calculation()\n"
      ],
      "metadata": {
        "colab": {
          "base_uri": "https://localhost:8080/"
        },
        "id": "vlP9bZR-rtfU",
        "outputId": "d03e908e-773a-46d6-9f4b-7e0c6cc29ec8"
      },
      "execution_count": 1,
      "outputs": [
        {
          "output_type": "stream",
          "name": "stdout",
          "text": [
            "enter 1st integer variable10\n",
            "enter 2nd integer variable2\n",
            "Addition: 10 + 2 = 12\n",
            "Subtraction: 10 - 2 = 8\n",
            "Multiplication: 10 * 2 = 20\n",
            "Division: 10 / 2 = 5.0\n"
          ]
        }
      ]
    },
    {
      "cell_type": "markdown",
      "source": [
        "**Q.2. What is the difference between the following operators:<br>\n",
        "(i) ‘/’ & ‘//’<br>\n",
        "(ii) ‘**’ & ‘^’**<br>\n",
        "Ans:\n",
        "(i) The Difference between '/' and '//' Operators:<br>\n",
        "•\t'/' Operator:<br> This is the division operator in Python. It performs floating-point division, which means it calculates the division and returns the result as a floating-point (decimal) number.<br>\n",
        "•\t'//' Operator: <br>This is the floor division operator in Python. It performs integer division and returns the result as an integer, discarding the decimal part.<br>\n",
        "Example:\n"
      ],
      "metadata": {
        "id": "S8dD0wjBr4ms"
      }
    },
    {
      "cell_type": "code",
      "source": [
        "10/3"
      ],
      "metadata": {
        "colab": {
          "base_uri": "https://localhost:8080/"
        },
        "id": "8ghgM7NusFLw",
        "outputId": "fbc1c275-7b04-454b-d5d1-77290337172c"
      },
      "execution_count": 3,
      "outputs": [
        {
          "output_type": "execute_result",
          "data": {
            "text/plain": [
              "3.3333333333333335"
            ]
          },
          "metadata": {},
          "execution_count": 3
        }
      ]
    },
    {
      "cell_type": "code",
      "source": [
        "10//3"
      ],
      "metadata": {
        "colab": {
          "base_uri": "https://localhost:8080/"
        },
        "id": "IUgvAAubsKtf",
        "outputId": "6e7ab6df-7915-4cf2-c4d8-5f29d2077361"
      },
      "execution_count": 4,
      "outputs": [
        {
          "output_type": "execute_result",
          "data": {
            "text/plain": [
              "3"
            ]
          },
          "metadata": {},
          "execution_count": 4
        }
      ]
    },
    {
      "cell_type": "markdown",
      "source": [
        "(ii) The Difference between ' * *' and '^' Operators:\n",
        "•\t' * *' Operator: This is the exponentiation operator in Python. It raises a number to a power. For example, x  * * y calculates x raised to the power of y.<br>\n",
        "•\t' ^ ' Operator: This is not a standard exponentiation operator in Python.<br> Instead, it is the bitwise XOR operator, used for performing bitwise XOR operations on integers.<br>\n",
        "Example:\n"
      ],
      "metadata": {
        "id": "nYVjUR-2sM6B"
      }
    },
    {
      "cell_type": "code",
      "source": [
        "5**3"
      ],
      "metadata": {
        "colab": {
          "base_uri": "https://localhost:8080/"
        },
        "id": "r-vkVVT8tGwf",
        "outputId": "929b1f41-d5bf-4f39-b871-955354780a3b"
      },
      "execution_count": 5,
      "outputs": [
        {
          "output_type": "execute_result",
          "data": {
            "text/plain": [
              "125"
            ]
          },
          "metadata": {},
          "execution_count": 5
        }
      ]
    },
    {
      "cell_type": "code",
      "source": [
        "5^3"
      ],
      "metadata": {
        "colab": {
          "base_uri": "https://localhost:8080/"
        },
        "id": "Znym2UZPtJ-u",
        "outputId": "3c9e5211-f132-427c-bb80-b551914e4677"
      },
      "execution_count": 6,
      "outputs": [
        {
          "output_type": "execute_result",
          "data": {
            "text/plain": [
              "6"
            ]
          },
          "metadata": {},
          "execution_count": 6
        }
      ]
    },
    {
      "cell_type": "markdown",
      "source": [
        "**Q.3. List the logical operators.**<br>\n",
        "Ans:\n",
        "The logical operators in Python are used to perform logical operations on boolean values (True or False). Here are the logical operators:<br>\n",
        "1.\tand:<br> Returns True if both operands are True, otherwise returns False.<br>\n",
        "2.\tor:<br> Returns True if at least one of the operands is True, otherwise returns False.<br>\n",
        "3.\tnot:<br> Returns the opposite of the operand's boolean value. If the operand is True, it returns False, and if the operand is False, it returns True.<br>\n",
        "Example\n"
      ],
      "metadata": {
        "id": "cryTh9zftPeY"
      }
    },
    {
      "cell_type": "code",
      "source": [
        "x=True\n",
        "y=False\n",
        "r_and=x and y\n",
        "r_or=x or y\n",
        "r_not= not x\n",
        "print(r_and)\n"
      ],
      "metadata": {
        "colab": {
          "base_uri": "https://localhost:8080/"
        },
        "id": "x4iO-kViteeD",
        "outputId": "d94309f0-b2a3-4bee-bfc6-9732abcb4cc7"
      },
      "execution_count": 7,
      "outputs": [
        {
          "output_type": "stream",
          "name": "stdout",
          "text": [
            "False\n"
          ]
        }
      ]
    },
    {
      "cell_type": "code",
      "source": [
        "print(r_or)"
      ],
      "metadata": {
        "colab": {
          "base_uri": "https://localhost:8080/"
        },
        "id": "-xoKlTCwtjEa",
        "outputId": "20e775bc-db72-4934-ff80-aafd5c8a7245"
      },
      "execution_count": 8,
      "outputs": [
        {
          "output_type": "stream",
          "name": "stdout",
          "text": [
            "True\n"
          ]
        }
      ]
    },
    {
      "cell_type": "code",
      "source": [
        "print(r_not)"
      ],
      "metadata": {
        "colab": {
          "base_uri": "https://localhost:8080/"
        },
        "id": "Haj6ydNptmsB",
        "outputId": "1c512583-a1d5-4675-a082-a9e7994d35a9"
      },
      "execution_count": 9,
      "outputs": [
        {
          "output_type": "stream",
          "name": "stdout",
          "text": [
            "False\n"
          ]
        }
      ]
    },
    {
      "cell_type": "markdown",
      "source": [
        "**Q.4. Explain right shift operator and left shift operator with examples.**<br>\n",
        "Ans:\n",
        "The right shift (>>) and left shift (<<) operators are bitwise operators in Python. They are used to perform bitwise shifts on binary representations of integers. These operators manipulate the bits of an integer by shifting them to the left or right.<br>\n",
        "Right Shift (>>) Operator:<br> The right shift operator shifts the bits of an integer to the right by a specified number of positions. It effectively divides the integer by 2 raised to the power of the shift amount.<br>\n",
        "Left Shift (<<) Operator: <br>The left shift operator shifts the bits of an integer to the left by a specified number of positions. It effectively multiplies the integer by 2 raised to the power of the shift amount.<br>\n",
        "Example:\n"
      ],
      "metadata": {
        "id": "onra7AgstvAx"
      }
    },
    {
      "cell_type": "code",
      "source": [
        "x=8\n",
        "shift=2\n",
        "result=x>>shift\n",
        "print(result)\n"
      ],
      "metadata": {
        "colab": {
          "base_uri": "https://localhost:8080/"
        },
        "id": "9RuTM4Hpt5IX",
        "outputId": "5013cd5e-0911-4e0c-aa49-eca24d7815cd"
      },
      "execution_count": 10,
      "outputs": [
        {
          "output_type": "stream",
          "name": "stdout",
          "text": [
            "2\n"
          ]
        }
      ]
    },
    {
      "cell_type": "code",
      "source": [
        "bin(8)"
      ],
      "metadata": {
        "colab": {
          "base_uri": "https://localhost:8080/",
          "height": 36
        },
        "id": "rPE8Evcvt_TL",
        "outputId": "ab94916b-0787-44dc-c6f2-e5efbc4ba8e3"
      },
      "execution_count": 11,
      "outputs": [
        {
          "output_type": "execute_result",
          "data": {
            "text/plain": [
              "'0b1000'"
            ],
            "application/vnd.google.colaboratory.intrinsic+json": {
              "type": "string"
            }
          },
          "metadata": {},
          "execution_count": 11
        }
      ]
    },
    {
      "cell_type": "code",
      "source": [
        "bin(2)"
      ],
      "metadata": {
        "colab": {
          "base_uri": "https://localhost:8080/",
          "height": 36
        },
        "id": "OUPQwEjhuIs6",
        "outputId": "2f8f2b98-a6ba-4572-936e-6ca23cd6f453"
      },
      "execution_count": 12,
      "outputs": [
        {
          "output_type": "execute_result",
          "data": {
            "text/plain": [
              "'0b10'"
            ],
            "application/vnd.google.colaboratory.intrinsic+json": {
              "type": "string"
            }
          },
          "metadata": {},
          "execution_count": 12
        }
      ]
    },
    {
      "cell_type": "code",
      "source": [
        "result=x<<shift\n",
        "print(result)"
      ],
      "metadata": {
        "colab": {
          "base_uri": "https://localhost:8080/"
        },
        "id": "d5ZLzdIiuKvl",
        "outputId": "150991f4-53d1-48e1-d32e-a3c55de8965b"
      },
      "execution_count": 13,
      "outputs": [
        {
          "output_type": "stream",
          "name": "stdout",
          "text": [
            "32\n"
          ]
        }
      ]
    },
    {
      "cell_type": "code",
      "source": [
        "bin(32)"
      ],
      "metadata": {
        "colab": {
          "base_uri": "https://localhost:8080/",
          "height": 36
        },
        "id": "fKSfTuEguS8n",
        "outputId": "ef74edb0-2da1-404d-b32e-9b67401ed435"
      },
      "execution_count": 14,
      "outputs": [
        {
          "output_type": "execute_result",
          "data": {
            "text/plain": [
              "'0b100000'"
            ],
            "application/vnd.google.colaboratory.intrinsic+json": {
              "type": "string"
            }
          },
          "metadata": {},
          "execution_count": 14
        }
      ]
    },
    {
      "cell_type": "markdown",
      "source": [
        "In these examples, the binary representations of the numbers are shifted to the right or left by the specified number of positions. The shifted binary values are then converted back to decimal values to get the final result.<br>\n",
        "\n",
        "**Q.5. Create a list containing int type data of length 15. Then write a code to check if 10 is present in the list or not.**<br>\n",
        "Ans:\n"
      ],
      "metadata": {
        "id": "Uz_9Vqa3uUUb"
      }
    },
    {
      "cell_type": "code",
      "source": [
        "List=[1,2,3,4,5,6,7,8,9,10,11,12,13,14,15]\n",
        "if 10 in List:\n",
        "    print(\"10 is present in the List\")\n",
        "else:\n",
        "    print(\"10 is not present in the List\")\n"
      ],
      "metadata": {
        "colab": {
          "base_uri": "https://localhost:8080/"
        },
        "id": "21xDJsuQudIW",
        "outputId": "b6de5f53-d0c3-4b37-894d-b558d6cb79fa"
      },
      "execution_count": 15,
      "outputs": [
        {
          "output_type": "stream",
          "name": "stdout",
          "text": [
            "10 is present in the List\n"
          ]
        }
      ]
    }
  ]
}