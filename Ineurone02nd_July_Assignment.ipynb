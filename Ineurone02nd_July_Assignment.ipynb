{
  "nbformat": 4,
  "nbformat_minor": 0,
  "metadata": {
    "colab": {
      "provenance": []
    },
    "kernelspec": {
      "name": "python3",
      "display_name": "Python 3"
    },
    "language_info": {
      "name": "python"
    }
  },
  "cells": [
    {
      "cell_type": "markdown",
      "source": [
        "**1. Explain what inheritance is in object-oriented programming and why it is used.**"
      ],
      "metadata": {
        "id": "HJttchXX1seI"
      }
    },
    {
      "cell_type": "markdown",
      "source": [
        "Inheritance is a fundamental concept in object-oriented programming (OOP) that allows one class (called the \"subclass\" or \"derived class\") to inherit the properties and behaviors (attributes and methods) of another class (called the \"superclass\" or \"base class\"). This mechanism facilitates code reuse and promotes a hierarchical organization of classes. Here's a more detailed explanation of inheritance and its purposes:\n",
        "\n",
        "**Reusability:** Inheritance enables us to create a new class by inheriting attributes and methods from an existing class. This means we don't have to rewrite the same code in multiple places, which promotes code reuse and maintenance. Instead, we can extend the functionality of existing classes as needed.\n",
        "\n",
        "**Hierarchy and Organization:** Inheritance allows us to create a hierarchy of classes, with more specific (sub)classes inheriting from more general (super)classes. This hierarchy reflects the \"is-a\" relationship, where a subclass is a specialized version of its superclass. For example, we might have a superclass called \"Animal\" and subclasses like \"Dog\" and \"Cat,\" which are more specialized forms of animals.\n",
        "\n",
        "**Polymorphism:** Inheritance is closely tied to polymorphism, another OOP concept. Polymorphism allows objects of different classes to be treated as objects of a common superclass. This means we can write code that works with objects at a higher level of abstraction, making our code more flexible and extensible.\n",
        "\n",
        "**Method Overriding:** Subclasses can override methods inherited from their superclass. This means a subclass can provide its own implementation of a method defined in the superclass, tailoring it to its specific needs. Method overriding is essential for achieving different behaviors in subclasses while maintaining a consistent interface.\n",
        "\n",
        "Inheritance is commonly used to model real-world relationships and hierarchies in software development. It helps create well-structured, organized, and maintainable code by promoting code reuse and ensuring a consistent structure for related classes.\n",
        "\n",
        "Example"
      ],
      "metadata": {
        "id": "Fan5NnS52ykl"
      }
    },
    {
      "cell_type": "code",
      "source": [
        "class Animal:\n",
        "    def __init__(self, name):\n",
        "        self.name = name\n",
        "\n",
        "    def sound(self):\n",
        "        pass\n",
        "\n",
        "class Dog(Animal):\n",
        "    def __init__(self, name):\n",
        "        super().__init__(name)\n",
        "\n",
        "    def sound(self):\n",
        "        print(f\"{self.name} barks.\")\n",
        "\n",
        "class Cat(Animal):\n",
        "    def __init__(self, name):\n",
        "        super().__init__(name)\n",
        "\n",
        "    def sound(self):\n",
        "        print(f\"{self.name} meows.\")"
      ],
      "metadata": {
        "id": "Yn71eFzm3bOv"
      },
      "execution_count": null,
      "outputs": []
    },
    {
      "cell_type": "code",
      "source": [
        "dog1=Dog(\"Broonie\")\n",
        "cat1=Cat(\"Mishi\")\n",
        "dog1.sound()\n",
        "cat1.sound()"
      ],
      "metadata": {
        "colab": {
          "base_uri": "https://localhost:8080/"
        },
        "id": "puYo6QqU7qes",
        "outputId": "6924d2b2-1f34-4770-fb2b-665c4169e48d"
      },
      "execution_count": null,
      "outputs": [
        {
          "output_type": "stream",
          "name": "stdout",
          "text": [
            "Broonie barks.\n",
            "Mishi meows.\n"
          ]
        }
      ]
    },
    {
      "cell_type": "markdown",
      "source": [
        "**2. Discuss the concept of single inheritance and multiple inheritance, highlighting their\n",
        "differences and advantages.**"
      ],
      "metadata": {
        "id": "91hdFDAU8Nep"
      }
    },
    {
      "cell_type": "markdown",
      "source": [
        "In object-oriented programming, inheritance is a mechanism that allows a class (called the subclass or derived class) to inherit properties and behaviors from another class (called the superclass or base class). Single inheritance and multiple inheritance are two ways to establish these relationships between classes, each with its own characteristics and advantages.\n",
        "\n",
        "**Single Inheritance:**\n",
        "\n",
        "**Definition:** Single inheritance refers to the situation where a subclass inherits from only one superclass. In other words, a class can have only one immediate parent class.\n",
        "\n",
        "**Advantages:**\n",
        "\n",
        "**Simplicity:** Single inheritance is straightforward and easy to understand. It creates a linear class hierarchy where each class has a clear parent-child relationship.<br>\n",
        "**Reduced Complexity:** With a single parent class, there's no ambiguity when accessing inherited properties or methods.<br>\n",
        "Example:"
      ],
      "metadata": {
        "id": "UA-AdWvg_rxz"
      }
    },
    {
      "cell_type": "code",
      "source": [
        "class Animal:\n",
        "    def __init__(self, name):\n",
        "        self.name = name\n",
        "\n",
        "    def sound(self):\n",
        "        pass\n",
        "\n",
        "class Dog(Animal):\n",
        "    def __init__(self, name):\n",
        "        super().__init__(name)\n",
        "\n",
        "    def sound(self):\n",
        "        print(f\"{self.name} barks.\")\n",
        "\n",
        "class Cat(Animal):\n",
        "    def __init__(self, name):\n",
        "        super().__init__(name)\n",
        "\n",
        "    def sound(self):\n",
        "        print(f\"{self.name} meows.\")"
      ],
      "metadata": {
        "id": "Rt1C7OMNrYrE"
      },
      "execution_count": null,
      "outputs": []
    },
    {
      "cell_type": "code",
      "source": [
        "dog1=Dog(\"Broonie\")\n",
        "cat1=Cat(\"Mishi\")\n",
        "dog1.sound()\n",
        "cat1.sound()"
      ],
      "metadata": {
        "colab": {
          "base_uri": "https://localhost:8080/"
        },
        "id": "zFOslcTErkAB",
        "outputId": "e67b28ad-c2ef-4816-9641-6e8348602dfb"
      },
      "execution_count": null,
      "outputs": [
        {
          "output_type": "stream",
          "name": "stdout",
          "text": [
            "Broonie barks.\n",
            "Mishi meows.\n"
          ]
        }
      ]
    },
    {
      "cell_type": "markdown",
      "source": [
        "**Multiple Inheritance:**\n",
        "\n",
        "**Definition:** Multiple inheritance allows a subclass to inherit from more than one superclass simultaneously. This means a class can have multiple parent classes, which introduces a more complex hierarchy.\n",
        "\n",
        "**Advantages:**\n",
        "\n",
        "**Reusability:** Multiple inheritance allows you to inherit and reuse code from multiple sources, promoting code reuse and reducing duplication.<br>\n",
        "**Flexibility:** It enables you to model complex relationships between classes, where a subclass may combine features and behaviors from multiple superclasses.<br>\n",
        "**Specialization:** You can create highly specialized classes by inheriting from several classes with different functionalities.<br>\n",
        "Example:"
      ],
      "metadata": {
        "id": "Ugzzi3NTrn0K"
      }
    },
    {
      "cell_type": "code",
      "source": [
        "class Bird:\n",
        "  def fly(self):\n",
        "    pass\n",
        "class Mammal:\n",
        "  def walk(self):\n",
        "    pass\n",
        "class Bat(Bird,Mammal):\n",
        "  def fly(self):\n",
        "    return \"Bat can fly\"\n",
        "  def walk(self):\n",
        "    return \"Bat can walk\""
      ],
      "metadata": {
        "id": "IIqekDWdsYQU"
      },
      "execution_count": null,
      "outputs": []
    },
    {
      "cell_type": "code",
      "source": [
        "bat1=Bat()"
      ],
      "metadata": {
        "id": "ergj9HDutUsa"
      },
      "execution_count": null,
      "outputs": []
    },
    {
      "cell_type": "code",
      "source": [
        "bat1.fly()"
      ],
      "metadata": {
        "colab": {
          "base_uri": "https://localhost:8080/",
          "height": 36
        },
        "id": "UkwyEHfztoQL",
        "outputId": "80f51ae5-c10a-457a-d8a5-a738a9ab66e9"
      },
      "execution_count": null,
      "outputs": [
        {
          "output_type": "execute_result",
          "data": {
            "text/plain": [
              "'Bat can fly'"
            ],
            "application/vnd.google.colaboratory.intrinsic+json": {
              "type": "string"
            }
          },
          "metadata": {},
          "execution_count": 8
        }
      ]
    },
    {
      "cell_type": "code",
      "source": [
        "bat1.walk()"
      ],
      "metadata": {
        "colab": {
          "base_uri": "https://localhost:8080/",
          "height": 36
        },
        "id": "edF6SO0ntxmg",
        "outputId": "a0a70e6c-8ee0-443f-f2ef-838fcea223bd"
      },
      "execution_count": null,
      "outputs": [
        {
          "output_type": "execute_result",
          "data": {
            "text/plain": [
              "'Bat can walk'"
            ],
            "application/vnd.google.colaboratory.intrinsic+json": {
              "type": "string"
            }
          },
          "metadata": {},
          "execution_count": 9
        }
      ]
    },
    {
      "cell_type": "markdown",
      "source": [
        "**Differences:**\n",
        "\n",
        "**Number of Superclasses:**\n",
        "\n",
        "**Single Inheritance:** Only one superclass.<br>\n",
        "**Multiple Inheritance:** Multiple superclasses.<br>\n",
        "**Complexity:**\n",
        "\n",
        "**Single Inheritance:** Simpler and less complex, with a linear hierarchy.\n",
        "Multiple Inheritance: More complex, as it can result in a diamond problem (ambiguity when two superclasses have a method with the same name).<br>\n",
        "**Advantages and Use Cases:**\n",
        "\n",
        "**Single Inheritance:** Useful for creating straightforward hierarchies where each class has a clear relationship and reusability is not a primary concern.<br>\n",
        "**Multiple Inheritance:** Beneficial for modeling complex relationships, code reuse, and creating highly specialized classes when carefully managed to avoid ambiguities."
      ],
      "metadata": {
        "id": "iniipeISt9vE"
      }
    },
    {
      "cell_type": "markdown",
      "source": [
        "**3. Explain the terms \"base class\" and \"derived class\" in the context of inheritance.**"
      ],
      "metadata": {
        "id": "zpDqx3UEu7L1"
      }
    },
    {
      "cell_type": "markdown",
      "source": [
        "In the context of inheritance in object-oriented programming (OOP), the terms \"base class\" and \"derived class\" are used to describe the relationship between two classes, where one class serves as the foundation for another. These terms help define the hierarchy of classes and illustrate how attributes and behaviors are shared and extended within the class structure:\n",
        "\n",
        "**Base Class (Superclass or Parent Class):**\n",
        "\n",
        "The base class, also known as the superclass or parent class, is the class that serves as the foundation for one or more other classes.<br>\n",
        "It contains a set of attributes (data members) and methods (functions) that can be inherited by one or more derived classes.<br>\n",
        "The base class defines a common set of properties or behaviors that can be shared among its derived classes.<br>\n",
        "Base classes are typically more general and represent broader concepts.<br><br>\n",
        "**Derived Class (Subclass or Child Class):**\n",
        "\n",
        "The derived class, also known as the subclass or child class, is a class that inherits attributes and methods from a base class.<br>\n",
        "It extends or specializes the functionality of the base class by adding new attributes or methods or by overriding existing ones.<br>\n",
        "The derived class inherits all the attributes and methods of the base class, allowing it to reuse and build upon the functionality of the base class.<br>\n",
        "Derived classes are often more specific and represent specialized versions of the base class.<br>Example"
      ],
      "metadata": {
        "id": "M_xSamOv7Co7"
      }
    },
    {
      "cell_type": "code",
      "source": [
        "class Animal:\n",
        "    def __init__(self, name):\n",
        "        self.name = name\n",
        "\n",
        "    def sound(self):\n",
        "        pass\n",
        "\n",
        "class Dog(Animal):\n",
        "    def __init__(self, name):\n",
        "        super().__init__(name)\n",
        "\n",
        "    def sound(self):\n",
        "        print(f\"{self.name} barks.\")\n",
        "\n",
        "class Cat(Animal):\n",
        "    def __init__(self, name):\n",
        "        super().__init__(name)\n",
        "\n",
        "    def sound(self):\n",
        "        print(f\"{self.name} meows.\")"
      ],
      "metadata": {
        "id": "fj6i3TGr7cbQ"
      },
      "execution_count": null,
      "outputs": []
    },
    {
      "cell_type": "code",
      "source": [
        "dog1=Dog(\"Broonie\")\n",
        "cat1=Cat(\"Mishi\")\n",
        "dog1.sound()\n",
        "cat1.sound()"
      ],
      "metadata": {
        "colab": {
          "base_uri": "https://localhost:8080/"
        },
        "outputId": "55581b57-44b6-42ec-ce0b-cf3f5e383ce7",
        "id": "t9Pu6rJ57jKs"
      },
      "execution_count": null,
      "outputs": [
        {
          "output_type": "stream",
          "name": "stdout",
          "text": [
            "Broonie barks.\n",
            "Mishi meows.\n"
          ]
        }
      ]
    },
    {
      "cell_type": "markdown",
      "source": [
        "In this example:\n",
        "\n",
        "Animal is the base class that defines common attributes and methods for all animals.<br>\n",
        "Dog and Cat are derived classes that inherit from the Animal base class.<br>\n",
        "Each derived class extends the functionality of Animal by providing its own implementation of the sound method to reflect the specific sound each animal makes."
      ],
      "metadata": {
        "id": "LYLFKFYb7lRr"
      }
    },
    {
      "cell_type": "markdown",
      "source": [
        "**4. What is the significance of the \"protected\" access modifier in inheritance? How does\n",
        "it differ from \"private\" and \"public\" modifiers?**"
      ],
      "metadata": {
        "id": "Kv-z0zJk7zSQ"
      }
    },
    {
      "cell_type": "markdown",
      "source": [
        "In object-oriented programming, access modifiers are keywords used to control the visibility and accessibility of class members (attributes and methods) from outside the class. The three commonly used access modifiers are \"public,\" \"private,\" and \"protected.\"\n",
        "\n",
        "**Significance of the Protected Access Modifier:**\n",
        "\n",
        "Members marked as \"protected\" are accessible within the class where they are defined and also within derived classes (subclasses) that inherit from the same base class.<br>\n",
        "In some languages, like Python, there is no strict enforcement of protected members; they are often denoted by a leading underscore (e.g., _protected_var) to indicate that they should not be accessed directly from outside the class hierarchy.<br>\n",
        "Protected members are used to allow derived classes to access and extend the behavior of the base class while still maintaining some level of encapsulation.<br><br>\n"
      ],
      "metadata": {
        "id": "2o7U2e3J7_ZE"
      }
    },
    {
      "cell_type": "code",
      "source": [
        "class MyBaseClass:\n",
        "    def __init__(self):\n",
        "        self._protected_var = 30\n",
        "\n",
        "    def _protected_method(self):\n",
        "        return \"This is a protected method.\"\n",
        "\n",
        "class MyDerivedClass(MyBaseClass):\n",
        "    def access_protected(self):\n",
        "        return self._protected_var  # Accessing protected member in the derived class\n"
      ],
      "metadata": {
        "id": "YgaYYzMO0u9a"
      },
      "execution_count": null,
      "outputs": []
    },
    {
      "cell_type": "markdown",
      "source": [
        "**Private Access Modifier:**\n",
        "\n",
        "Members marked as \"private\" are not accessible from outside the class where they are defined.<br>\n",
        "In many programming languages (e.g., Python), \"private\" members are denoted by a leading underscore (e.g., _private_var).<br>\n",
        "Private members are used to encapsulate the internal state of the class and prevent direct external access."
      ],
      "metadata": {
        "id": "tAcVrd2dSf8C"
      }
    },
    {
      "cell_type": "code",
      "source": [
        "class MyClass:\n",
        "  def __init__(self):\n",
        "    self.private_var = 20\n",
        "  def _private_method(self):\n"
      ],
      "metadata": {
        "id": "7vu6_1B8StVZ"
      },
      "execution_count": null,
      "outputs": []
    },
    {
      "cell_type": "markdown",
      "source": [
        "**Public Access Modifier:**\n",
        "\n",
        "Members marked as \"public\" are accessible from anywhere, both within and outside the class.<br>\n",
        "They have no restrictions on access, and any code that can access the object can also access its public members.<br>\n",
        "Public members are often used to provide a well-defined interface to external code.<br>"
      ],
      "metadata": {
        "id": "AG7FaaNEyCnz"
      }
    },
    {
      "cell_type": "code",
      "source": [
        "class MyClass:\n",
        "  def __init__(self):\n",
        "      self.public_var=10\n",
        "  def public_method(self):\n",
        "    return \"This is a public\""
      ],
      "metadata": {
        "id": "puOUg32BQr1F"
      },
      "execution_count": null,
      "outputs": []
    },
    {
      "cell_type": "markdown",
      "source": [
        "**Key Differences:**\n",
        "\n",
        "**Visibility:**\n",
        "\n",
        "Protected members are accessible within the class and in derived classes.<br><br>\n",
        "Private members are only accessible within the class where they are defined.<br><br>\n",
        "Public members can be accessed from anywhere.<br>\n",
        "\n",
        "**Inheritance:**\n",
        "\n",
        "Protected members are inherited by derived classes and can be accessed in the derived class code.<br><br>\n",
        "Private members are not inherited by derived classes.<br>\n",
        "\n",
        "\n",
        "**Encapsulation:**\n",
        "\n",
        "Protected members offer a compromise by allowing access to derived classes while still providing some encapsulation.<br><br>\n",
        "Private members encapsulate the internal state of the class.<br><br>\n",
        "Public members provide no encapsulation; they are fully exposed.<br>\n",
        "\n"
      ],
      "metadata": {
        "id": "HdkC_1KRVGr5"
      }
    },
    {
      "cell_type": "markdown",
      "source": [
        "**5. What is the purpose of the \"super\" keyword in inheritance? Provide an example.**"
      ],
      "metadata": {
        "id": "aEh8btvAW_4A"
      }
    },
    {
      "cell_type": "markdown",
      "source": [
        "The super keyword in inheritance is used to call a method or access a property from the parent class (superclass or base class) within the context of the derived class (subclass or child class). It is particularly useful when the derived class overrides a method from the parent class and wants to invoke the overridden method from the parent class in addition to its own implementation. The super keyword helps in achieving method overriding and maintaining a clear hierarchy in class relationships."
      ],
      "metadata": {
        "id": "9g4EiKZAAE0W"
      }
    },
    {
      "cell_type": "code",
      "source": [
        "class Animal:\n",
        "  def __init__(self, name):\n",
        "    self.name =name\n",
        "  def speak(self):\n",
        "    return f\"{self.name} makes a sound.\"\n",
        "class Dog(Animal):\n",
        "  def __init__(self, name, breed):\n",
        "    super().__init__(name)\n",
        "    self.breed = breed\n",
        "  def speak(self):\n",
        "    parent_sound = super().speak()\n",
        "    return f\"{self.name} the {self.breed} says Woof! And also, {parent_sound}\"\n"
      ],
      "metadata": {
        "id": "OxUDl6AmXCUy"
      },
      "execution_count": null,
      "outputs": []
    },
    {
      "cell_type": "code",
      "source": [
        "dog = Dog(\"Broonie\",\"Labrador\")"
      ],
      "metadata": {
        "id": "KzXVA5tMI0bR"
      },
      "execution_count": null,
      "outputs": []
    },
    {
      "cell_type": "code",
      "source": [
        "print(dog.speak())"
      ],
      "metadata": {
        "colab": {
          "base_uri": "https://localhost:8080/"
        },
        "id": "Cdp84aDdI2cS",
        "outputId": "9702b4aa-7507-45ee-eaf4-00d901084842"
      },
      "execution_count": null,
      "outputs": [
        {
          "output_type": "stream",
          "name": "stdout",
          "text": [
            "Broonie the Labrador says Woof! And also, Broonie makes a sound.\n"
          ]
        }
      ]
    },
    {
      "cell_type": "markdown",
      "source": [
        "The super keyword ensures that the overridden method in the derived class can call the method from the parent class, allowing for a combination of behaviors from both classes. This is particularly useful in situations where we want to extend the functionality of the parent class while preserving and incorporating its original behavior."
      ],
      "metadata": {
        "id": "2UYJu8ioJONM"
      }
    },
    {
      "cell_type": "markdown",
      "source": [
        "**6. Create a base class called \"Vehicle\" with attributes like \"make\", \"model\", and \"year\".\n",
        "Then, create a derived class called \"Car\" that inherits from \"Vehicle\" and adds an\n",
        "attribute called \"fuel_type\". Implement appropriate methods in both classes.**"
      ],
      "metadata": {
        "id": "ynXQbvarJwjP"
      }
    },
    {
      "cell_type": "code",
      "source": [
        "class Vehicle:\n",
        "  def __init__(self,make,model,year):\n",
        "    self.make=make\n",
        "    self.model=model\n",
        "    self.year=year\n",
        "  def display_info(self):\n",
        "      return f\"{self.year} {self.make} {self.model}\"\n",
        "class Car(Vehicle):\n",
        "  def __init__(self,make,model,year,fuel_type):\n",
        "    super().__init__(make,model,year)\n",
        "    self.fuel_type=fuel_type\n",
        "  def display_info(self):\n",
        "    vehicle_info=super().display_info()\n",
        "    return f\"{vehicle_info},Fuel Type: { self.fuel_type}\""
      ],
      "metadata": {
        "id": "QnprWBFnKfw2"
      },
      "execution_count": null,
      "outputs": []
    },
    {
      "cell_type": "code",
      "source": [
        "car=Car(\"Audi\",\"A8\",1994,\"Petrol\")"
      ],
      "metadata": {
        "id": "E99IXgwMWLdH"
      },
      "execution_count": null,
      "outputs": []
    },
    {
      "cell_type": "code",
      "source": [
        "print(car.display_info())"
      ],
      "metadata": {
        "colab": {
          "base_uri": "https://localhost:8080/"
        },
        "id": "Jdg1xhWdWnfW",
        "outputId": "d6b0fdcc-c125-4414-ba65-f47bbb1e04f9"
      },
      "execution_count": null,
      "outputs": [
        {
          "output_type": "stream",
          "name": "stdout",
          "text": [
            "1994 Audi A8,Fuel Type: Petrol\n"
          ]
        }
      ]
    },
    {
      "cell_type": "markdown",
      "source": [
        "**7. Create a base class called \"Employee\" with attributes like \"name\" and \"salary.\"\n",
        "Derive two classes, \"Manager\" and \"Developer,\" from \"Employee.\" Add an additional\n",
        "attribute called \"department\" for the \"Manager\" class and \"programming_language\"\n",
        "for the \"Developer\" class.**"
      ],
      "metadata": {
        "id": "It5EHSgBWzrD"
      }
    },
    {
      "cell_type": "code",
      "source": [
        "class Employee:\n",
        "  def __init__(self,name,salary):\n",
        "    self.name=name\n",
        "    self.salary=salary\n",
        "\n",
        "  def display_info(self):\n",
        "      return f\"Name:{self.name},Salary: {self.salary}\"\n",
        "class Maneger(Employee):\n",
        "  def __init__(self,name,salary,department):\n",
        "    super().__init__(name,salary)\n",
        "    self.department=department\n",
        "  def display_info(self):\n",
        "    employee_info=super().display_info()\n",
        "    return f\"{employee_info},Department: { self.department}\"\n",
        "class Developer(Employee):\n",
        "  def __init__(self,name,salary,programming_language):\n",
        "    super().__init__(name,salary)\n",
        "    self.programming_language=programming_language\n",
        "  def display_info(self):\n",
        "    employee_info=super().display_info()\n",
        "    return f\"{employee_info},Programming Language: {self.programming_language}\""
      ],
      "metadata": {
        "id": "fOjXPPHPZnSK"
      },
      "execution_count": null,
      "outputs": []
    },
    {
      "cell_type": "code",
      "source": [
        "maneger=Maneger(\"Sanjay Gupta\",80000,\"Google\")\n",
        "developer=Developer(\"Karthik Padmanabhan\",60000,\"Python\")"
      ],
      "metadata": {
        "id": "g-5-KXXCfuMc"
      },
      "execution_count": null,
      "outputs": []
    },
    {
      "cell_type": "code",
      "source": [
        "print(maneger.display_info())\n",
        "print(developer.display_info())"
      ],
      "metadata": {
        "colab": {
          "base_uri": "https://localhost:8080/"
        },
        "id": "QOVr152AiuvG",
        "outputId": "c9ad814d-e867-4289-f9d6-77361ea7ce05"
      },
      "execution_count": null,
      "outputs": [
        {
          "output_type": "stream",
          "name": "stdout",
          "text": [
            "Name:Sanjay Gupta,Salary: 80000,Department: Google\n",
            "Name:Karthik Padmanabhan,Salary: 60000,Programming Language: Python\n"
          ]
        }
      ]
    },
    {
      "cell_type": "markdown",
      "source": [
        "**8. Design a base class called \"Shape\" with attributes like \"colour\" and \"border_width.\"\n",
        "Create derived classes, \"Rectangle\" and \"Circle,\" that inherit from \"Shape\" and add\n",
        "specific attributes like \"length\" and \"width\" for the \"Rectangle\" class and \"radius\" for\n",
        "the \"Circle\" class.**"
      ],
      "metadata": {
        "id": "d8p2UmxIkUZv"
      }
    },
    {
      "cell_type": "code",
      "source": [
        "class Shape:\n",
        "  def __init__ (self,colour,border_width):\n",
        "    self.colour=colour\n",
        "    self.border_width=border_width\n",
        "  def display_info(self):\n",
        "    return f\"Colour: {self.colour},Border Width:{self.border_width}\"\n",
        "class Rectangle(Shape):\n",
        "  def __init__(self,colour,border_width,length,width):\n",
        "    super().__init__(colour,border_width)\n",
        "    self.length=length\n",
        "    self.width=width\n",
        "  def display_info(self):\n",
        "    shape_info=super().display_info()\n",
        "    return f\"{shape_info}, Length:{self.length}, Width:{self.width}\"\n",
        "class Circle(Shape):\n",
        "  def __init__(self,colour,border_width,radius):\n",
        "    super().__init__(colour,border_width)\n",
        "    self.radius=radius\n",
        "  def display_info(self):\n",
        "      shape_info=super().display_info()\n",
        "      return f\"{shape_info},Radius:{self.radius}\"\n",
        ""
      ],
      "metadata": {
        "id": "GeehxEebj5lz"
      },
      "execution_count": 3,
      "outputs": []
    },
    {
      "cell_type": "code",
      "source": [
        "rectangle= Rectangle(\"Blue\",2,10,5)\n"
      ],
      "metadata": {
        "id": "vvmCzo6b9Ibk"
      },
      "execution_count": 4,
      "outputs": []
    },
    {
      "cell_type": "code",
      "source": [
        "circle=Circle(\"Red\",1,8)"
      ],
      "metadata": {
        "id": "OqNBh2vj9LCE"
      },
      "execution_count": 5,
      "outputs": []
    },
    {
      "cell_type": "code",
      "source": [
        "print(rectangle.display_info())"
      ],
      "metadata": {
        "colab": {
          "base_uri": "https://localhost:8080/"
        },
        "id": "CjCWnusL9SU8",
        "outputId": "90b56fdf-9e42-4d27-e26b-c5d3b0786588"
      },
      "execution_count": 6,
      "outputs": [
        {
          "output_type": "stream",
          "name": "stdout",
          "text": [
            "Colour: Blue,Border Width:2, Length:10, Width:5\n"
          ]
        }
      ]
    },
    {
      "cell_type": "code",
      "source": [
        "print(circle.display_info())"
      ],
      "metadata": {
        "colab": {
          "base_uri": "https://localhost:8080/"
        },
        "id": "DHjtOq6V9uie",
        "outputId": "fe3adf4a-f82c-445c-83ea-0566f09a5f66"
      },
      "execution_count": 7,
      "outputs": [
        {
          "output_type": "stream",
          "name": "stdout",
          "text": [
            "Colour: Red,Border Width:1,Radius:8\n"
          ]
        }
      ]
    },
    {
      "cell_type": "markdown",
      "source": [
        "**9. Create a base class called \"Device\" with attributes like \"brand\" and \"model.\" Derive\n",
        "two classes, \"Phone\" and \"Tablet,\" from \"Device.\" Add specific attributes like\n",
        "\"screen_size\" for the \"Phone\" class and \"battery_capacity\" for the \"Tablet\" class.**"
      ],
      "metadata": {
        "id": "LqS3w2Ua9-ME"
      }
    },
    {
      "cell_type": "code",
      "source": [],
      "metadata": {
        "id": "fgHfQxKP-H8n"
      },
      "execution_count": null,
      "outputs": []
    },
    {
      "cell_type": "code",
      "source": [
        "class Device:\n",
        "  def __init__ (self,brand,model):\n",
        "    self.brand=brand\n",
        "    self.model=model\n",
        "  def display_info(self):\n",
        "    return f\"Brand: {self.brand},Model:{self.model}\"\n",
        "class Phone(Device):\n",
        "  def __init__(self,brand,model,screen_size):\n",
        "    super().__init__(brand,model)\n",
        "    self.screen_size=screen_size\n",
        "\n",
        "  def display_info(self):\n",
        "    device_info=super().display_info()\n",
        "    return f\"{device_info}, Screen Size:{self.screen_size}\"\n",
        "class Tablet(Device):\n",
        "    def __init__(self, brand, model, battery_capacity):\n",
        "\n",
        "        super().__init__(brand, model)\n",
        "        self.battery_capacity = battery_capacity\n",
        "\n",
        "    def display_info(self):\n",
        "\n",
        "        device_info = super().display_info()\n",
        "        return f\"{device_info}, Battery Capacity: {self.battery_capacity}\"\n"
      ],
      "metadata": {
        "id": "fAWbQRXNC_20"
      },
      "execution_count": 3,
      "outputs": []
    },
    {
      "cell_type": "code",
      "source": [
        "phone=Phone(\"Samsung\",\"A13\",\"6.1 inches\")\n",
        "tablet=Tablet(\"Samsung\", \"Galaxy Tab S7\", \"8000 mAh\")"
      ],
      "metadata": {
        "id": "Mak9RAXCezq6"
      },
      "execution_count": 4,
      "outputs": []
    },
    {
      "cell_type": "code",
      "source": [
        "print(phone.display_info())"
      ],
      "metadata": {
        "colab": {
          "base_uri": "https://localhost:8080/"
        },
        "id": "huQp4y1RkApr",
        "outputId": "7bf58c47-deaa-48b2-e41e-0b5abf19614c"
      },
      "execution_count": 5,
      "outputs": [
        {
          "output_type": "stream",
          "name": "stdout",
          "text": [
            "Brand: Samsung,Model:A13, Screen Size:6.1 inches\n"
          ]
        }
      ]
    },
    {
      "cell_type": "code",
      "source": [
        "print(tablet.display_info())"
      ],
      "metadata": {
        "colab": {
          "base_uri": "https://localhost:8080/"
        },
        "id": "UGkXHMiqkDME",
        "outputId": "f53193be-1543-46fd-e478-f35dc142f63e"
      },
      "execution_count": 6,
      "outputs": [
        {
          "output_type": "stream",
          "name": "stdout",
          "text": [
            "Brand: Samsung,Model:Galaxy Tab S7, Battery Capacity: 8000 mAh\n"
          ]
        }
      ]
    },
    {
      "cell_type": "markdown",
      "source": [
        "**10. Create a base class called \"BankAccount\" with attributes like \"account_number\" and\n",
        "\"balance.\" Derive two classes, \"SavingsAccount\" and \"CheckingAccount,\" from\n",
        "\"BankAccount.\" Add specific methods like \"calculate_interest\" for the\n",
        "\"SavingsAccount\" class and \"deduct_fees\" for the \"CheckingAccount\" class.**"
      ],
      "metadata": {
        "id": "9NTbO87ykdy4"
      }
    },
    {
      "cell_type": "code",
      "source": [
        "class BankAccount:\n",
        "    def __init__(self, account_number, balance):\n",
        "        self.account_number = account_number\n",
        "        self.balance = balance\n",
        "\n",
        "    def display_info(self):\n",
        "        return f\"Account Number: {self.account_number}, Balance: {self.balance}\"\n",
        "\n",
        "class SavingsAccount(BankAccount):\n",
        "    def __init__(self, account_number, balance, interest_rate):\n",
        "\n",
        "        super().__init__(account_number, balance)\n",
        "        self.interest_rate = interest_rate\n",
        "\n",
        "    def calculate_interest(self):\n",
        "        interest = self.balance * (self.interest_rate / 100)\n",
        "        self.balance += interest\n",
        "        return f\"Interest calculated. New balance: {self.balance}\"\n",
        "\n",
        "class CheckingAccount(BankAccount):\n",
        "    def __init__(self, account_number, balance, fee_per_transaction):\n",
        "\n",
        "        super().__init__(account_number, balance)\n",
        "        self.fee_per_transaction = fee_per_transaction\n",
        "\n",
        "    def deduct_fees(self, num_transactions):\n",
        "        fees = self.fee_per_transaction * num_transactions\n",
        "        self.balance -= fees\n",
        "        return f\"Fees deducted. New balance: {self.balance}\""
      ],
      "metadata": {
        "id": "aEoCYJmaklP2"
      },
      "execution_count": 7,
      "outputs": []
    },
    {
      "cell_type": "code",
      "source": [
        "savings_account = SavingsAccount(\"123456\", 5000, 1.5)\n",
        "checking_account = CheckingAccount(\"789012\", 7000, 2)"
      ],
      "metadata": {
        "id": "q42WX5GxlqCu"
      },
      "execution_count": 8,
      "outputs": []
    },
    {
      "cell_type": "code",
      "source": [
        "print(savings_account.calculate_interest())"
      ],
      "metadata": {
        "colab": {
          "base_uri": "https://localhost:8080/"
        },
        "id": "k8qSbUEGl55j",
        "outputId": "3e6fd226-26e6-450c-fa00-5e13c7493da0"
      },
      "execution_count": 9,
      "outputs": [
        {
          "output_type": "stream",
          "name": "stdout",
          "text": [
            "Interest calculated. New balance: 5075.0\n"
          ]
        }
      ]
    },
    {
      "cell_type": "code",
      "source": [
        "print(checking_account.deduct_fees(3))"
      ],
      "metadata": {
        "colab": {
          "base_uri": "https://localhost:8080/"
        },
        "id": "1w1J-u9bl_QO",
        "outputId": "687580b7-643c-426d-fd1f-da13f889537a"
      },
      "execution_count": 10,
      "outputs": [
        {
          "output_type": "stream",
          "name": "stdout",
          "text": [
            "Fees deducted. New balance: 6994\n"
          ]
        }
      ]
    }
  ]
}